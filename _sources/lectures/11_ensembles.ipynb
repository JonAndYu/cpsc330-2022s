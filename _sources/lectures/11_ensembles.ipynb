{
 "cells": [
  {
   "cell_type": "markdown",
   "metadata": {
    "slideshow": {
     "slide_type": "slide"
    }
   },
   "source": [
    "![](img/330-banner.png)"
   ]
  },
  {
   "cell_type": "markdown",
   "metadata": {
    "slideshow": {
     "slide_type": "-"
    }
   },
   "source": [
    "# Lecture 11: Ensembles\n",
    "\n",
    "UBC 2020-21\n",
    "\n",
    "Instructor: Varada Kolhatkar\n",
    "\n",
    "<blockquote>\n",
    "The interests of truth require a diversity of opinions.    \n",
    "    \n",
    "by John Stuart Mill\n",
    "</blockquote>\n",
    "\n"
   ]
  },
  {
   "cell_type": "markdown",
   "metadata": {
    "slideshow": {
     "slide_type": "skip"
    }
   },
   "source": [
    "## Imports"
   ]
  },
  {
   "cell_type": "code",
   "execution_count": 1,
   "metadata": {
    "slideshow": {
     "slide_type": "skip"
    }
   },
   "outputs": [],
   "source": [
    "import os\n",
    "\n",
    "%matplotlib inline\n",
    "import string\n",
    "import sys\n",
    "from collections import deque\n",
    "\n",
    "import matplotlib.pyplot as plt\n",
    "import numpy as np\n",
    "import pandas as pd\n",
    "\n",
    "sys.path.append(\"code/.\")\n",
    "\n",
    "from plotting_functions import *\n",
    "from sklearn import datasets\n",
    "from sklearn.compose import ColumnTransformer, make_column_transformer\n",
    "from sklearn.dummy import DummyClassifier, DummyRegressor\n",
    "from sklearn.ensemble import RandomForestClassifier, RandomForestRegressor\n",
    "from sklearn.impute import SimpleImputer\n",
    "from sklearn.linear_model import LogisticRegression\n",
    "from sklearn.model_selection import (\n",
    "    GridSearchCV,\n",
    "    RandomizedSearchCV,\n",
    "    cross_val_score,\n",
    "    cross_validate,\n",
    "    train_test_split,\n",
    ")\n",
    "from sklearn.pipeline import Pipeline, make_pipeline\n",
    "from sklearn.preprocessing import OneHotEncoder, OrdinalEncoder, StandardScaler\n",
    "from sklearn.svm import SVC, SVR\n",
    "from sklearn.tree import DecisionTreeClassifier\n",
    "from utils import *"
   ]
  },
  {
   "cell_type": "markdown",
   "metadata": {
    "slideshow": {
     "slide_type": "slide"
    }
   },
   "source": [
    "## Lecture plan \n",
    "\n",
    "- **A reminder to start recording.**\n",
    "- Announcements (~2 mins)\n",
    "- Live lecturing: Random forests (~20 mins)\n",
    "- Poll: Random forests (~10 mins) \n",
    "- Break (~5 mins)\n",
    "- Live lecturing: Averaging (~15 mins)\n",
    "- Live lecturing: Stacking (~15 mins)\n",
    "- Summary and wrap up (~2 mins)"
   ]
  },
  {
   "cell_type": "markdown",
   "metadata": {
    "slideshow": {
     "slide_type": "slide"
    }
   },
   "source": [
    "### Announcements\n",
    "\n",
    "- Midterm coming up soon! \n",
    "- All homework solutions (except hw5) are available on Canvas. \n",
    "- Make use of office hours and tutorials."
   ]
  },
  {
   "cell_type": "markdown",
   "metadata": {
    "slideshow": {
     "slide_type": "skip"
    }
   },
   "source": [
    "## Lecture learning objectives\n",
    "\n",
    "From this lecture, you will be able to \n",
    "\n",
    "- Use `scikit-learn`'s `RandomForestClassifier` and explain its main hyperparameters. \n",
    "- Explain randomness in random forest algorithm. \n",
    "- Use other tree-based models such as as `XGBoost` and `LGBM`.  \n",
    "- Employ ensemble classifier approaches, in particular model averaging and stacking.\n",
    "- Explain voting and stacking and the differences between them.\n",
    "- Use `scikit-learn` implementations of these ensemble methods."
   ]
  },
  {
   "cell_type": "markdown",
   "metadata": {
    "slideshow": {
     "slide_type": "slide"
    }
   },
   "source": [
    "## Motivation"
   ]
  },
  {
   "cell_type": "markdown",
   "metadata": {},
   "source": [
    "- **Ensembles** are models that combine multiple machine learning models to create more powerful models. "
   ]
  },
  {
   "cell_type": "markdown",
   "metadata": {
    "slideshow": {
     "slide_type": "slide"
    }
   },
   "source": [
    "### The Netflix prize\n",
    "\n",
    "![](img/netflix.png)\n",
    "\n",
    "[Source](https://netflixtechblog.com/netflix-recommendations-beyond-the-5-stars-part-1-55838468f429)"
   ]
  },
  {
   "cell_type": "markdown",
   "metadata": {
    "slideshow": {
     "slide_type": "slide"
    }
   },
   "source": [
    "- Most of the winning solutions for Kaggle competitions involve some kind of ensembling. For example: \n",
    "\n",
    "![](img/fraud_detection_kaggle.png)\n",
    "\n",
    "<!-- <img src=\"img/fraud_detection_kaggle.png\" width=\"600\" height=\"600\"> -->\n"
   ]
  },
  {
   "cell_type": "markdown",
   "metadata": {
    "slideshow": {
     "slide_type": "slide"
    }
   },
   "source": [
    "Key idea: Groups can often make better decisions than individuals, especially when group members are diverse enough. \n",
    "\n",
    "[The Wisdom of Crowds](http://wisdomofcrowds.blogspot.com/2009/12/introduction-part-i.html)\n",
    "\n",
    "![](img/wisdom_of_crowds.jpg)\n",
    "\n",
    "<!-- <img src=\"img/wisdom_of_crowds.jpg\" width=\"300\" height=\"300\"> -->\n"
   ]
  },
  {
   "cell_type": "markdown",
   "metadata": {
    "slideshow": {
     "slide_type": "slide"
    }
   },
   "source": [
    "### Tree-based ensemble models \n",
    "- A number of ensemble models in ML literature.\n",
    "- Most successful ones on a variety of datasets are tree-based models. \n",
    "- We'll briefly talk about two such models: \n",
    "    - Random forests\n",
    "    - Gradient boosted trees\n",
    "- We'll also talk about averaging and stacking. "
   ]
  },
  {
   "cell_type": "markdown",
   "metadata": {
    "slideshow": {
     "slide_type": "slide"
    }
   },
   "source": [
    "### Tree-based models \n",
    "\n",
    "- Decision trees models are \n",
    "    - Interpretable \n",
    "    - They can capture non-linear relationships\n",
    "    - They don't require scaling of the data and theoretically can work with categorical features. \n",
    "- But with a single decision trees are likely to overfit. "
   ]
  },
  {
   "cell_type": "markdown",
   "metadata": {
    "slideshow": {
     "slide_type": "slide"
    }
   },
   "source": [
    "- Key idea: Combine multiple trees to build stronger models.\n",
    "- These kinds of models are extremely popular in industry and machine learning competitions  "
   ]
  },
  {
   "cell_type": "markdown",
   "metadata": {
    "slideshow": {
     "slide_type": "slide"
    }
   },
   "source": [
    "### Data\n",
    "\n",
    "- Let's work with [the adult census data set](https://www.kaggle.com/uciml/adult-census-income). "
   ]
  },
  {
   "cell_type": "code",
   "execution_count": 2,
   "metadata": {
    "slideshow": {
     "slide_type": "-"
    }
   },
   "outputs": [
    {
     "data": {
      "text/html": [
       "<div>\n",
       "<style scoped>\n",
       "    .dataframe tbody tr th:only-of-type {\n",
       "        vertical-align: middle;\n",
       "    }\n",
       "\n",
       "    .dataframe tbody tr th {\n",
       "        vertical-align: top;\n",
       "    }\n",
       "\n",
       "    .dataframe thead th {\n",
       "        text-align: right;\n",
       "    }\n",
       "</style>\n",
       "<table border=\"1\" class=\"dataframe\">\n",
       "  <thead>\n",
       "    <tr style=\"text-align: right;\">\n",
       "      <th></th>\n",
       "      <th>age</th>\n",
       "      <th>workclass</th>\n",
       "      <th>fnlwgt</th>\n",
       "      <th>education</th>\n",
       "      <th>education.num</th>\n",
       "      <th>marital.status</th>\n",
       "      <th>occupation</th>\n",
       "      <th>relationship</th>\n",
       "      <th>race</th>\n",
       "      <th>sex</th>\n",
       "      <th>capital.gain</th>\n",
       "      <th>capital.loss</th>\n",
       "      <th>hours.per.week</th>\n",
       "      <th>native.country</th>\n",
       "      <th>income</th>\n",
       "    </tr>\n",
       "  </thead>\n",
       "  <tbody>\n",
       "    <tr>\n",
       "      <th>5514</th>\n",
       "      <td>26</td>\n",
       "      <td>Private</td>\n",
       "      <td>256263</td>\n",
       "      <td>HS-grad</td>\n",
       "      <td>9</td>\n",
       "      <td>Never-married</td>\n",
       "      <td>Craft-repair</td>\n",
       "      <td>Not-in-family</td>\n",
       "      <td>White</td>\n",
       "      <td>Male</td>\n",
       "      <td>0</td>\n",
       "      <td>0</td>\n",
       "      <td>25</td>\n",
       "      <td>United-States</td>\n",
       "      <td>&lt;=50K</td>\n",
       "    </tr>\n",
       "    <tr>\n",
       "      <th>19777</th>\n",
       "      <td>24</td>\n",
       "      <td>Private</td>\n",
       "      <td>170277</td>\n",
       "      <td>HS-grad</td>\n",
       "      <td>9</td>\n",
       "      <td>Never-married</td>\n",
       "      <td>Other-service</td>\n",
       "      <td>Not-in-family</td>\n",
       "      <td>White</td>\n",
       "      <td>Female</td>\n",
       "      <td>0</td>\n",
       "      <td>0</td>\n",
       "      <td>35</td>\n",
       "      <td>United-States</td>\n",
       "      <td>&lt;=50K</td>\n",
       "    </tr>\n",
       "    <tr>\n",
       "      <th>10781</th>\n",
       "      <td>36</td>\n",
       "      <td>Private</td>\n",
       "      <td>75826</td>\n",
       "      <td>Bachelors</td>\n",
       "      <td>13</td>\n",
       "      <td>Divorced</td>\n",
       "      <td>Adm-clerical</td>\n",
       "      <td>Unmarried</td>\n",
       "      <td>White</td>\n",
       "      <td>Female</td>\n",
       "      <td>0</td>\n",
       "      <td>0</td>\n",
       "      <td>40</td>\n",
       "      <td>United-States</td>\n",
       "      <td>&lt;=50K</td>\n",
       "    </tr>\n",
       "    <tr>\n",
       "      <th>32240</th>\n",
       "      <td>22</td>\n",
       "      <td>State-gov</td>\n",
       "      <td>24395</td>\n",
       "      <td>Some-college</td>\n",
       "      <td>10</td>\n",
       "      <td>Married-civ-spouse</td>\n",
       "      <td>Adm-clerical</td>\n",
       "      <td>Wife</td>\n",
       "      <td>White</td>\n",
       "      <td>Female</td>\n",
       "      <td>0</td>\n",
       "      <td>0</td>\n",
       "      <td>20</td>\n",
       "      <td>United-States</td>\n",
       "      <td>&lt;=50K</td>\n",
       "    </tr>\n",
       "    <tr>\n",
       "      <th>9876</th>\n",
       "      <td>31</td>\n",
       "      <td>Local-gov</td>\n",
       "      <td>356689</td>\n",
       "      <td>Bachelors</td>\n",
       "      <td>13</td>\n",
       "      <td>Married-civ-spouse</td>\n",
       "      <td>Prof-specialty</td>\n",
       "      <td>Husband</td>\n",
       "      <td>White</td>\n",
       "      <td>Male</td>\n",
       "      <td>0</td>\n",
       "      <td>0</td>\n",
       "      <td>40</td>\n",
       "      <td>United-States</td>\n",
       "      <td>&lt;=50K</td>\n",
       "    </tr>\n",
       "  </tbody>\n",
       "</table>\n",
       "</div>"
      ],
      "text/plain": [
       "       age  workclass  fnlwgt     education  education.num  \\\n",
       "5514    26    Private  256263       HS-grad              9   \n",
       "19777   24    Private  170277       HS-grad              9   \n",
       "10781   36    Private   75826     Bachelors             13   \n",
       "32240   22  State-gov   24395  Some-college             10   \n",
       "9876    31  Local-gov  356689     Bachelors             13   \n",
       "\n",
       "           marital.status      occupation   relationship   race     sex  \\\n",
       "5514        Never-married    Craft-repair  Not-in-family  White    Male   \n",
       "19777       Never-married   Other-service  Not-in-family  White  Female   \n",
       "10781            Divorced    Adm-clerical      Unmarried  White  Female   \n",
       "32240  Married-civ-spouse    Adm-clerical           Wife  White  Female   \n",
       "9876   Married-civ-spouse  Prof-specialty        Husband  White    Male   \n",
       "\n",
       "       capital.gain  capital.loss  hours.per.week native.country income  \n",
       "5514              0             0              25  United-States  <=50K  \n",
       "19777             0             0              35  United-States  <=50K  \n",
       "10781             0             0              40  United-States  <=50K  \n",
       "32240             0             0              20  United-States  <=50K  \n",
       "9876              0             0              40  United-States  <=50K  "
      ]
     },
     "execution_count": 2,
     "metadata": {},
     "output_type": "execute_result"
    }
   ],
   "source": [
    "adult_df_large = pd.read_csv(\"data/adult.csv\")\n",
    "train_df, test_df = train_test_split(adult_df_large, test_size=0.2, random_state=42)\n",
    "train_df_nan = train_df.replace(\"?\", np.NaN)\n",
    "test_df_nan = test_df.replace(\"?\", np.NaN)\n",
    "train_df_nan.head()"
   ]
  },
  {
   "cell_type": "code",
   "execution_count": 3,
   "metadata": {
    "slideshow": {
     "slide_type": "slide"
    }
   },
   "outputs": [],
   "source": [
    "numeric_features = [\"age\", \"fnlwgt\", \"capital.gain\", \"capital.loss\", \"hours.per.week\"]\n",
    "categorical_features = [\n",
    "    \"workclass\",\n",
    "    \"marital.status\",\n",
    "    \"occupation\",\n",
    "    \"relationship\",\n",
    "    \"native.country\",\n",
    "]\n",
    "ordinal_features = [\"education\"]\n",
    "binary_features = [\"sex\"]\n",
    "drop_features = [\"race\", \"education.num\"]\n",
    "target_column = \"income\""
   ]
  },
  {
   "cell_type": "code",
   "execution_count": 4,
   "metadata": {
    "slideshow": {
     "slide_type": "slide"
    }
   },
   "outputs": [],
   "source": [
    "education_levels = [\n",
    "    \"Preschool\",\n",
    "    \"1st-4th\",\n",
    "    \"5th-6th\",\n",
    "    \"7th-8th\",\n",
    "    \"9th\",\n",
    "    \"10th\",\n",
    "    \"11th\",\n",
    "    \"12th\",\n",
    "    \"HS-grad\",\n",
    "    \"Prof-school\",\n",
    "    \"Assoc-voc\",\n",
    "    \"Assoc-acdm\",\n",
    "    \"Some-college\",\n",
    "    \"Bachelors\",\n",
    "    \"Masters\",\n",
    "    \"Doctorate\",\n",
    "]"
   ]
  },
  {
   "cell_type": "code",
   "execution_count": 5,
   "metadata": {
    "slideshow": {
     "slide_type": "-"
    }
   },
   "outputs": [],
   "source": [
    "assert set(education_levels) == set(train_df[\"education\"].unique())"
   ]
  },
  {
   "cell_type": "code",
   "execution_count": 6,
   "metadata": {
    "slideshow": {
     "slide_type": "slide"
    }
   },
   "outputs": [],
   "source": [
    "numeric_transformer = make_pipeline(StandardScaler())\n",
    "\n",
    "ordinal_transformer = make_pipeline(\n",
    "    OrdinalEncoder(categories=[education_levels], dtype=int)\n",
    ")\n",
    "\n",
    "categorical_transformer = make_pipeline(\n",
    "    SimpleImputer(strategy=\"constant\", fill_value=\"missing\"),\n",
    "    OneHotEncoder(handle_unknown=\"ignore\", sparse=False),\n",
    ")\n",
    "\n",
    "binary_transformer = make_pipeline(\n",
    "    SimpleImputer(strategy=\"constant\", fill_value=\"missing\"),\n",
    "    OneHotEncoder(drop=\"if_binary\", dtype=int),\n",
    ")\n",
    "\n",
    "preprocessor = make_column_transformer(\n",
    "    (numeric_transformer, numeric_features),\n",
    "    (ordinal_transformer, ordinal_features),\n",
    "    (binary_transformer, binary_features),\n",
    "    (categorical_transformer, categorical_features),\n",
    "    (\"drop\", drop_features),\n",
    ")"
   ]
  },
  {
   "cell_type": "code",
   "execution_count": 7,
   "metadata": {
    "slideshow": {
     "slide_type": "slide"
    }
   },
   "outputs": [],
   "source": [
    "X_train = train_df_nan.drop(columns=[target_column])\n",
    "y_train = train_df_nan[target_column]\n",
    "\n",
    "X_test = test_df_nan.drop(columns=[target_column])\n",
    "y_test = test_df_nan[target_column]"
   ]
  },
  {
   "cell_type": "markdown",
   "metadata": {
    "slideshow": {
     "slide_type": "slide"
    }
   },
   "source": [
    "### Do we have class imbalance? \n",
    "\n",
    "- There is class imbalance. But without any context, both classes seem equally important. \n",
    "- Let's use accuracy as our metric. "
   ]
  },
  {
   "cell_type": "code",
   "execution_count": 8,
   "metadata": {
    "slideshow": {
     "slide_type": "-"
    }
   },
   "outputs": [
    {
     "data": {
      "text/plain": [
       "<=50K    0.757985\n",
       ">50K     0.242015\n",
       "Name: income, dtype: float64"
      ]
     },
     "execution_count": 8,
     "metadata": {},
     "output_type": "execute_result"
    }
   ],
   "source": [
    "train_df_nan[\"income\"].value_counts(normalize=True)"
   ]
  },
  {
   "cell_type": "code",
   "execution_count": 9,
   "metadata": {
    "slideshow": {
     "slide_type": "-"
    }
   },
   "outputs": [],
   "source": [
    "scoring_metric = \"accuracy\""
   ]
  },
  {
   "cell_type": "markdown",
   "metadata": {
    "slideshow": {
     "slide_type": "slide"
    }
   },
   "source": [
    "Let's store all the results in a dictionary called `results`. "
   ]
  },
  {
   "cell_type": "code",
   "execution_count": 10,
   "metadata": {},
   "outputs": [],
   "source": [
    "results = {}"
   ]
  },
  {
   "cell_type": "markdown",
   "metadata": {
    "slideshow": {
     "slide_type": "slide"
    }
   },
   "source": [
    "### Baselines"
   ]
  },
  {
   "cell_type": "markdown",
   "metadata": {},
   "source": [
    "####  `DummyClassifier` baseline"
   ]
  },
  {
   "cell_type": "code",
   "execution_count": 11,
   "metadata": {},
   "outputs": [],
   "source": [
    "dummy = DummyClassifier(strategy=\"stratified\")\n",
    "results[\"Dummy\"] = mean_std_cross_val_scores(\n",
    "    dummy, X_train, y_train, return_train_score=True, scoring=scoring_metric\n",
    ")"
   ]
  },
  {
   "cell_type": "markdown",
   "metadata": {
    "slideshow": {
     "slide_type": "slide"
    }
   },
   "source": [
    "#### `DecisionTreeClassifier` baseline"
   ]
  },
  {
   "cell_type": "markdown",
   "metadata": {
    "slideshow": {
     "slide_type": "-"
    }
   },
   "source": [
    "- Let's try decision tree classifier on our data. "
   ]
  },
  {
   "cell_type": "code",
   "execution_count": 12,
   "metadata": {},
   "outputs": [
    {
     "data": {
      "text/html": [
       "<div>\n",
       "<style scoped>\n",
       "    .dataframe tbody tr th:only-of-type {\n",
       "        vertical-align: middle;\n",
       "    }\n",
       "\n",
       "    .dataframe tbody tr th {\n",
       "        vertical-align: top;\n",
       "    }\n",
       "\n",
       "    .dataframe thead th {\n",
       "        text-align: right;\n",
       "    }\n",
       "</style>\n",
       "<table border=\"1\" class=\"dataframe\">\n",
       "  <thead>\n",
       "    <tr style=\"text-align: right;\">\n",
       "      <th></th>\n",
       "      <th>fit_time</th>\n",
       "      <th>score_time</th>\n",
       "      <th>test_score</th>\n",
       "      <th>train_score</th>\n",
       "    </tr>\n",
       "  </thead>\n",
       "  <tbody>\n",
       "    <tr>\n",
       "      <th>Dummy</th>\n",
       "      <td>0.007 (+/- 0.001)</td>\n",
       "      <td>0.005 (+/- 0.000)</td>\n",
       "      <td>0.633 (+/- 0.005)</td>\n",
       "      <td>0.632 (+/- 0.003)</td>\n",
       "    </tr>\n",
       "    <tr>\n",
       "      <th>Decision tree</th>\n",
       "      <td>0.173 (+/- 0.006)</td>\n",
       "      <td>0.019 (+/- 0.001)</td>\n",
       "      <td>0.813 (+/- 0.003)</td>\n",
       "      <td>1.000 (+/- 0.000)</td>\n",
       "    </tr>\n",
       "  </tbody>\n",
       "</table>\n",
       "</div>"
      ],
      "text/plain": [
       "                        fit_time         score_time         test_score  \\\n",
       "Dummy          0.007 (+/- 0.001)  0.005 (+/- 0.000)  0.633 (+/- 0.005)   \n",
       "Decision tree  0.173 (+/- 0.006)  0.019 (+/- 0.001)  0.813 (+/- 0.003)   \n",
       "\n",
       "                     train_score  \n",
       "Dummy          0.632 (+/- 0.003)  \n",
       "Decision tree  1.000 (+/- 0.000)  "
      ]
     },
     "execution_count": 12,
     "metadata": {},
     "output_type": "execute_result"
    }
   ],
   "source": [
    "pipe_dt = make_pipeline(preprocessor, DecisionTreeClassifier(random_state=123))\n",
    "results[\"Decision tree\"] = mean_std_cross_val_scores(\n",
    "    pipe_dt, X_train, y_train, return_train_score=True, scoring=scoring_metric\n",
    ")\n",
    "pd.DataFrame(results).T"
   ]
  },
  {
   "cell_type": "markdown",
   "metadata": {},
   "source": [
    "Decision tree is clearly overfitting. "
   ]
  },
  {
   "cell_type": "markdown",
   "metadata": {},
   "source": [
    "<br><br><br><br>"
   ]
  },
  {
   "cell_type": "markdown",
   "metadata": {
    "slideshow": {
     "slide_type": "slide"
    }
   },
   "source": [
    "## Random forests "
   ]
  },
  {
   "cell_type": "markdown",
   "metadata": {
    "slideshow": {
     "slide_type": "slide"
    }
   },
   "source": [
    "### General idea\n",
    "\n",
    "- A single decision tree is likely to overfit\n",
    "- Use a collection of diverse decision trees\n",
    "- Each tree overfits on some part of the data but we can reduce overfitting by averaging the results \n",
    "    - can be shown mathematically"
   ]
  },
  {
   "cell_type": "markdown",
   "metadata": {
    "slideshow": {
     "slide_type": "slide"
    }
   },
   "source": [
    "### `RandomForestClassifier` \n",
    "\n",
    "- Before understanding the details let's first try it out.  "
   ]
  },
  {
   "cell_type": "code",
   "execution_count": 13,
   "metadata": {},
   "outputs": [
    {
     "data": {
      "text/html": [
       "<div>\n",
       "<style scoped>\n",
       "    .dataframe tbody tr th:only-of-type {\n",
       "        vertical-align: middle;\n",
       "    }\n",
       "\n",
       "    .dataframe tbody tr th {\n",
       "        vertical-align: top;\n",
       "    }\n",
       "\n",
       "    .dataframe thead th {\n",
       "        text-align: right;\n",
       "    }\n",
       "</style>\n",
       "<table border=\"1\" class=\"dataframe\">\n",
       "  <thead>\n",
       "    <tr style=\"text-align: right;\">\n",
       "      <th></th>\n",
       "      <th>fit_time</th>\n",
       "      <th>score_time</th>\n",
       "      <th>test_score</th>\n",
       "      <th>train_score</th>\n",
       "    </tr>\n",
       "  </thead>\n",
       "  <tbody>\n",
       "    <tr>\n",
       "      <th>Dummy</th>\n",
       "      <td>0.007 (+/- 0.001)</td>\n",
       "      <td>0.005 (+/- 0.000)</td>\n",
       "      <td>0.633 (+/- 0.005)</td>\n",
       "      <td>0.632 (+/- 0.003)</td>\n",
       "    </tr>\n",
       "    <tr>\n",
       "      <th>Decision tree</th>\n",
       "      <td>0.173 (+/- 0.006)</td>\n",
       "      <td>0.019 (+/- 0.001)</td>\n",
       "      <td>0.813 (+/- 0.003)</td>\n",
       "      <td>1.000 (+/- 0.000)</td>\n",
       "    </tr>\n",
       "    <tr>\n",
       "      <th>Random forests</th>\n",
       "      <td>0.796 (+/- 0.561)</td>\n",
       "      <td>0.045 (+/- 0.002)</td>\n",
       "      <td>0.857 (+/- 0.004)</td>\n",
       "      <td>1.000 (+/- 0.000)</td>\n",
       "    </tr>\n",
       "  </tbody>\n",
       "</table>\n",
       "</div>"
      ],
      "text/plain": [
       "                         fit_time         score_time         test_score  \\\n",
       "Dummy           0.007 (+/- 0.001)  0.005 (+/- 0.000)  0.633 (+/- 0.005)   \n",
       "Decision tree   0.173 (+/- 0.006)  0.019 (+/- 0.001)  0.813 (+/- 0.003)   \n",
       "Random forests  0.796 (+/- 0.561)  0.045 (+/- 0.002)  0.857 (+/- 0.004)   \n",
       "\n",
       "                      train_score  \n",
       "Dummy           0.632 (+/- 0.003)  \n",
       "Decision tree   1.000 (+/- 0.000)  \n",
       "Random forests  1.000 (+/- 0.000)  "
      ]
     },
     "execution_count": 13,
     "metadata": {},
     "output_type": "execute_result"
    }
   ],
   "source": [
    "from sklearn.ensemble import RandomForestClassifier\n",
    "\n",
    "pipe_rf = make_pipeline(\n",
    "    preprocessor, RandomForestClassifier(random_state=123, n_jobs=-1)\n",
    ")\n",
    "results[\"Random forests\"] = mean_std_cross_val_scores(\n",
    "    pipe_rf, X_train, y_train, return_train_score=True, scoring=scoring_metric\n",
    ")\n",
    "pd.DataFrame(results).T"
   ]
  },
  {
   "cell_type": "markdown",
   "metadata": {
    "slideshow": {
     "slide_type": "-"
    }
   },
   "source": [
    "The validation scores are better although it seems likes we are still overfitting. "
   ]
  },
  {
   "cell_type": "markdown",
   "metadata": {
    "slideshow": {
     "slide_type": "slide"
    }
   },
   "source": [
    "### How do they work? \n",
    "\n",
    "- Decide how many decision trees we want to build\n",
    "    - can control with `n_estimators` hyperparameter \n",
    "- `fit` a diverse set of that many decision trees by **injecting randomness** in the classifier construction\n",
    "- `predict` by voting (classification) or averaging (regression) of predictions given by individual models"
   ]
  },
  {
   "cell_type": "markdown",
   "metadata": {
    "slideshow": {
     "slide_type": "slide"
    }
   },
   "source": [
    "### Inject randomness in the classifier construction\n",
    "\n",
    "To ensure that the trees in the random forest are different we inject randomness in two ways:  \n",
    "\n",
    "1. Data: **Build each tree on a bootstrap sample** (i.e., a sample drawn **with replacement** from the training set)\n",
    "2. Features: **At each node, select a random subset of features** (controlled by `max_features` in `scikit-learn`) and look for the best possible test involving one of these features   "
   ]
  },
  {
   "cell_type": "markdown",
   "metadata": {
    "slideshow": {
     "slide_type": "slide"
    }
   },
   "source": [
    "An example of a bootstrap samples\n",
    "Suppose this is your original dataset: [1,2,3,4]\n",
    "- a sample drawn with replacement: [1,1,3,4]\n",
    "- a sample drawn with replacement: [3,2,2,2]\n",
    "- a sample drawn with replacement: [1,2,4,4]\n",
    "- ..."
   ]
  },
  {
   "cell_type": "markdown",
   "metadata": {
    "slideshow": {
     "slide_type": "skip"
    }
   },
   "source": [
    "```{seealso}\n",
    "There is also something called [`ExtraTreesClassifier`](https://scikit-learn.org/stable/modules/generated/sklearn.ensemble.ExtraTreesClassifier.html), where we add more randomness by consider a random subset of features at each split and **random threshold**. \n",
    "```"
   ]
  },
  {
   "cell_type": "markdown",
   "metadata": {
    "slideshow": {
     "slide_type": "slide"
    }
   },
   "source": [
    "### The random forests classifier \n",
    "\n",
    "- Create a collection (ensemble) of trees. Grow each tree on an independent bootstrap sample from the data.\n",
    "- At each node:\n",
    "    - Randomly select a subset of features out of all features (independently for each node).\n",
    "    - Find the best split on the selected features. \n",
    "    - Grow the trees to maximum depth.\n",
    "    \n",
    "- Prediction time    \n",
    "    - Vote the trees to get predictions for new example. "
   ]
  },
  {
   "cell_type": "markdown",
   "metadata": {
    "slideshow": {
     "slide_type": "slide"
    }
   },
   "source": [
    "### Example \n",
    "\n",
    "- Let's create a random forest with 3 estimators. \n",
    "- I'm using `max_depth=2` for easy visualization. "
   ]
  },
  {
   "cell_type": "code",
   "execution_count": 14,
   "metadata": {
    "slideshow": {
     "slide_type": "-"
    }
   },
   "outputs": [],
   "source": [
    "pipe_rf_demo = make_pipeline(\n",
    "    preprocessor, RandomForestClassifier(max_depth=2, n_estimators=3, random_state=123)\n",
    ")\n",
    "pipe_rf_demo.fit(X_train, y_train);"
   ]
  },
  {
   "cell_type": "markdown",
   "metadata": {
    "slideshow": {
     "slide_type": "slide"
    }
   },
   "source": [
    "- Let's get the feature names of transformed features."
   ]
  },
  {
   "cell_type": "code",
   "execution_count": 15,
   "metadata": {},
   "outputs": [
    {
     "data": {
      "text/plain": [
       "['age',\n",
       " 'fnlwgt',\n",
       " 'capital.gain',\n",
       " 'capital.loss',\n",
       " 'hours.per.week',\n",
       " 'education',\n",
       " 'sex',\n",
       " 'x0_Federal-gov',\n",
       " 'x0_Local-gov',\n",
       " 'x0_Never-worked']"
      ]
     },
     "execution_count": 15,
     "metadata": {},
     "output_type": "execute_result"
    }
   ],
   "source": [
    "feature_names = (\n",
    "    numeric_features\n",
    "    + ordinal_features\n",
    "    + binary_features\n",
    "    + list(\n",
    "        pipe_rf_demo.named_steps[\"columntransformer\"]\n",
    "        .named_transformers_[\"pipeline-4\"]\n",
    "        .named_steps[\"onehotencoder\"]\n",
    "        .get_feature_names()\n",
    "    )\n",
    ")\n",
    "feature_names[:10]"
   ]
  },
  {
   "cell_type": "markdown",
   "metadata": {
    "slideshow": {
     "slide_type": "slide"
    }
   },
   "source": [
    "- Let's sample a test example. "
   ]
  },
  {
   "cell_type": "code",
   "execution_count": 16,
   "metadata": {
    "slideshow": {
     "slide_type": "-"
    }
   },
   "outputs": [
    {
     "name": "stdout",
     "output_type": "stream",
     "text": [
      "Classes:  ['<=50K' '>50K']\n",
      "Prediction by random forest:  ['<=50K']\n"
     ]
    },
    {
     "data": {
      "text/html": [
       "<div>\n",
       "<style scoped>\n",
       "    .dataframe tbody tr th:only-of-type {\n",
       "        vertical-align: middle;\n",
       "    }\n",
       "\n",
       "    .dataframe tbody tr th {\n",
       "        vertical-align: top;\n",
       "    }\n",
       "\n",
       "    .dataframe thead th {\n",
       "        text-align: right;\n",
       "    }\n",
       "</style>\n",
       "<table border=\"1\" class=\"dataframe\">\n",
       "  <thead>\n",
       "    <tr style=\"text-align: right;\">\n",
       "      <th></th>\n",
       "      <th>0</th>\n",
       "    </tr>\n",
       "  </thead>\n",
       "  <tbody>\n",
       "    <tr>\n",
       "      <th>age</th>\n",
       "      <td>-0.185975</td>\n",
       "    </tr>\n",
       "    <tr>\n",
       "      <th>fnlwgt</th>\n",
       "      <td>-0.155068</td>\n",
       "    </tr>\n",
       "    <tr>\n",
       "      <th>capital.gain</th>\n",
       "      <td>-0.147166</td>\n",
       "    </tr>\n",
       "    <tr>\n",
       "      <th>capital.loss</th>\n",
       "      <td>-0.217680</td>\n",
       "    </tr>\n",
       "    <tr>\n",
       "      <th>hours.per.week</th>\n",
       "      <td>-0.042081</td>\n",
       "    </tr>\n",
       "    <tr>\n",
       "      <th>...</th>\n",
       "      <td>...</td>\n",
       "    </tr>\n",
       "    <tr>\n",
       "      <th>x4_Trinadad&amp;Tobago</th>\n",
       "      <td>0.000000</td>\n",
       "    </tr>\n",
       "    <tr>\n",
       "      <th>x4_United-States</th>\n",
       "      <td>1.000000</td>\n",
       "    </tr>\n",
       "    <tr>\n",
       "      <th>x4_Vietnam</th>\n",
       "      <td>0.000000</td>\n",
       "    </tr>\n",
       "    <tr>\n",
       "      <th>x4_Yugoslavia</th>\n",
       "      <td>0.000000</td>\n",
       "    </tr>\n",
       "    <tr>\n",
       "      <th>x4_missing</th>\n",
       "      <td>0.000000</td>\n",
       "    </tr>\n",
       "  </tbody>\n",
       "</table>\n",
       "<p>86 rows × 1 columns</p>\n",
       "</div>"
      ],
      "text/plain": [
       "                           0\n",
       "age                -0.185975\n",
       "fnlwgt             -0.155068\n",
       "capital.gain       -0.147166\n",
       "capital.loss       -0.217680\n",
       "hours.per.week     -0.042081\n",
       "...                      ...\n",
       "x4_Trinadad&Tobago  0.000000\n",
       "x4_United-States    1.000000\n",
       "x4_Vietnam          0.000000\n",
       "x4_Yugoslavia       0.000000\n",
       "x4_missing          0.000000\n",
       "\n",
       "[86 rows x 1 columns]"
      ]
     },
     "execution_count": 16,
     "metadata": {},
     "output_type": "execute_result"
    }
   ],
   "source": [
    "test_example = X_test.sample(1)\n",
    "print(\"Classes: \", pipe_rf_demo.classes_)\n",
    "print(\"Prediction by random forest: \", pipe_rf_demo.predict(test_example))\n",
    "transformed_example = preprocessor.transform(test_example)\n",
    "pd.DataFrame(data=transformed_example.flatten(), index=feature_names)"
   ]
  },
  {
   "cell_type": "markdown",
   "metadata": {
    "slideshow": {
     "slide_type": "slide"
    }
   },
   "source": [
    "- We can look at different trees created by random forest. \n",
    "- Note that each tree looks at different set of features and slightly different data. "
   ]
  },
  {
   "cell_type": "code",
   "execution_count": 17,
   "metadata": {
    "slideshow": {
     "slide_type": "slide"
    }
   },
   "outputs": [
    {
     "name": "stdout",
     "output_type": "stream",
     "text": [
      "\n",
      "\n",
      "Tree 1\n"
     ]
    },
    {
     "data": {
      "image/svg+xml": [
       "<?xml version=\"1.0\" encoding=\"UTF-8\" standalone=\"no\"?>\n",
       "<!DOCTYPE svg PUBLIC \"-//W3C//DTD SVG 1.1//EN\"\n",
       " \"http://www.w3.org/Graphics/SVG/1.1/DTD/svg11.dtd\">\n",
       "<!-- Generated by graphviz version 2.48.0 (0)\n",
       " -->\n",
       "<!-- Title: Tree Pages: 1 -->\n",
       "<svg width=\"411pt\" height=\"192pt\"\n",
       " viewBox=\"0.00 0.00 411.00 192.00\" xmlns=\"http://www.w3.org/2000/svg\" xmlns:xlink=\"http://www.w3.org/1999/xlink\">\n",
       "<g id=\"graph0\" class=\"graph\" transform=\"scale(1 1) rotate(0) translate(4 188)\">\n",
       "<title>Tree</title>\n",
       "<polygon fill=\"white\" stroke=\"transparent\" points=\"-4,4 -4,-188 407,-188 407,4 -4,4\"/>\n",
       "<!-- 0 -->\n",
       "<g id=\"node1\" class=\"node\">\n",
       "<title>0</title>\n",
       "<polygon fill=\"none\" stroke=\"black\" points=\"294.5,-184 107.5,-184 107.5,-146 294.5,-146 294.5,-184\"/>\n",
       "<text text-anchor=\"middle\" x=\"201\" y=\"-168.8\" font-family=\"Times,serif\" font-size=\"14.00\">x1_Married&#45;civ&#45;spouse &lt;= 0.5</text>\n",
       "<text text-anchor=\"middle\" x=\"201\" y=\"-153.8\" font-family=\"Times,serif\" font-size=\"14.00\">class = 0.0</text>\n",
       "</g>\n",
       "<!-- 1 -->\n",
       "<g id=\"node2\" class=\"node\">\n",
       "<title>1</title>\n",
       "<polygon fill=\"none\" stroke=\"black\" points=\"189,-110 29,-110 29,-72 189,-72 189,-110\"/>\n",
       "<text text-anchor=\"middle\" x=\"109\" y=\"-94.8\" font-family=\"Times,serif\" font-size=\"14.00\">x1_Never&#45;married &lt;= 0.5</text>\n",
       "<text text-anchor=\"middle\" x=\"109\" y=\"-79.8\" font-family=\"Times,serif\" font-size=\"14.00\">class = 0.0</text>\n",
       "</g>\n",
       "<!-- 0&#45;&gt;1 -->\n",
       "<g id=\"edge1\" class=\"edge\">\n",
       "<title>0&#45;&gt;1</title>\n",
       "<path fill=\"none\" stroke=\"black\" d=\"M177.78,-145.83C166.45,-136.96 152.65,-126.16 140.4,-116.57\"/>\n",
       "<polygon fill=\"black\" stroke=\"black\" points=\"142.24,-113.57 132.21,-110.16 137.93,-119.08 142.24,-113.57\"/>\n",
       "<text text-anchor=\"middle\" x=\"135.23\" y=\"-131.28\" font-family=\"Times,serif\" font-size=\"14.00\">True</text>\n",
       "</g>\n",
       "<!-- 4 -->\n",
       "<g id=\"node5\" class=\"node\">\n",
       "<title>4</title>\n",
       "<polygon fill=\"none\" stroke=\"black\" points=\"380.5,-110 207.5,-110 207.5,-72 380.5,-72 380.5,-110\"/>\n",
       "<text text-anchor=\"middle\" x=\"294\" y=\"-94.8\" font-family=\"Times,serif\" font-size=\"14.00\">x2_Exec&#45;managerial &lt;= 0.5</text>\n",
       "<text text-anchor=\"middle\" x=\"294\" y=\"-79.8\" font-family=\"Times,serif\" font-size=\"14.00\">class = 0.0</text>\n",
       "</g>\n",
       "<!-- 0&#45;&gt;4 -->\n",
       "<g id=\"edge4\" class=\"edge\">\n",
       "<title>0&#45;&gt;4</title>\n",
       "<path fill=\"none\" stroke=\"black\" d=\"M224.47,-145.83C236.03,-136.88 250.14,-125.96 262.62,-116.3\"/>\n",
       "<polygon fill=\"black\" stroke=\"black\" points=\"264.78,-119.05 270.54,-110.16 260.49,-113.52 264.78,-119.05\"/>\n",
       "<text text-anchor=\"middle\" x=\"267.38\" y=\"-131.26\" font-family=\"Times,serif\" font-size=\"14.00\">False</text>\n",
       "</g>\n",
       "<!-- 2 -->\n",
       "<g id=\"node3\" class=\"node\">\n",
       "<title>2</title>\n",
       "<polygon fill=\"none\" stroke=\"black\" points=\"76,-36 0,-36 0,0 76,0 76,-36\"/>\n",
       "<text text-anchor=\"middle\" x=\"38\" y=\"-14.3\" font-family=\"Times,serif\" font-size=\"14.00\">class = 0.0</text>\n",
       "</g>\n",
       "<!-- 1&#45;&gt;2 -->\n",
       "<g id=\"edge2\" class=\"edge\">\n",
       "<title>1&#45;&gt;2</title>\n",
       "<path fill=\"none\" stroke=\"black\" d=\"M90.72,-71.72C82.03,-63.03 71.52,-52.52 62.19,-43.19\"/>\n",
       "<polygon fill=\"black\" stroke=\"black\" points=\"64.55,-40.6 55,-36 59.6,-45.55 64.55,-40.6\"/>\n",
       "</g>\n",
       "<!-- 3 -->\n",
       "<g id=\"node4\" class=\"node\">\n",
       "<title>3</title>\n",
       "<polygon fill=\"none\" stroke=\"black\" points=\"170,-36 94,-36 94,0 170,0 170,-36\"/>\n",
       "<text text-anchor=\"middle\" x=\"132\" y=\"-14.3\" font-family=\"Times,serif\" font-size=\"14.00\">class = 0.0</text>\n",
       "</g>\n",
       "<!-- 1&#45;&gt;3 -->\n",
       "<g id=\"edge3\" class=\"edge\">\n",
       "<title>1&#45;&gt;3</title>\n",
       "<path fill=\"none\" stroke=\"black\" d=\"M114.92,-71.72C117.49,-63.8 120.54,-54.38 123.35,-45.71\"/>\n",
       "<polygon fill=\"black\" stroke=\"black\" points=\"126.74,-46.6 126.49,-36 120.08,-44.44 126.74,-46.6\"/>\n",
       "</g>\n",
       "<!-- 5 -->\n",
       "<g id=\"node6\" class=\"node\">\n",
       "<title>5</title>\n",
       "<polygon fill=\"none\" stroke=\"black\" points=\"309,-36 233,-36 233,0 309,0 309,-36\"/>\n",
       "<text text-anchor=\"middle\" x=\"271\" y=\"-14.3\" font-family=\"Times,serif\" font-size=\"14.00\">class = 0.0</text>\n",
       "</g>\n",
       "<!-- 4&#45;&gt;5 -->\n",
       "<g id=\"edge5\" class=\"edge\">\n",
       "<title>4&#45;&gt;5</title>\n",
       "<path fill=\"none\" stroke=\"black\" d=\"M288.08,-71.72C285.51,-63.8 282.46,-54.38 279.65,-45.71\"/>\n",
       "<polygon fill=\"black\" stroke=\"black\" points=\"282.92,-44.44 276.51,-36 276.26,-46.6 282.92,-44.44\"/>\n",
       "</g>\n",
       "<!-- 6 -->\n",
       "<g id=\"node7\" class=\"node\">\n",
       "<title>6</title>\n",
       "<polygon fill=\"none\" stroke=\"black\" points=\"403,-36 327,-36 327,0 403,0 403,-36\"/>\n",
       "<text text-anchor=\"middle\" x=\"365\" y=\"-14.3\" font-family=\"Times,serif\" font-size=\"14.00\">class = 1.0</text>\n",
       "</g>\n",
       "<!-- 4&#45;&gt;6 -->\n",
       "<g id=\"edge6\" class=\"edge\">\n",
       "<title>4&#45;&gt;6</title>\n",
       "<path fill=\"none\" stroke=\"black\" d=\"M312.28,-71.72C320.97,-63.03 331.48,-52.52 340.81,-43.19\"/>\n",
       "<polygon fill=\"black\" stroke=\"black\" points=\"343.4,-45.55 348,-36 338.45,-40.6 343.4,-45.55\"/>\n",
       "</g>\n",
       "</g>\n",
       "</svg>\n"
      ],
      "text/plain": [
       "<graphviz.files.Source at 0x13a3425e0>"
      ]
     },
     "metadata": {},
     "output_type": "display_data"
    },
    {
     "name": "stdout",
     "output_type": "stream",
     "text": [
      "prediction [0.]\n",
      "\n",
      "\n",
      "Tree 2\n"
     ]
    },
    {
     "data": {
      "image/svg+xml": [
       "<?xml version=\"1.0\" encoding=\"UTF-8\" standalone=\"no\"?>\n",
       "<!DOCTYPE svg PUBLIC \"-//W3C//DTD SVG 1.1//EN\"\n",
       " \"http://www.w3.org/Graphics/SVG/1.1/DTD/svg11.dtd\">\n",
       "<!-- Generated by graphviz version 2.48.0 (0)\n",
       " -->\n",
       "<!-- Title: Tree Pages: 1 -->\n",
       "<svg width=\"392pt\" height=\"192pt\"\n",
       " viewBox=\"0.00 0.00 392.00 192.00\" xmlns=\"http://www.w3.org/2000/svg\" xmlns:xlink=\"http://www.w3.org/1999/xlink\">\n",
       "<g id=\"graph0\" class=\"graph\" transform=\"scale(1 1) rotate(0) translate(4 188)\">\n",
       "<title>Tree</title>\n",
       "<polygon fill=\"white\" stroke=\"transparent\" points=\"-4,4 -4,-188 388,-188 388,4 -4,4\"/>\n",
       "<!-- 0 -->\n",
       "<g id=\"node1\" class=\"node\">\n",
       "<title>0</title>\n",
       "<polygon fill=\"none\" stroke=\"black\" points=\"251,-184 133,-184 133,-146 251,-146 251,-184\"/>\n",
       "<text text-anchor=\"middle\" x=\"192\" y=\"-168.8\" font-family=\"Times,serif\" font-size=\"14.00\">education &lt;= 12.5</text>\n",
       "<text text-anchor=\"middle\" x=\"192\" y=\"-153.8\" font-family=\"Times,serif\" font-size=\"14.00\">class = 0.0</text>\n",
       "</g>\n",
       "<!-- 1 -->\n",
       "<g id=\"node2\" class=\"node\">\n",
       "<title>1</title>\n",
       "<polygon fill=\"none\" stroke=\"black\" points=\"177.5,-110 60.5,-110 60.5,-72 177.5,-72 177.5,-110\"/>\n",
       "<text text-anchor=\"middle\" x=\"119\" y=\"-94.8\" font-family=\"Times,serif\" font-size=\"14.00\">x0_Private &lt;= 0.5</text>\n",
       "<text text-anchor=\"middle\" x=\"119\" y=\"-79.8\" font-family=\"Times,serif\" font-size=\"14.00\">class = 0.0</text>\n",
       "</g>\n",
       "<!-- 0&#45;&gt;1 -->\n",
       "<g id=\"edge1\" class=\"edge\">\n",
       "<title>0&#45;&gt;1</title>\n",
       "<path fill=\"none\" stroke=\"black\" d=\"M173.58,-145.83C164.85,-137.22 154.27,-126.79 144.76,-117.4\"/>\n",
       "<polygon fill=\"black\" stroke=\"black\" points=\"146.99,-114.69 137.42,-110.16 142.08,-119.68 146.99,-114.69\"/>\n",
       "<text text-anchor=\"middle\" x=\"137.59\" y=\"-131.46\" font-family=\"Times,serif\" font-size=\"14.00\">True</text>\n",
       "</g>\n",
       "<!-- 4 -->\n",
       "<g id=\"node5\" class=\"node\">\n",
       "<title>4</title>\n",
       "<polygon fill=\"none\" stroke=\"black\" points=\"334,-110 196,-110 196,-72 334,-72 334,-110\"/>\n",
       "<text text-anchor=\"middle\" x=\"265\" y=\"-94.8\" font-family=\"Times,serif\" font-size=\"14.00\">x3_Unmarried &lt;= 0.5</text>\n",
       "<text text-anchor=\"middle\" x=\"265\" y=\"-79.8\" font-family=\"Times,serif\" font-size=\"14.00\">class = 0.0</text>\n",
       "</g>\n",
       "<!-- 0&#45;&gt;4 -->\n",
       "<g id=\"edge4\" class=\"edge\">\n",
       "<title>0&#45;&gt;4</title>\n",
       "<path fill=\"none\" stroke=\"black\" d=\"M210.42,-145.83C219.15,-137.22 229.73,-126.79 239.24,-117.4\"/>\n",
       "<polygon fill=\"black\" stroke=\"black\" points=\"241.92,-119.68 246.58,-110.16 237.01,-114.69 241.92,-119.68\"/>\n",
       "<text text-anchor=\"middle\" x=\"246.41\" y=\"-131.46\" font-family=\"Times,serif\" font-size=\"14.00\">False</text>\n",
       "</g>\n",
       "<!-- 2 -->\n",
       "<g id=\"node3\" class=\"node\">\n",
       "<title>2</title>\n",
       "<polygon fill=\"none\" stroke=\"black\" points=\"76,-36 0,-36 0,0 76,0 76,-36\"/>\n",
       "<text text-anchor=\"middle\" x=\"38\" y=\"-14.3\" font-family=\"Times,serif\" font-size=\"14.00\">class = 0.0</text>\n",
       "</g>\n",
       "<!-- 1&#45;&gt;2 -->\n",
       "<g id=\"edge2\" class=\"edge\">\n",
       "<title>1&#45;&gt;2</title>\n",
       "<path fill=\"none\" stroke=\"black\" d=\"M98.14,-71.72C88.03,-62.85 75.77,-52.11 64.96,-42.63\"/>\n",
       "<polygon fill=\"black\" stroke=\"black\" points=\"67.23,-39.96 57.4,-36 62.61,-45.23 67.23,-39.96\"/>\n",
       "</g>\n",
       "<!-- 3 -->\n",
       "<g id=\"node4\" class=\"node\">\n",
       "<title>3</title>\n",
       "<polygon fill=\"none\" stroke=\"black\" points=\"170,-36 94,-36 94,0 170,0 170,-36\"/>\n",
       "<text text-anchor=\"middle\" x=\"132\" y=\"-14.3\" font-family=\"Times,serif\" font-size=\"14.00\">class = 0.0</text>\n",
       "</g>\n",
       "<!-- 1&#45;&gt;3 -->\n",
       "<g id=\"edge3\" class=\"edge\">\n",
       "<title>1&#45;&gt;3</title>\n",
       "<path fill=\"none\" stroke=\"black\" d=\"M122.35,-71.72C123.78,-63.89 125.48,-54.59 127.06,-45.99\"/>\n",
       "<polygon fill=\"black\" stroke=\"black\" points=\"130.53,-46.47 128.89,-36 123.64,-45.21 130.53,-46.47\"/>\n",
       "</g>\n",
       "<!-- 5 -->\n",
       "<g id=\"node6\" class=\"node\">\n",
       "<title>5</title>\n",
       "<polygon fill=\"none\" stroke=\"black\" points=\"290,-36 214,-36 214,0 290,0 290,-36\"/>\n",
       "<text text-anchor=\"middle\" x=\"252\" y=\"-14.3\" font-family=\"Times,serif\" font-size=\"14.00\">class = 0.0</text>\n",
       "</g>\n",
       "<!-- 4&#45;&gt;5 -->\n",
       "<g id=\"edge5\" class=\"edge\">\n",
       "<title>4&#45;&gt;5</title>\n",
       "<path fill=\"none\" stroke=\"black\" d=\"M261.65,-71.72C260.22,-63.89 258.52,-54.59 256.94,-45.99\"/>\n",
       "<polygon fill=\"black\" stroke=\"black\" points=\"260.36,-45.21 255.11,-36 253.47,-46.47 260.36,-45.21\"/>\n",
       "</g>\n",
       "<!-- 6 -->\n",
       "<g id=\"node7\" class=\"node\">\n",
       "<title>6</title>\n",
       "<polygon fill=\"none\" stroke=\"black\" points=\"384,-36 308,-36 308,0 384,0 384,-36\"/>\n",
       "<text text-anchor=\"middle\" x=\"346\" y=\"-14.3\" font-family=\"Times,serif\" font-size=\"14.00\">class = 0.0</text>\n",
       "</g>\n",
       "<!-- 4&#45;&gt;6 -->\n",
       "<g id=\"edge6\" class=\"edge\">\n",
       "<title>4&#45;&gt;6</title>\n",
       "<path fill=\"none\" stroke=\"black\" d=\"M285.86,-71.72C295.97,-62.85 308.23,-52.11 319.04,-42.63\"/>\n",
       "<polygon fill=\"black\" stroke=\"black\" points=\"321.39,-45.23 326.6,-36 316.77,-39.96 321.39,-45.23\"/>\n",
       "</g>\n",
       "</g>\n",
       "</svg>\n"
      ],
      "text/plain": [
       "<graphviz.files.Source at 0x13a217cd0>"
      ]
     },
     "metadata": {},
     "output_type": "display_data"
    },
    {
     "name": "stdout",
     "output_type": "stream",
     "text": [
      "prediction [0.]\n",
      "\n",
      "\n",
      "Tree 3\n"
     ]
    },
    {
     "data": {
      "image/svg+xml": [
       "<?xml version=\"1.0\" encoding=\"UTF-8\" standalone=\"no\"?>\n",
       "<!DOCTYPE svg PUBLIC \"-//W3C//DTD SVG 1.1//EN\"\n",
       " \"http://www.w3.org/Graphics/SVG/1.1/DTD/svg11.dtd\">\n",
       "<!-- Generated by graphviz version 2.48.0 (0)\n",
       " -->\n",
       "<!-- Title: Tree Pages: 1 -->\n",
       "<svg width=\"389pt\" height=\"192pt\"\n",
       " viewBox=\"0.00 0.00 389.00 192.00\" xmlns=\"http://www.w3.org/2000/svg\" xmlns:xlink=\"http://www.w3.org/1999/xlink\">\n",
       "<g id=\"graph0\" class=\"graph\" transform=\"scale(1 1) rotate(0) translate(4 188)\">\n",
       "<title>Tree</title>\n",
       "<polygon fill=\"white\" stroke=\"transparent\" points=\"-4,4 -4,-188 385,-188 385,4 -4,4\"/>\n",
       "<!-- 0 -->\n",
       "<g id=\"node1\" class=\"node\">\n",
       "<title>0</title>\n",
       "<polygon fill=\"none\" stroke=\"black\" points=\"270,-184 110,-184 110,-146 270,-146 270,-184\"/>\n",
       "<text text-anchor=\"middle\" x=\"190\" y=\"-168.8\" font-family=\"Times,serif\" font-size=\"14.00\">x1_Never&#45;married &lt;= 0.5</text>\n",
       "<text text-anchor=\"middle\" x=\"190\" y=\"-153.8\" font-family=\"Times,serif\" font-size=\"14.00\">class = 0.0</text>\n",
       "</g>\n",
       "<!-- 1 -->\n",
       "<g id=\"node2\" class=\"node\">\n",
       "<title>1</title>\n",
       "<polygon fill=\"none\" stroke=\"black\" points=\"188,-110 52,-110 52,-72 188,-72 188,-110\"/>\n",
       "<text text-anchor=\"middle\" x=\"120\" y=\"-94.8\" font-family=\"Times,serif\" font-size=\"14.00\">capital.gain &lt;= 0.531</text>\n",
       "<text text-anchor=\"middle\" x=\"120\" y=\"-79.8\" font-family=\"Times,serif\" font-size=\"14.00\">class = 0.0</text>\n",
       "</g>\n",
       "<!-- 0&#45;&gt;1 -->\n",
       "<g id=\"edge1\" class=\"edge\">\n",
       "<title>0&#45;&gt;1</title>\n",
       "<path fill=\"none\" stroke=\"black\" d=\"M172.34,-145.83C164.03,-137.28 153.97,-126.94 144.91,-117.62\"/>\n",
       "<polygon fill=\"black\" stroke=\"black\" points=\"147.38,-115.14 137.9,-110.41 142.36,-120.02 147.38,-115.14\"/>\n",
       "<text text-anchor=\"middle\" x=\"137.55\" y=\"-131.71\" font-family=\"Times,serif\" font-size=\"14.00\">True</text>\n",
       "</g>\n",
       "<!-- 4 -->\n",
       "<g id=\"node5\" class=\"node\">\n",
       "<title>4</title>\n",
       "<polygon fill=\"none\" stroke=\"black\" points=\"313.5,-110 206.5,-110 206.5,-72 313.5,-72 313.5,-110\"/>\n",
       "<text text-anchor=\"middle\" x=\"260\" y=\"-94.8\" font-family=\"Times,serif\" font-size=\"14.00\">fnlwgt &lt;= 7.478</text>\n",
       "<text text-anchor=\"middle\" x=\"260\" y=\"-79.8\" font-family=\"Times,serif\" font-size=\"14.00\">class = 0.0</text>\n",
       "</g>\n",
       "<!-- 0&#45;&gt;4 -->\n",
       "<g id=\"edge4\" class=\"edge\">\n",
       "<title>0&#45;&gt;4</title>\n",
       "<path fill=\"none\" stroke=\"black\" d=\"M207.66,-145.83C215.97,-137.28 226.03,-126.94 235.09,-117.62\"/>\n",
       "<polygon fill=\"black\" stroke=\"black\" points=\"237.64,-120.02 242.1,-110.41 232.62,-115.14 237.64,-120.02\"/>\n",
       "<text text-anchor=\"middle\" x=\"242.45\" y=\"-131.71\" font-family=\"Times,serif\" font-size=\"14.00\">False</text>\n",
       "</g>\n",
       "<!-- 2 -->\n",
       "<g id=\"node3\" class=\"node\">\n",
       "<title>2</title>\n",
       "<polygon fill=\"none\" stroke=\"black\" points=\"76,-36 0,-36 0,0 76,0 76,-36\"/>\n",
       "<text text-anchor=\"middle\" x=\"38\" y=\"-14.3\" font-family=\"Times,serif\" font-size=\"14.00\">class = 0.0</text>\n",
       "</g>\n",
       "<!-- 1&#45;&gt;2 -->\n",
       "<g id=\"edge2\" class=\"edge\">\n",
       "<title>1&#45;&gt;2</title>\n",
       "<path fill=\"none\" stroke=\"black\" d=\"M98.88,-71.72C88.65,-62.85 76.24,-52.11 65.29,-42.63\"/>\n",
       "<polygon fill=\"black\" stroke=\"black\" points=\"67.49,-39.9 57.64,-36 62.91,-45.2 67.49,-39.9\"/>\n",
       "</g>\n",
       "<!-- 3 -->\n",
       "<g id=\"node4\" class=\"node\">\n",
       "<title>3</title>\n",
       "<polygon fill=\"none\" stroke=\"black\" points=\"170,-36 94,-36 94,0 170,0 170,-36\"/>\n",
       "<text text-anchor=\"middle\" x=\"132\" y=\"-14.3\" font-family=\"Times,serif\" font-size=\"14.00\">class = 1.0</text>\n",
       "</g>\n",
       "<!-- 1&#45;&gt;3 -->\n",
       "<g id=\"edge3\" class=\"edge\">\n",
       "<title>1&#45;&gt;3</title>\n",
       "<path fill=\"none\" stroke=\"black\" d=\"M123.09,-71.72C124.41,-63.89 125.99,-54.59 127.44,-45.99\"/>\n",
       "<polygon fill=\"black\" stroke=\"black\" points=\"130.91,-46.45 129.13,-36 124.01,-45.28 130.91,-46.45\"/>\n",
       "</g>\n",
       "<!-- 5 -->\n",
       "<g id=\"node6\" class=\"node\">\n",
       "<title>5</title>\n",
       "<polygon fill=\"none\" stroke=\"black\" points=\"287,-36 211,-36 211,0 287,0 287,-36\"/>\n",
       "<text text-anchor=\"middle\" x=\"249\" y=\"-14.3\" font-family=\"Times,serif\" font-size=\"14.00\">class = 0.0</text>\n",
       "</g>\n",
       "<!-- 4&#45;&gt;5 -->\n",
       "<g id=\"edge5\" class=\"edge\">\n",
       "<title>4&#45;&gt;5</title>\n",
       "<path fill=\"none\" stroke=\"black\" d=\"M257.17,-71.72C255.95,-63.89 254.51,-54.59 253.18,-45.99\"/>\n",
       "<polygon fill=\"black\" stroke=\"black\" points=\"256.62,-45.35 251.63,-36 249.71,-46.42 256.62,-45.35\"/>\n",
       "</g>\n",
       "<!-- 6 -->\n",
       "<g id=\"node7\" class=\"node\">\n",
       "<title>6</title>\n",
       "<polygon fill=\"none\" stroke=\"black\" points=\"381,-36 305,-36 305,0 381,0 381,-36\"/>\n",
       "<text text-anchor=\"middle\" x=\"343\" y=\"-14.3\" font-family=\"Times,serif\" font-size=\"14.00\">class = 1.0</text>\n",
       "</g>\n",
       "<!-- 4&#45;&gt;6 -->\n",
       "<g id=\"edge6\" class=\"edge\">\n",
       "<title>4&#45;&gt;6</title>\n",
       "<path fill=\"none\" stroke=\"black\" d=\"M281.37,-71.72C291.73,-62.85 304.3,-52.11 315.37,-42.63\"/>\n",
       "<polygon fill=\"black\" stroke=\"black\" points=\"317.8,-45.16 323.12,-36 313.25,-39.84 317.8,-45.16\"/>\n",
       "</g>\n",
       "</g>\n",
       "</svg>\n"
      ],
      "text/plain": [
       "<graphviz.files.Source at 0x13a2cc610>"
      ]
     },
     "metadata": {},
     "output_type": "display_data"
    },
    {
     "name": "stdout",
     "output_type": "stream",
     "text": [
      "prediction [0.]\n"
     ]
    }
   ],
   "source": [
    "for i, tree in enumerate(\n",
    "    pipe_rf_demo.named_steps[\"randomforestclassifier\"].estimators_\n",
    "):\n",
    "    print(\"\\n\\nTree\", i + 1)\n",
    "    display(display_tree(feature_names, tree))\n",
    "    print(\"prediction\", tree.predict(preprocessor.transform(test_example)))"
   ]
  },
  {
   "cell_type": "markdown",
   "metadata": {
    "slideshow": {
     "slide_type": "slide"
    }
   },
   "source": [
    "### Some important hyperparameters:\n",
    "\n",
    "- `n_estimators`: number of decision trees (higher = more complexity)\n",
    "- `max_depth`: max depth of each decision tree (higher = more complexity)\n",
    "- `max_features`: the number of features you get to look at each split (higher = more complexity)"
   ]
  },
  {
   "cell_type": "markdown",
   "metadata": {
    "slideshow": {
     "slide_type": "slide"
    }
   },
   "source": [
    "\n",
    "### Random forests: number of trees (`n_estimators`) and the fundamental tradeoff "
   ]
  },
  {
   "cell_type": "code",
   "execution_count": 18,
   "metadata": {
    "scrolled": true,
    "slideshow": {
     "slide_type": "-"
    }
   },
   "outputs": [
    {
     "data": {
      "image/png": "[encoded data removed]",
      "text/plain": [
       "<Figure size 432x288 with 1 Axes>"
      ]
     },
     "metadata": {
      "needs_background": "light"
     },
     "output_type": "display_data"
    }
   ],
   "source": [
    "# make_num_tree_plot(\n",
    "#     preprocessor, X_train, y_train, X_test, y_test, [1, 5, 10, 25, 50, 100, 200, 500]\n",
    "# )"
   ]
  },
  {
   "cell_type": "markdown",
   "metadata": {
    "slideshow": {
     "slide_type": "slide"
    }
   },
   "source": [
    "#### Number of trees and fundamental trade-off\n",
    "\n",
    "- Above: seems like we're beating the fundamental \"tradeoff\" by increasing training score and not decreasing validation score much.\n",
    "- This is the promise of ensembles, though it's not guaranteed to work so nicely.\n",
    "\n",
    "More trees are always better! We pick less trees for speed. \n"
   ]
  },
  {
   "cell_type": "markdown",
   "metadata": {
    "slideshow": {
     "slide_type": "slide"
    }
   },
   "source": [
    "### Strengths and weaknesses\n",
    "\n",
    "- Usually one of the best performing off-the-shelf classifiers without heavy tuning of hyperparameters\n",
    "- Don't require scaling of data \n",
    "- Less likely to overfit \n",
    "- Slower than decision trees because we are fitting multiple trees but can easily parallelize training because all trees are independent of each other \n",
    "- In general, able to capture a much broader picture of the data compared to a single decision tree. "
   ]
  },
  {
   "cell_type": "markdown",
   "metadata": {
    "slideshow": {
     "slide_type": "slide"
    }
   },
   "source": [
    "### Weaknesses\n",
    "\n",
    "- Require more memory \n",
    "- Hard to interpret\n",
    "- Tend not to perform well on high dimensional sparse data such as text data\n"
   ]
  },
  {
   "cell_type": "markdown",
   "metadata": {
    "slideshow": {
     "slide_type": "skip"
    }
   },
   "source": [
    "```{important}\n",
    "Make sure to set the `random_state` for reproducibility. Changing the `random_state` can have a big impact on the model and the results due to the random nature of these models. Having more trees can get you a more robust estimate. \n",
    "```"
   ]
  },
  {
   "cell_type": "markdown",
   "metadata": {
    "slideshow": {
     "slide_type": "skip"
    }
   },
   "source": [
    "```{seealso}\n",
    "[The original random forests paper](https://www.stat.berkeley.edu/~breiman/randomforest2001.pdf) by Leo Breiman. \n",
    "```"
   ]
  },
  {
   "cell_type": "markdown",
   "metadata": {},
   "source": [
    "<br><br><br><br>"
   ]
  },
  {
   "cell_type": "markdown",
   "metadata": {
    "slideshow": {
     "slide_type": "slide"
    }
   },
   "source": [
    "## Gradient boosted trees "
   ]
  },
  {
   "cell_type": "markdown",
   "metadata": {
    "slideshow": {
     "slide_type": "slide"
    }
   },
   "source": [
    "Another popular and effective class of tree-based models is gradient boosted trees. \n",
    "\n",
    "- No randomization.\n",
    "- The key idea is combining many simple models called weak learners to create a strong learner. \n",
    "- They combine multiple shallow (depth 1 to 5) decision trees  \n",
    "- They build trees in a serial manner, where each tree tries to correct the mistakes of the previous one. "
   ]
  },
  {
   "cell_type": "markdown",
   "metadata": {
    "slideshow": {
     "slide_type": "slide"
    }
   },
   "source": [
    "### Important hyperparameters\n",
    "\n",
    "- `n_estimators`\n",
    "    - control the number of trees to build\n",
    "- `learning_rate`\n",
    "    - controls how strongly each tree tries to correct the mistakes of the previous trees\n",
    "    - higher learning rate means each tree can make stronger corrections, which means more complex model "
   ]
  },
  {
   "cell_type": "markdown",
   "metadata": {
    "slideshow": {
     "slide_type": "slide"
    }
   },
   "source": [
    "We'll not go into the details. We'll look at brief examples of using the following three gradient boosted tree models. \n",
    "\n",
    "- [XGBoost](https://xgboost.readthedocs.io/en/latest/)\n",
    "- [LightGBM](https://lightgbm.readthedocs.io/en/latest/Python-Intro.html)\n",
    "- [CatBoost](https://catboost.ai/docs/concepts/python-quickstart.html)"
   ]
  },
  {
   "cell_type": "markdown",
   "metadata": {
    "slideshow": {
     "slide_type": "slide"
    }
   },
   "source": [
    "### [XGBoost](https://xgboost.ai/about) \n",
    "\n",
    "- Not part of `sklearn` but has similar interface. \n",
    "- Install it in your conda environment: `conda install -c conda-forge xgboost`\n",
    "- Supports missing values\n",
    "- GPU training, networked parallel training\n",
    "- Supports sparse data\n",
    "- Typically better scores than random forests    "
   ]
  },
  {
   "cell_type": "markdown",
   "metadata": {
    "slideshow": {
     "slide_type": "slide"
    }
   },
   "source": [
    "### [LightGBM](https://lightgbm.readthedocs.io/)"
   ]
  },
  {
   "cell_type": "markdown",
   "metadata": {},
   "source": [
    "- Not part of `sklearn` but has similar interface. \n",
    "- Install it in your conda environment: `conda install -c conda-forge lightgbm`\n",
    "- Small model size\n",
    "- Faster \n",
    "- Typically better scores than random forests    "
   ]
  },
  {
   "cell_type": "markdown",
   "metadata": {
    "slideshow": {
     "slide_type": "slide"
    }
   },
   "source": [
    "### [CatBoost](https://catboost.ai/)\n",
    "\n",
    "- Not part of `sklearn` but has similar interface. \n",
    "- Install it in your conda environment: `conda install -c conda-forge catboost`\n",
    "- Usually better scores but slower compared to `XGBoost` and `LightGBM`     "
   ]
  },
  {
   "cell_type": "code",
   "execution_count": 19,
   "metadata": {
    "slideshow": {
     "slide_type": "slide"
    }
   },
   "outputs": [],
   "source": [
    "from catboost import CatBoostClassifier\n",
    "from lightgbm.sklearn import LGBMClassifier\n",
    "from sklearn.tree import DecisionTreeClassifier\n",
    "from xgboost import XGBClassifier\n",
    "\n",
    "pipe_lr = make_pipeline(\n",
    "    preprocessor, LogisticRegression(max_iter=2000, random_state=123)\n",
    ")\n",
    "pipe_dt = make_pipeline(preprocessor, DecisionTreeClassifier(random_state=123))\n",
    "pipe_rf = make_pipeline(preprocessor, RandomForestClassifier(random_state=123))\n",
    "pipe_xgb = make_pipeline(\n",
    "    preprocessor, XGBClassifier(random_state=123, eval_metric=\"logloss\", verbosity=0)\n",
    ")\n",
    "pipe_lgbm = make_pipeline(preprocessor, LGBMClassifier(random_state=123))\n",
    "pipe_catboost = make_pipeline(\n",
    "    preprocessor, CatBoostClassifier(verbose=0, random_state=123)\n",
    ")\n",
    "classifiers = {\n",
    "    \"logistic regression\": pipe_lr,\n",
    "    \"decision tree\": pipe_dt,\n",
    "    \"random forest\": pipe_rf,\n",
    "    \"XGBoost\": pipe_xgb,\n",
    "    \"LightGBM\": pipe_lgbm,\n",
    "    \"CatBoost\": pipe_catboost,\n",
    "}"
   ]
  },
  {
   "cell_type": "code",
   "execution_count": 20,
   "metadata": {
    "slideshow": {
     "slide_type": "skip"
    }
   },
   "outputs": [],
   "source": [
    "import warnings\n",
    "\n",
    "warnings.simplefilter(action=\"ignore\", category=DeprecationWarning)\n",
    "warnings.simplefilter(action=\"ignore\", category=UserWarning)"
   ]
  },
  {
   "cell_type": "code",
   "execution_count": 21,
   "metadata": {},
   "outputs": [],
   "source": [
    "results = {}"
   ]
  },
  {
   "cell_type": "code",
   "execution_count": 22,
   "metadata": {
    "slideshow": {
     "slide_type": "skip"
    }
   },
   "outputs": [],
   "source": [
    "dummy = DummyClassifier(strategy=\"stratified\")\n",
    "results[\"Dummy\"] = mean_std_cross_val_scores(\n",
    "    dummy, X_train, y_train, return_train_score=True, scoring=scoring_metric\n",
    ")"
   ]
  },
  {
   "cell_type": "code",
   "execution_count": 23,
   "metadata": {
    "slideshow": {
     "slide_type": "slide"
    }
   },
   "outputs": [],
   "source": [
    "for (name, model) in classifiers.items():\n",
    "    results[name] = mean_std_cross_val_scores(\n",
    "        model, X_train, y_train, return_train_score=True, scoring=scoring_metric\n",
    "    )"
   ]
  },
  {
   "cell_type": "code",
   "execution_count": 24,
   "metadata": {
    "slideshow": {
     "slide_type": "-"
    }
   },
   "outputs": [
    {
     "data": {
      "text/html": [
       "<div>\n",
       "<style scoped>\n",
       "    .dataframe tbody tr th:only-of-type {\n",
       "        vertical-align: middle;\n",
       "    }\n",
       "\n",
       "    .dataframe tbody tr th {\n",
       "        vertical-align: top;\n",
       "    }\n",
       "\n",
       "    .dataframe thead th {\n",
       "        text-align: right;\n",
       "    }\n",
       "</style>\n",
       "<table border=\"1\" class=\"dataframe\">\n",
       "  <thead>\n",
       "    <tr style=\"text-align: right;\">\n",
       "      <th></th>\n",
       "      <th>fit_time</th>\n",
       "      <th>score_time</th>\n",
       "      <th>test_score</th>\n",
       "      <th>train_score</th>\n",
       "    </tr>\n",
       "  </thead>\n",
       "  <tbody>\n",
       "    <tr>\n",
       "      <th>Dummy</th>\n",
       "      <td>0.007 (+/- 0.000)</td>\n",
       "      <td>0.005 (+/- 0.000)</td>\n",
       "      <td>0.636 (+/- 0.007)</td>\n",
       "      <td>0.633 (+/- 0.004)</td>\n",
       "    </tr>\n",
       "    <tr>\n",
       "      <th>logistic regression</th>\n",
       "      <td>0.748 (+/- 0.036)</td>\n",
       "      <td>0.019 (+/- 0.000)</td>\n",
       "      <td>0.850 (+/- 0.006)</td>\n",
       "      <td>0.851 (+/- 0.001)</td>\n",
       "    </tr>\n",
       "    <tr>\n",
       "      <th>decision tree</th>\n",
       "      <td>0.169 (+/- 0.002)</td>\n",
       "      <td>0.019 (+/- 0.001)</td>\n",
       "      <td>0.813 (+/- 0.003)</td>\n",
       "      <td>1.000 (+/- 0.000)</td>\n",
       "    </tr>\n",
       "    <tr>\n",
       "      <th>random forest</th>\n",
       "      <td>1.438 (+/- 0.016)</td>\n",
       "      <td>0.093 (+/- 0.001)</td>\n",
       "      <td>0.857 (+/- 0.004)</td>\n",
       "      <td>1.000 (+/- 0.000)</td>\n",
       "    </tr>\n",
       "    <tr>\n",
       "      <th>XGBoost</th>\n",
       "      <td>1.002 (+/- 0.034)</td>\n",
       "      <td>0.028 (+/- 0.000)</td>\n",
       "      <td>0.870 (+/- 0.003)</td>\n",
       "      <td>0.909 (+/- 0.002)</td>\n",
       "    </tr>\n",
       "    <tr>\n",
       "      <th>LightGBM</th>\n",
       "      <td>0.181 (+/- 0.009)</td>\n",
       "      <td>0.026 (+/- 0.001)</td>\n",
       "      <td>0.871 (+/- 0.004)</td>\n",
       "      <td>0.892 (+/- 0.000)</td>\n",
       "    </tr>\n",
       "    <tr>\n",
       "      <th>CatBoost</th>\n",
       "      <td>5.945 (+/- 0.088)</td>\n",
       "      <td>0.094 (+/- 0.001)</td>\n",
       "      <td>0.872 (+/- 0.003)</td>\n",
       "      <td>0.900 (+/- 0.001)</td>\n",
       "    </tr>\n",
       "  </tbody>\n",
       "</table>\n",
       "</div>"
      ],
      "text/plain": [
       "                              fit_time         score_time         test_score  \\\n",
       "Dummy                0.007 (+/- 0.000)  0.005 (+/- 0.000)  0.636 (+/- 0.007)   \n",
       "logistic regression  0.748 (+/- 0.036)  0.019 (+/- 0.000)  0.850 (+/- 0.006)   \n",
       "decision tree        0.169 (+/- 0.002)  0.019 (+/- 0.001)  0.813 (+/- 0.003)   \n",
       "random forest        1.438 (+/- 0.016)  0.093 (+/- 0.001)  0.857 (+/- 0.004)   \n",
       "XGBoost              1.002 (+/- 0.034)  0.028 (+/- 0.000)  0.870 (+/- 0.003)   \n",
       "LightGBM             0.181 (+/- 0.009)  0.026 (+/- 0.001)  0.871 (+/- 0.004)   \n",
       "CatBoost             5.945 (+/- 0.088)  0.094 (+/- 0.001)  0.872 (+/- 0.003)   \n",
       "\n",
       "                           train_score  \n",
       "Dummy                0.633 (+/- 0.004)  \n",
       "logistic regression  0.851 (+/- 0.001)  \n",
       "decision tree        1.000 (+/- 0.000)  \n",
       "random forest        1.000 (+/- 0.000)  \n",
       "XGBoost              0.909 (+/- 0.002)  \n",
       "LightGBM             0.892 (+/- 0.000)  \n",
       "CatBoost             0.900 (+/- 0.001)  "
      ]
     },
     "execution_count": 24,
     "metadata": {},
     "output_type": "execute_result"
    }
   ],
   "source": [
    "pd.DataFrame(results).T"
   ]
  },
  {
   "cell_type": "markdown",
   "metadata": {
    "slideshow": {
     "slide_type": "slide"
    }
   },
   "source": [
    "**Some observations**\n",
    "- Keep in mind all these results are with default hyperparameters\n",
    "- Ideally we would carry out hyperparameter optimization for all of them and then compare the results. \n",
    "- We are using a particular scoring metric (accuracy in this case)\n",
    "- We are scaling numeric features but it shouldn't matter for these tree-based models. \n",
    "- Look at the std. Doesn't look very high. \n",
    "    - The scores look more or less stable. "
   ]
  },
  {
   "cell_type": "code",
   "execution_count": 25,
   "metadata": {
    "slideshow": {
     "slide_type": "slide"
    }
   },
   "outputs": [
    {
     "data": {
      "text/html": [
       "<div>\n",
       "<style scoped>\n",
       "    .dataframe tbody tr th:only-of-type {\n",
       "        vertical-align: middle;\n",
       "    }\n",
       "\n",
       "    .dataframe tbody tr th {\n",
       "        vertical-align: top;\n",
       "    }\n",
       "\n",
       "    .dataframe thead th {\n",
       "        text-align: right;\n",
       "    }\n",
       "</style>\n",
       "<table border=\"1\" class=\"dataframe\">\n",
       "  <thead>\n",
       "    <tr style=\"text-align: right;\">\n",
       "      <th></th>\n",
       "      <th>fit_time</th>\n",
       "      <th>score_time</th>\n",
       "      <th>test_score</th>\n",
       "      <th>train_score</th>\n",
       "    </tr>\n",
       "  </thead>\n",
       "  <tbody>\n",
       "    <tr>\n",
       "      <th>Dummy</th>\n",
       "      <td>0.007 (+/- 0.000)</td>\n",
       "      <td>0.005 (+/- 0.000)</td>\n",
       "      <td>0.636 (+/- 0.007)</td>\n",
       "      <td>0.633 (+/- 0.004)</td>\n",
       "    </tr>\n",
       "    <tr>\n",
       "      <th>logistic regression</th>\n",
       "      <td>0.748 (+/- 0.036)</td>\n",
       "      <td>0.019 (+/- 0.000)</td>\n",
       "      <td>0.850 (+/- 0.006)</td>\n",
       "      <td>0.851 (+/- 0.001)</td>\n",
       "    </tr>\n",
       "    <tr>\n",
       "      <th>decision tree</th>\n",
       "      <td>0.169 (+/- 0.002)</td>\n",
       "      <td>0.019 (+/- 0.001)</td>\n",
       "      <td>0.813 (+/- 0.003)</td>\n",
       "      <td>1.000 (+/- 0.000)</td>\n",
       "    </tr>\n",
       "    <tr>\n",
       "      <th>random forest</th>\n",
       "      <td>1.438 (+/- 0.016)</td>\n",
       "      <td>0.093 (+/- 0.001)</td>\n",
       "      <td>0.857 (+/- 0.004)</td>\n",
       "      <td>1.000 (+/- 0.000)</td>\n",
       "    </tr>\n",
       "    <tr>\n",
       "      <th>XGBoost</th>\n",
       "      <td>1.002 (+/- 0.034)</td>\n",
       "      <td>0.028 (+/- 0.000)</td>\n",
       "      <td>0.870 (+/- 0.003)</td>\n",
       "      <td>0.909 (+/- 0.002)</td>\n",
       "    </tr>\n",
       "    <tr>\n",
       "      <th>LightGBM</th>\n",
       "      <td>0.181 (+/- 0.009)</td>\n",
       "      <td>0.026 (+/- 0.001)</td>\n",
       "      <td>0.871 (+/- 0.004)</td>\n",
       "      <td>0.892 (+/- 0.000)</td>\n",
       "    </tr>\n",
       "    <tr>\n",
       "      <th>CatBoost</th>\n",
       "      <td>5.945 (+/- 0.088)</td>\n",
       "      <td>0.094 (+/- 0.001)</td>\n",
       "      <td>0.872 (+/- 0.003)</td>\n",
       "      <td>0.900 (+/- 0.001)</td>\n",
       "    </tr>\n",
       "  </tbody>\n",
       "</table>\n",
       "</div>"
      ],
      "text/plain": [
       "                              fit_time         score_time         test_score  \\\n",
       "Dummy                0.007 (+/- 0.000)  0.005 (+/- 0.000)  0.636 (+/- 0.007)   \n",
       "logistic regression  0.748 (+/- 0.036)  0.019 (+/- 0.000)  0.850 (+/- 0.006)   \n",
       "decision tree        0.169 (+/- 0.002)  0.019 (+/- 0.001)  0.813 (+/- 0.003)   \n",
       "random forest        1.438 (+/- 0.016)  0.093 (+/- 0.001)  0.857 (+/- 0.004)   \n",
       "XGBoost              1.002 (+/- 0.034)  0.028 (+/- 0.000)  0.870 (+/- 0.003)   \n",
       "LightGBM             0.181 (+/- 0.009)  0.026 (+/- 0.001)  0.871 (+/- 0.004)   \n",
       "CatBoost             5.945 (+/- 0.088)  0.094 (+/- 0.001)  0.872 (+/- 0.003)   \n",
       "\n",
       "                           train_score  \n",
       "Dummy                0.633 (+/- 0.004)  \n",
       "logistic regression  0.851 (+/- 0.001)  \n",
       "decision tree        1.000 (+/- 0.000)  \n",
       "random forest        1.000 (+/- 0.000)  \n",
       "XGBoost              0.909 (+/- 0.002)  \n",
       "LightGBM             0.892 (+/- 0.000)  \n",
       "CatBoost             0.900 (+/- 0.001)  "
      ]
     },
     "execution_count": 25,
     "metadata": {},
     "output_type": "execute_result"
    }
   ],
   "source": [
    "pd.DataFrame(results).T"
   ]
  },
  {
   "cell_type": "markdown",
   "metadata": {
    "slideshow": {
     "slide_type": "slide"
    }
   },
   "source": [
    "- Decision trees and random forests overfit\n",
    "    - Other models do not seem to overfit much. \n",
    "- Fit times\n",
    "    - Decision trees are fast but not very accurate\n",
    "    - LightGBM is faster than decision trees and more accurate! \n",
    "    - CatBoost fit time is highest followed by random forests.  \n",
    "    - There is not much difference between the validation scores of XGBoost, LightGBM, and CatBoost but it is about 48x slower than LightGBM!\n",
    "    - XGBoost and LightGBM are faster and more accurate than random forest!    \n",
    "- Scores times  \n",
    "    - Prediction times are much smaller in all cases. "
   ]
  },
  {
   "cell_type": "markdown",
   "metadata": {
    "slideshow": {
     "slide_type": "slide"
    }
   },
   "source": [
    "### What classifier should I use?\n",
    "\n",
    "**Simple answer**\n",
    "- Whichever gets the highest CV score making sure that you're not overusing the validation set."
   ]
  },
  {
   "cell_type": "markdown",
   "metadata": {
    "slideshow": {
     "slide_type": "slide"
    }
   },
   "source": [
    "**Interpretability**\n",
    "- This is an area of growing interest and concern in ML.\n",
    "- How important is interpretability for you? \n",
    "- In the next class we'll talk about interpretability of non-linear models. \n"
   ]
  },
  {
   "cell_type": "markdown",
   "metadata": {
    "slideshow": {
     "slide_type": "slide"
    }
   },
   "source": [
    "**Speed/code maintenance**\n",
    "- Other considerations could be speed (fit and/or predict), maintainability of the code.\n",
    "\n",
    "Finally, you could use all of them!"
   ]
  },
  {
   "cell_type": "markdown",
   "metadata": {},
   "source": [
    "<br><br><br><br>"
   ]
  },
  {
   "cell_type": "markdown",
   "metadata": {
    "slideshow": {
     "slide_type": "slide"
    }
   },
   "source": [
    "## Averaging "
   ]
  },
  {
   "cell_type": "markdown",
   "metadata": {
    "slideshow": {
     "slide_type": "slide"
    }
   },
   "source": [
    "Earlier we looked at a bunch of classifiers:"
   ]
  },
  {
   "cell_type": "code",
   "execution_count": 26,
   "metadata": {},
   "outputs": [
    {
     "data": {
      "text/plain": [
       "dict_keys(['logistic regression', 'decision tree', 'random forest', 'XGBoost', 'LightGBM', 'CatBoost'])"
      ]
     },
     "execution_count": 26,
     "metadata": {},
     "output_type": "execute_result"
    }
   ],
   "source": [
    "classifiers.keys()"
   ]
  },
  {
   "cell_type": "markdown",
   "metadata": {},
   "source": [
    "What if we use all these models and let them vote during prediction time? "
   ]
  },
  {
   "cell_type": "code",
   "execution_count": 27,
   "metadata": {
    "slideshow": {
     "slide_type": "slide"
    }
   },
   "outputs": [],
   "source": [
    "from sklearn.ensemble import VotingClassifier\n",
    "\n",
    "averaging_model = VotingClassifier(\n",
    "    list(classifiers.items()), voting=\"soft\"\n",
    ")  # need the list() here for cross_val to work!"
   ]
  },
  {
   "cell_type": "code",
   "execution_count": 28,
   "metadata": {
    "slideshow": {
     "slide_type": "slide"
    }
   },
   "outputs": [],
   "source": [
    "from sklearn import set_config\n",
    "\n",
    "set_config(display=\"diagram\")  # global setting"
   ]
  },
  {
   "cell_type": "code",
   "execution_count": 29,
   "metadata": {
    "slideshow": {
     "slide_type": "slide"
    }
   },
   "outputs": [
    {
     "data": {
      "text/html": [
       "<style>#sk-9726f09c-4e47-4038-9db5-dcda00f30639 {color: black;background-color: white;}#sk-9726f09c-4e47-4038-9db5-dcda00f30639 pre{padding: 0;}#sk-9726f09c-4e47-4038-9db5-dcda00f30639 div.sk-toggleable {background-color: white;}#sk-9726f09c-4e47-4038-9db5-dcda00f30639 label.sk-toggleable__label {cursor: pointer;display: block;width: 100%;margin-bottom: 0;padding: 0.2em 0.3em;box-sizing: border-box;text-align: center;}#sk-9726f09c-4e47-4038-9db5-dcda00f30639 div.sk-toggleable__content {max-height: 0;max-width: 0;overflow: hidden;text-align: left;background-color: #f0f8ff;}#sk-9726f09c-4e47-4038-9db5-dcda00f30639 div.sk-toggleable__content pre {margin: 0.2em;color: black;border-radius: 0.25em;background-color: #f0f8ff;}#sk-9726f09c-4e47-4038-9db5-dcda00f30639 input.sk-toggleable__control:checked~div.sk-toggleable__content {max-height: 200px;max-width: 100%;overflow: auto;}#sk-9726f09c-4e47-4038-9db5-dcda00f30639 div.sk-estimator input.sk-toggleable__control:checked~label.sk-toggleable__label {background-color: #d4ebff;}#sk-9726f09c-4e47-4038-9db5-dcda00f30639 div.sk-label input.sk-toggleable__control:checked~label.sk-toggleable__label {background-color: #d4ebff;}#sk-9726f09c-4e47-4038-9db5-dcda00f30639 input.sk-hidden--visually {border: 0;clip: rect(1px 1px 1px 1px);clip: rect(1px, 1px, 1px, 1px);height: 1px;margin: -1px;overflow: hidden;padding: 0;position: absolute;width: 1px;}#sk-9726f09c-4e47-4038-9db5-dcda00f30639 div.sk-estimator {font-family: monospace;background-color: #f0f8ff;margin: 0.25em 0.25em;border: 1px dotted black;border-radius: 0.25em;box-sizing: border-box;}#sk-9726f09c-4e47-4038-9db5-dcda00f30639 div.sk-estimator:hover {background-color: #d4ebff;}#sk-9726f09c-4e47-4038-9db5-dcda00f30639 div.sk-parallel-item::after {content: \"\";width: 100%;border-bottom: 1px solid gray;flex-grow: 1;}#sk-9726f09c-4e47-4038-9db5-dcda00f30639 div.sk-label:hover label.sk-toggleable__label {background-color: #d4ebff;}#sk-9726f09c-4e47-4038-9db5-dcda00f30639 div.sk-serial::before {content: \"\";position: absolute;border-left: 1px solid gray;box-sizing: border-box;top: 2em;bottom: 0;left: 50%;}#sk-9726f09c-4e47-4038-9db5-dcda00f30639 div.sk-serial {display: flex;flex-direction: column;align-items: center;background-color: white;}#sk-9726f09c-4e47-4038-9db5-dcda00f30639 div.sk-item {z-index: 1;}#sk-9726f09c-4e47-4038-9db5-dcda00f30639 div.sk-parallel {display: flex;align-items: stretch;justify-content: center;background-color: white;}#sk-9726f09c-4e47-4038-9db5-dcda00f30639 div.sk-parallel-item {display: flex;flex-direction: column;position: relative;background-color: white;}#sk-9726f09c-4e47-4038-9db5-dcda00f30639 div.sk-parallel-item:first-child::after {align-self: flex-end;width: 50%;}#sk-9726f09c-4e47-4038-9db5-dcda00f30639 div.sk-parallel-item:last-child::after {align-self: flex-start;width: 50%;}#sk-9726f09c-4e47-4038-9db5-dcda00f30639 div.sk-parallel-item:only-child::after {width: 0;}#sk-9726f09c-4e47-4038-9db5-dcda00f30639 div.sk-dashed-wrapped {border: 1px dashed gray;margin: 0.2em;box-sizing: border-box;padding-bottom: 0.1em;background-color: white;position: relative;}#sk-9726f09c-4e47-4038-9db5-dcda00f30639 div.sk-label label {font-family: monospace;font-weight: bold;background-color: white;display: inline-block;line-height: 1.2em;}#sk-9726f09c-4e47-4038-9db5-dcda00f30639 div.sk-label-container {position: relative;z-index: 2;text-align: center;}#sk-9726f09c-4e47-4038-9db5-dcda00f30639 div.sk-container {display: inline-block;position: relative;}</style><div id=\"sk-9726f09c-4e47-4038-9db5-dcda00f30639\" class\"sk-top-container\"><div class=\"sk-container\"><div class=\"sk-item sk-dashed-wrapped\"><div class=\"sk-label-container\"><div class=\"sk-label sk-toggleable\"><input class=\"sk-toggleable__control sk-hidden--visually\" id=\"1e9f5652-7dca-4aa3-9f7b-1327548a9ce0\" type=\"checkbox\" ><label class=\"sk-toggleable__label\" for=\"1e9f5652-7dca-4aa3-9f7b-1327548a9ce0\">VotingClassifier</label><div class=\"sk-toggleable__content\"><pre>VotingClassifier(estimators=[('logistic regression',\n",
       "                              Pipeline(steps=[('columntransformer',\n",
       "                                               ColumnTransformer(transformers=[('pipeline-1',\n",
       "                                                                                Pipeline(steps=[('standardscaler',\n",
       "                                                                                                 StandardScaler())]),\n",
       "                                                                                ['age',\n",
       "                                                                                 'fnlwgt',\n",
       "                                                                                 'capital.gain',\n",
       "                                                                                 'capital.loss',\n",
       "                                                                                 'hours.per.week']),\n",
       "                                                                               ('pipeline-2',\n",
       "                                                                                Pipeline(steps=[('ordinalencoder',\n",
       "                                                                                                 OrdinalEncoder(categories=[['Preschool',\n",
       "                                                                                                                             '1st-4th'...\n",
       "                                                                                Pipeline(steps=[('simpleimputer',\n",
       "                                                                                                 SimpleImputer(fill_value='missing',\n",
       "                                                                                                               strategy='constant')),\n",
       "                                                                                                ('onehotencoder',\n",
       "                                                                                                 OneHotEncoder(handle_unknown='ignore',\n",
       "                                                                                                               sparse=False))]),\n",
       "                                                                                ['workclass',\n",
       "                                                                                 'marital.status',\n",
       "                                                                                 'occupation',\n",
       "                                                                                 'relationship',\n",
       "                                                                                 'native.country']),\n",
       "                                                                               ('drop',\n",
       "                                                                                'drop',\n",
       "                                                                                ['race',\n",
       "                                                                                 'education.num'])])),\n",
       "                                              ('catboostclassifier',\n",
       "                                               <catboost.core.CatBoostClassifier object at 0x13a1f8bb0>)]))],\n",
       "                 voting='soft')</pre></div></div></div><div class=\"sk-parallel\"><div class=\"sk-parallel-item\"><div class=\"sk-item\"><div class=\"sk-label-container\"><div class=\"sk-label sk-toggleable\"><label>logistic regression</label></div></div><div class=\"sk-serial\"><div class=\"sk-item\"><div class=\"sk-serial\"><div class=\"sk-item sk-dashed-wrapped\"><div class=\"sk-label-container\"><div class=\"sk-label sk-toggleable\"><input class=\"sk-toggleable__control sk-hidden--visually\" id=\"eeedb803-05a9-484e-ad32-1bf9cccb52f1\" type=\"checkbox\" ><label class=\"sk-toggleable__label\" for=\"eeedb803-05a9-484e-ad32-1bf9cccb52f1\">columntransformer: ColumnTransformer</label><div class=\"sk-toggleable__content\"><pre>ColumnTransformer(transformers=[('pipeline-1',\n",
       "                                 Pipeline(steps=[('standardscaler',\n",
       "                                                  StandardScaler())]),\n",
       "                                 ['age', 'fnlwgt', 'capital.gain',\n",
       "                                  'capital.loss', 'hours.per.week']),\n",
       "                                ('pipeline-2',\n",
       "                                 Pipeline(steps=[('ordinalencoder',\n",
       "                                                  OrdinalEncoder(categories=[['Preschool',\n",
       "                                                                              '1st-4th',\n",
       "                                                                              '5th-6th',\n",
       "                                                                              '7th-8th',\n",
       "                                                                              '9th',\n",
       "                                                                              '10th',\n",
       "                                                                              '11th',\n",
       "                                                                              '12th',\n",
       "                                                                              'HS-grad',\n",
       "                                                                              'Prof-school',\n",
       "                                                                              'Assoc-voc',\n",
       "                                                                              'Ass...\n",
       "                                                  OneHotEncoder(drop='if_binary',\n",
       "                                                                dtype=<class 'int'>))]),\n",
       "                                 ['sex']),\n",
       "                                ('pipeline-4',\n",
       "                                 Pipeline(steps=[('simpleimputer',\n",
       "                                                  SimpleImputer(fill_value='missing',\n",
       "                                                                strategy='constant')),\n",
       "                                                 ('onehotencoder',\n",
       "                                                  OneHotEncoder(handle_unknown='ignore',\n",
       "                                                                sparse=False))]),\n",
       "                                 ['workclass', 'marital.status', 'occupation',\n",
       "                                  'relationship', 'native.country']),\n",
       "                                ('drop', 'drop', ['race', 'education.num'])])</pre></div></div></div><div class=\"sk-parallel\"><div class=\"sk-parallel-item\"><div class=\"sk-item\"><div class=\"sk-label-container\"><div class=\"sk-label sk-toggleable\"><input class=\"sk-toggleable__control sk-hidden--visually\" id=\"afab47fb-a0c4-45f3-b298-ef5c16d43e8e\" type=\"checkbox\" ><label class=\"sk-toggleable__label\" for=\"afab47fb-a0c4-45f3-b298-ef5c16d43e8e\">pipeline-1</label><div class=\"sk-toggleable__content\"><pre>['age', 'fnlwgt', 'capital.gain', 'capital.loss', 'hours.per.week']</pre></div></div></div><div class=\"sk-serial\"><div class=\"sk-item\"><div class=\"sk-serial\"><div class=\"sk-item\"><div class=\"sk-estimator sk-toggleable\"><input class=\"sk-toggleable__control sk-hidden--visually\" id=\"498a1ded-7f96-49ad-b656-6b19362e2202\" type=\"checkbox\" ><label class=\"sk-toggleable__label\" for=\"498a1ded-7f96-49ad-b656-6b19362e2202\">StandardScaler</label><div class=\"sk-toggleable__content\"><pre>StandardScaler()</pre></div></div></div></div></div></div></div></div><div class=\"sk-parallel-item\"><div class=\"sk-item\"><div class=\"sk-label-container\"><div class=\"sk-label sk-toggleable\"><input class=\"sk-toggleable__control sk-hidden--visually\" id=\"b1407517-011a-4622-b927-bebbfa12f3d2\" type=\"checkbox\" ><label class=\"sk-toggleable__label\" for=\"b1407517-011a-4622-b927-bebbfa12f3d2\">pipeline-2</label><div class=\"sk-toggleable__content\"><pre>['education']</pre></div></div></div><div class=\"sk-serial\"><div class=\"sk-item\"><div class=\"sk-serial\"><div class=\"sk-item\"><div class=\"sk-estimator sk-toggleable\"><input class=\"sk-toggleable__control sk-hidden--visually\" id=\"8a117de8-b37a-4e32-98b0-633237b42ce2\" type=\"checkbox\" ><label class=\"sk-toggleable__label\" for=\"8a117de8-b37a-4e32-98b0-633237b42ce2\">OrdinalEncoder</label><div class=\"sk-toggleable__content\"><pre>OrdinalEncoder(categories=[['Preschool', '1st-4th', '5th-6th', '7th-8th', '9th',\n",
       "                            '10th', '11th', '12th', 'HS-grad', 'Prof-school',\n",
       "                            'Assoc-voc', 'Assoc-acdm', 'Some-college',\n",
       "                            'Bachelors', 'Masters', 'Doctorate']],\n",
       "               dtype=<class 'int'>)</pre></div></div></div></div></div></div></div></div><div class=\"sk-parallel-item\"><div class=\"sk-item\"><div class=\"sk-label-container\"><div class=\"sk-label sk-toggleable\"><input class=\"sk-toggleable__control sk-hidden--visually\" id=\"44d7be3c-6565-4f1f-9458-24e9866296d5\" type=\"checkbox\" ><label class=\"sk-toggleable__label\" for=\"44d7be3c-6565-4f1f-9458-24e9866296d5\">pipeline-3</label><div class=\"sk-toggleable__content\"><pre>['sex']</pre></div></div></div><div class=\"sk-serial\"><div class=\"sk-item\"><div class=\"sk-serial\"><div class=\"sk-item\"><div class=\"sk-estimator sk-toggleable\"><input class=\"sk-toggleable__control sk-hidden--visually\" id=\"aabf1ef3-9650-4e01-bbd3-aee8a5ca97df\" type=\"checkbox\" ><label class=\"sk-toggleable__label\" for=\"aabf1ef3-9650-4e01-bbd3-aee8a5ca97df\">SimpleImputer</label><div class=\"sk-toggleable__content\"><pre>SimpleImputer(fill_value='missing', strategy='constant')</pre></div></div></div><div class=\"sk-item\"><div class=\"sk-estimator sk-toggleable\"><input class=\"sk-toggleable__control sk-hidden--visually\" id=\"92d038c7-dc62-4fc2-8927-ca9ea33c89fa\" type=\"checkbox\" ><label class=\"sk-toggleable__label\" for=\"92d038c7-dc62-4fc2-8927-ca9ea33c89fa\">OneHotEncoder</label><div class=\"sk-toggleable__content\"><pre>OneHotEncoder(drop='if_binary', dtype=<class 'int'>)</pre></div></div></div></div></div></div></div></div><div class=\"sk-parallel-item\"><div class=\"sk-item\"><div class=\"sk-label-container\"><div class=\"sk-label sk-toggleable\"><input class=\"sk-toggleable__control sk-hidden--visually\" id=\"a0b647ab-0ea9-4859-8368-eb3c8b8d20d2\" type=\"checkbox\" ><label class=\"sk-toggleable__label\" for=\"a0b647ab-0ea9-4859-8368-eb3c8b8d20d2\">pipeline-4</label><div class=\"sk-toggleable__content\"><pre>['workclass', 'marital.status', 'occupation', 'relationship', 'native.country']</pre></div></div></div><div class=\"sk-serial\"><div class=\"sk-item\"><div class=\"sk-serial\"><div class=\"sk-item\"><div class=\"sk-estimator sk-toggleable\"><input class=\"sk-toggleable__control sk-hidden--visually\" id=\"efb51fb2-6fd5-4b1d-a43d-53ad5445acd5\" type=\"checkbox\" ><label class=\"sk-toggleable__label\" for=\"efb51fb2-6fd5-4b1d-a43d-53ad5445acd5\">SimpleImputer</label><div class=\"sk-toggleable__content\"><pre>SimpleImputer(fill_value='missing', strategy='constant')</pre></div></div></div><div class=\"sk-item\"><div class=\"sk-estimator sk-toggleable\"><input class=\"sk-toggleable__control sk-hidden--visually\" id=\"15dc5327-402a-4679-aa76-5f91999fd2f5\" type=\"checkbox\" ><label class=\"sk-toggleable__label\" for=\"15dc5327-402a-4679-aa76-5f91999fd2f5\">OneHotEncoder</label><div class=\"sk-toggleable__content\"><pre>OneHotEncoder(handle_unknown='ignore', sparse=False)</pre></div></div></div></div></div></div></div></div><div class=\"sk-parallel-item\"><div class=\"sk-item\"><div class=\"sk-label-container\"><div class=\"sk-label sk-toggleable\"><input class=\"sk-toggleable__control sk-hidden--visually\" id=\"615acc56-7889-461f-ab19-cdca777fe49c\" type=\"checkbox\" ><label class=\"sk-toggleable__label\" for=\"615acc56-7889-461f-ab19-cdca777fe49c\">drop</label><div class=\"sk-toggleable__content\"><pre>['race', 'education.num']</pre></div></div></div><div class=\"sk-serial\"><div class=\"sk-item\"><div class=\"sk-estimator sk-toggleable\"><input class=\"sk-toggleable__control sk-hidden--visually\" id=\"a13de9c6-052b-48d6-ab3b-52250bcc40ad\" type=\"checkbox\" ><label class=\"sk-toggleable__label\" for=\"a13de9c6-052b-48d6-ab3b-52250bcc40ad\">drop</label><div class=\"sk-toggleable__content\"><pre>drop</pre></div></div></div></div></div></div></div></div><div class=\"sk-item\"><div class=\"sk-estimator sk-toggleable\"><input class=\"sk-toggleable__control sk-hidden--visually\" id=\"9e65f1c9-8945-4011-8ada-33a686756add\" type=\"checkbox\" ><label class=\"sk-toggleable__label\" for=\"9e65f1c9-8945-4011-8ada-33a686756add\">LogisticRegression</label><div class=\"sk-toggleable__content\"><pre>LogisticRegression(max_iter=2000, random_state=123)</pre></div></div></div></div></div></div></div></div><div class=\"sk-parallel-item\"><div class=\"sk-item\"><div class=\"sk-label-container\"><div class=\"sk-label sk-toggleable\"><label>decision tree</label></div></div><div class=\"sk-serial\"><div class=\"sk-item\"><div class=\"sk-serial\"><div class=\"sk-item sk-dashed-wrapped\"><div class=\"sk-label-container\"><div class=\"sk-label sk-toggleable\"><input class=\"sk-toggleable__control sk-hidden--visually\" id=\"b1318430-14df-47df-94fd-fd7541f90906\" type=\"checkbox\" ><label class=\"sk-toggleable__label\" for=\"b1318430-14df-47df-94fd-fd7541f90906\">columntransformer: ColumnTransformer</label><div class=\"sk-toggleable__content\"><pre>ColumnTransformer(transformers=[('pipeline-1',\n",
       "                                 Pipeline(steps=[('standardscaler',\n",
       "                                                  StandardScaler())]),\n",
       "                                 ['age', 'fnlwgt', 'capital.gain',\n",
       "                                  'capital.loss', 'hours.per.week']),\n",
       "                                ('pipeline-2',\n",
       "                                 Pipeline(steps=[('ordinalencoder',\n",
       "                                                  OrdinalEncoder(categories=[['Preschool',\n",
       "                                                                              '1st-4th',\n",
       "                                                                              '5th-6th',\n",
       "                                                                              '7th-8th',\n",
       "                                                                              '9th',\n",
       "                                                                              '10th',\n",
       "                                                                              '11th',\n",
       "                                                                              '12th',\n",
       "                                                                              'HS-grad',\n",
       "                                                                              'Prof-school',\n",
       "                                                                              'Assoc-voc',\n",
       "                                                                              'Ass...\n",
       "                                                  OneHotEncoder(drop='if_binary',\n",
       "                                                                dtype=<class 'int'>))]),\n",
       "                                 ['sex']),\n",
       "                                ('pipeline-4',\n",
       "                                 Pipeline(steps=[('simpleimputer',\n",
       "                                                  SimpleImputer(fill_value='missing',\n",
       "                                                                strategy='constant')),\n",
       "                                                 ('onehotencoder',\n",
       "                                                  OneHotEncoder(handle_unknown='ignore',\n",
       "                                                                sparse=False))]),\n",
       "                                 ['workclass', 'marital.status', 'occupation',\n",
       "                                  'relationship', 'native.country']),\n",
       "                                ('drop', 'drop', ['race', 'education.num'])])</pre></div></div></div><div class=\"sk-parallel\"><div class=\"sk-parallel-item\"><div class=\"sk-item\"><div class=\"sk-label-container\"><div class=\"sk-label sk-toggleable\"><input class=\"sk-toggleable__control sk-hidden--visually\" id=\"774da959-5890-4786-98fa-f690959d0366\" type=\"checkbox\" ><label class=\"sk-toggleable__label\" for=\"774da959-5890-4786-98fa-f690959d0366\">pipeline-1</label><div class=\"sk-toggleable__content\"><pre>['age', 'fnlwgt', 'capital.gain', 'capital.loss', 'hours.per.week']</pre></div></div></div><div class=\"sk-serial\"><div class=\"sk-item\"><div class=\"sk-serial\"><div class=\"sk-item\"><div class=\"sk-estimator sk-toggleable\"><input class=\"sk-toggleable__control sk-hidden--visually\" id=\"05744f6d-98ed-4999-92a3-a9bf58edd5a0\" type=\"checkbox\" ><label class=\"sk-toggleable__label\" for=\"05744f6d-98ed-4999-92a3-a9bf58edd5a0\">StandardScaler</label><div class=\"sk-toggleable__content\"><pre>StandardScaler()</pre></div></div></div></div></div></div></div></div><div class=\"sk-parallel-item\"><div class=\"sk-item\"><div class=\"sk-label-container\"><div class=\"sk-label sk-toggleable\"><input class=\"sk-toggleable__control sk-hidden--visually\" id=\"7f0346ad-0447-4859-9eda-121f4c9ca08c\" type=\"checkbox\" ><label class=\"sk-toggleable__label\" for=\"7f0346ad-0447-4859-9eda-121f4c9ca08c\">pipeline-2</label><div class=\"sk-toggleable__content\"><pre>['education']</pre></div></div></div><div class=\"sk-serial\"><div class=\"sk-item\"><div class=\"sk-serial\"><div class=\"sk-item\"><div class=\"sk-estimator sk-toggleable\"><input class=\"sk-toggleable__control sk-hidden--visually\" id=\"cbcb1d6d-105e-49f6-a401-c65aa026698e\" type=\"checkbox\" ><label class=\"sk-toggleable__label\" for=\"cbcb1d6d-105e-49f6-a401-c65aa026698e\">OrdinalEncoder</label><div class=\"sk-toggleable__content\"><pre>OrdinalEncoder(categories=[['Preschool', '1st-4th', '5th-6th', '7th-8th', '9th',\n",
       "                            '10th', '11th', '12th', 'HS-grad', 'Prof-school',\n",
       "                            'Assoc-voc', 'Assoc-acdm', 'Some-college',\n",
       "                            'Bachelors', 'Masters', 'Doctorate']],\n",
       "               dtype=<class 'int'>)</pre></div></div></div></div></div></div></div></div><div class=\"sk-parallel-item\"><div class=\"sk-item\"><div class=\"sk-label-container\"><div class=\"sk-label sk-toggleable\"><input class=\"sk-toggleable__control sk-hidden--visually\" id=\"dbf9dcfc-05c8-47f6-af5f-d8f44619f2cb\" type=\"checkbox\" ><label class=\"sk-toggleable__label\" for=\"dbf9dcfc-05c8-47f6-af5f-d8f44619f2cb\">pipeline-3</label><div class=\"sk-toggleable__content\"><pre>['sex']</pre></div></div></div><div class=\"sk-serial\"><div class=\"sk-item\"><div class=\"sk-serial\"><div class=\"sk-item\"><div class=\"sk-estimator sk-toggleable\"><input class=\"sk-toggleable__control sk-hidden--visually\" id=\"27aa54ee-1286-41a5-b245-da92667dc0f0\" type=\"checkbox\" ><label class=\"sk-toggleable__label\" for=\"27aa54ee-1286-41a5-b245-da92667dc0f0\">SimpleImputer</label><div class=\"sk-toggleable__content\"><pre>SimpleImputer(fill_value='missing', strategy='constant')</pre></div></div></div><div class=\"sk-item\"><div class=\"sk-estimator sk-toggleable\"><input class=\"sk-toggleable__control sk-hidden--visually\" id=\"4a857f06-3a79-4335-8029-12687a851641\" type=\"checkbox\" ><label class=\"sk-toggleable__label\" for=\"4a857f06-3a79-4335-8029-12687a851641\">OneHotEncoder</label><div class=\"sk-toggleable__content\"><pre>OneHotEncoder(drop='if_binary', dtype=<class 'int'>)</pre></div></div></div></div></div></div></div></div><div class=\"sk-parallel-item\"><div class=\"sk-item\"><div class=\"sk-label-container\"><div class=\"sk-label sk-toggleable\"><input class=\"sk-toggleable__control sk-hidden--visually\" id=\"a0389606-e1c4-47d7-85cd-205ac8155893\" type=\"checkbox\" ><label class=\"sk-toggleable__label\" for=\"a0389606-e1c4-47d7-85cd-205ac8155893\">pipeline-4</label><div class=\"sk-toggleable__content\"><pre>['workclass', 'marital.status', 'occupation', 'relationship', 'native.country']</pre></div></div></div><div class=\"sk-serial\"><div class=\"sk-item\"><div class=\"sk-serial\"><div class=\"sk-item\"><div class=\"sk-estimator sk-toggleable\"><input class=\"sk-toggleable__control sk-hidden--visually\" id=\"10e8d963-4fbe-436c-8111-99c11201f586\" type=\"checkbox\" ><label class=\"sk-toggleable__label\" for=\"10e8d963-4fbe-436c-8111-99c11201f586\">SimpleImputer</label><div class=\"sk-toggleable__content\"><pre>SimpleImputer(fill_value='missing', strategy='constant')</pre></div></div></div><div class=\"sk-item\"><div class=\"sk-estimator sk-toggleable\"><input class=\"sk-toggleable__control sk-hidden--visually\" id=\"8d482952-6092-4073-9d01-f02d336488ed\" type=\"checkbox\" ><label class=\"sk-toggleable__label\" for=\"8d482952-6092-4073-9d01-f02d336488ed\">OneHotEncoder</label><div class=\"sk-toggleable__content\"><pre>OneHotEncoder(handle_unknown='ignore', sparse=False)</pre></div></div></div></div></div></div></div></div><div class=\"sk-parallel-item\"><div class=\"sk-item\"><div class=\"sk-label-container\"><div class=\"sk-label sk-toggleable\"><input class=\"sk-toggleable__control sk-hidden--visually\" id=\"cadbac48-a9bb-4037-851a-ea9ee5d8ab08\" type=\"checkbox\" ><label class=\"sk-toggleable__label\" for=\"cadbac48-a9bb-4037-851a-ea9ee5d8ab08\">drop</label><div class=\"sk-toggleable__content\"><pre>['race', 'education.num']</pre></div></div></div><div class=\"sk-serial\"><div class=\"sk-item\"><div class=\"sk-estimator sk-toggleable\"><input class=\"sk-toggleable__control sk-hidden--visually\" id=\"614cb345-edf6-4982-a96c-62e8862b1722\" type=\"checkbox\" ><label class=\"sk-toggleable__label\" for=\"614cb345-edf6-4982-a96c-62e8862b1722\">drop</label><div class=\"sk-toggleable__content\"><pre>drop</pre></div></div></div></div></div></div></div></div><div class=\"sk-item\"><div class=\"sk-estimator sk-toggleable\"><input class=\"sk-toggleable__control sk-hidden--visually\" id=\"84acb081-9659-4575-bc40-c9e822ab3dad\" type=\"checkbox\" ><label class=\"sk-toggleable__label\" for=\"84acb081-9659-4575-bc40-c9e822ab3dad\">DecisionTreeClassifier</label><div class=\"sk-toggleable__content\"><pre>DecisionTreeClassifier(random_state=123)</pre></div></div></div></div></div></div></div></div><div class=\"sk-parallel-item\"><div class=\"sk-item\"><div class=\"sk-label-container\"><div class=\"sk-label sk-toggleable\"><label>random forest</label></div></div><div class=\"sk-serial\"><div class=\"sk-item\"><div class=\"sk-serial\"><div class=\"sk-item sk-dashed-wrapped\"><div class=\"sk-label-container\"><div class=\"sk-label sk-toggleable\"><input class=\"sk-toggleable__control sk-hidden--visually\" id=\"f6b6f0fd-d9e1-4ebd-9a8b-4f814cfe8115\" type=\"checkbox\" ><label class=\"sk-toggleable__label\" for=\"f6b6f0fd-d9e1-4ebd-9a8b-4f814cfe8115\">columntransformer: ColumnTransformer</label><div class=\"sk-toggleable__content\"><pre>ColumnTransformer(transformers=[('pipeline-1',\n",
       "                                 Pipeline(steps=[('standardscaler',\n",
       "                                                  StandardScaler())]),\n",
       "                                 ['age', 'fnlwgt', 'capital.gain',\n",
       "                                  'capital.loss', 'hours.per.week']),\n",
       "                                ('pipeline-2',\n",
       "                                 Pipeline(steps=[('ordinalencoder',\n",
       "                                                  OrdinalEncoder(categories=[['Preschool',\n",
       "                                                                              '1st-4th',\n",
       "                                                                              '5th-6th',\n",
       "                                                                              '7th-8th',\n",
       "                                                                              '9th',\n",
       "                                                                              '10th',\n",
       "                                                                              '11th',\n",
       "                                                                              '12th',\n",
       "                                                                              'HS-grad',\n",
       "                                                                              'Prof-school',\n",
       "                                                                              'Assoc-voc',\n",
       "                                                                              'Ass...\n",
       "                                                  OneHotEncoder(drop='if_binary',\n",
       "                                                                dtype=<class 'int'>))]),\n",
       "                                 ['sex']),\n",
       "                                ('pipeline-4',\n",
       "                                 Pipeline(steps=[('simpleimputer',\n",
       "                                                  SimpleImputer(fill_value='missing',\n",
       "                                                                strategy='constant')),\n",
       "                                                 ('onehotencoder',\n",
       "                                                  OneHotEncoder(handle_unknown='ignore',\n",
       "                                                                sparse=False))]),\n",
       "                                 ['workclass', 'marital.status', 'occupation',\n",
       "                                  'relationship', 'native.country']),\n",
       "                                ('drop', 'drop', ['race', 'education.num'])])</pre></div></div></div><div class=\"sk-parallel\"><div class=\"sk-parallel-item\"><div class=\"sk-item\"><div class=\"sk-label-container\"><div class=\"sk-label sk-toggleable\"><input class=\"sk-toggleable__control sk-hidden--visually\" id=\"627ab5b8-16af-46b2-87b1-7af0c014e311\" type=\"checkbox\" ><label class=\"sk-toggleable__label\" for=\"627ab5b8-16af-46b2-87b1-7af0c014e311\">pipeline-1</label><div class=\"sk-toggleable__content\"><pre>['age', 'fnlwgt', 'capital.gain', 'capital.loss', 'hours.per.week']</pre></div></div></div><div class=\"sk-serial\"><div class=\"sk-item\"><div class=\"sk-serial\"><div class=\"sk-item\"><div class=\"sk-estimator sk-toggleable\"><input class=\"sk-toggleable__control sk-hidden--visually\" id=\"37b71e89-9114-4981-b9d0-ced553dd9a37\" type=\"checkbox\" ><label class=\"sk-toggleable__label\" for=\"37b71e89-9114-4981-b9d0-ced553dd9a37\">StandardScaler</label><div class=\"sk-toggleable__content\"><pre>StandardScaler()</pre></div></div></div></div></div></div></div></div><div class=\"sk-parallel-item\"><div class=\"sk-item\"><div class=\"sk-label-container\"><div class=\"sk-label sk-toggleable\"><input class=\"sk-toggleable__control sk-hidden--visually\" id=\"bb6c38c8-2c27-4481-a60e-0322b3355959\" type=\"checkbox\" ><label class=\"sk-toggleable__label\" for=\"bb6c38c8-2c27-4481-a60e-0322b3355959\">pipeline-2</label><div class=\"sk-toggleable__content\"><pre>['education']</pre></div></div></div><div class=\"sk-serial\"><div class=\"sk-item\"><div class=\"sk-serial\"><div class=\"sk-item\"><div class=\"sk-estimator sk-toggleable\"><input class=\"sk-toggleable__control sk-hidden--visually\" id=\"773ed62d-2d55-488c-bbdb-a238a3e82873\" type=\"checkbox\" ><label class=\"sk-toggleable__label\" for=\"773ed62d-2d55-488c-bbdb-a238a3e82873\">OrdinalEncoder</label><div class=\"sk-toggleable__content\"><pre>OrdinalEncoder(categories=[['Preschool', '1st-4th', '5th-6th', '7th-8th', '9th',\n",
       "                            '10th', '11th', '12th', 'HS-grad', 'Prof-school',\n",
       "                            'Assoc-voc', 'Assoc-acdm', 'Some-college',\n",
       "                            'Bachelors', 'Masters', 'Doctorate']],\n",
       "               dtype=<class 'int'>)</pre></div></div></div></div></div></div></div></div><div class=\"sk-parallel-item\"><div class=\"sk-item\"><div class=\"sk-label-container\"><div class=\"sk-label sk-toggleable\"><input class=\"sk-toggleable__control sk-hidden--visually\" id=\"5af363d6-bf78-4d3d-a5ef-5027b3a97193\" type=\"checkbox\" ><label class=\"sk-toggleable__label\" for=\"5af363d6-bf78-4d3d-a5ef-5027b3a97193\">pipeline-3</label><div class=\"sk-toggleable__content\"><pre>['sex']</pre></div></div></div><div class=\"sk-serial\"><div class=\"sk-item\"><div class=\"sk-serial\"><div class=\"sk-item\"><div class=\"sk-estimator sk-toggleable\"><input class=\"sk-toggleable__control sk-hidden--visually\" id=\"6997038b-67b8-48db-a2b0-c1390645923b\" type=\"checkbox\" ><label class=\"sk-toggleable__label\" for=\"6997038b-67b8-48db-a2b0-c1390645923b\">SimpleImputer</label><div class=\"sk-toggleable__content\"><pre>SimpleImputer(fill_value='missing', strategy='constant')</pre></div></div></div><div class=\"sk-item\"><div class=\"sk-estimator sk-toggleable\"><input class=\"sk-toggleable__control sk-hidden--visually\" id=\"d4698b79-deb7-460f-9283-c7834fc8d606\" type=\"checkbox\" ><label class=\"sk-toggleable__label\" for=\"d4698b79-deb7-460f-9283-c7834fc8d606\">OneHotEncoder</label><div class=\"sk-toggleable__content\"><pre>OneHotEncoder(drop='if_binary', dtype=<class 'int'>)</pre></div></div></div></div></div></div></div></div><div class=\"sk-parallel-item\"><div class=\"sk-item\"><div class=\"sk-label-container\"><div class=\"sk-label sk-toggleable\"><input class=\"sk-toggleable__control sk-hidden--visually\" id=\"63fb5688-24ca-458a-a349-526c53b99569\" type=\"checkbox\" ><label class=\"sk-toggleable__label\" for=\"63fb5688-24ca-458a-a349-526c53b99569\">pipeline-4</label><div class=\"sk-toggleable__content\"><pre>['workclass', 'marital.status', 'occupation', 'relationship', 'native.country']</pre></div></div></div><div class=\"sk-serial\"><div class=\"sk-item\"><div class=\"sk-serial\"><div class=\"sk-item\"><div class=\"sk-estimator sk-toggleable\"><input class=\"sk-toggleable__control sk-hidden--visually\" id=\"b8c1380a-d15d-4a44-9c6b-c5147d6a537c\" type=\"checkbox\" ><label class=\"sk-toggleable__label\" for=\"b8c1380a-d15d-4a44-9c6b-c5147d6a537c\">SimpleImputer</label><div class=\"sk-toggleable__content\"><pre>SimpleImputer(fill_value='missing', strategy='constant')</pre></div></div></div><div class=\"sk-item\"><div class=\"sk-estimator sk-toggleable\"><input class=\"sk-toggleable__control sk-hidden--visually\" id=\"4d4bb833-2fe5-4393-8a64-6ceef1e32b1c\" type=\"checkbox\" ><label class=\"sk-toggleable__label\" for=\"4d4bb833-2fe5-4393-8a64-6ceef1e32b1c\">OneHotEncoder</label><div class=\"sk-toggleable__content\"><pre>OneHotEncoder(handle_unknown='ignore', sparse=False)</pre></div></div></div></div></div></div></div></div><div class=\"sk-parallel-item\"><div class=\"sk-item\"><div class=\"sk-label-container\"><div class=\"sk-label sk-toggleable\"><input class=\"sk-toggleable__control sk-hidden--visually\" id=\"f1c8c780-2905-48b9-8038-dde91d36a4b1\" type=\"checkbox\" ><label class=\"sk-toggleable__label\" for=\"f1c8c780-2905-48b9-8038-dde91d36a4b1\">drop</label><div class=\"sk-toggleable__content\"><pre>['race', 'education.num']</pre></div></div></div><div class=\"sk-serial\"><div class=\"sk-item\"><div class=\"sk-estimator sk-toggleable\"><input class=\"sk-toggleable__control sk-hidden--visually\" id=\"d9e9d292-9ba0-478f-ba5e-43479f0e45f7\" type=\"checkbox\" ><label class=\"sk-toggleable__label\" for=\"d9e9d292-9ba0-478f-ba5e-43479f0e45f7\">drop</label><div class=\"sk-toggleable__content\"><pre>drop</pre></div></div></div></div></div></div></div></div><div class=\"sk-item\"><div class=\"sk-estimator sk-toggleable\"><input class=\"sk-toggleable__control sk-hidden--visually\" id=\"dfb917d3-c882-42d2-8897-ebb1fd585979\" type=\"checkbox\" ><label class=\"sk-toggleable__label\" for=\"dfb917d3-c882-42d2-8897-ebb1fd585979\">RandomForestClassifier</label><div class=\"sk-toggleable__content\"><pre>RandomForestClassifier(random_state=123)</pre></div></div></div></div></div></div></div></div><div class=\"sk-parallel-item\"><div class=\"sk-item\"><div class=\"sk-label-container\"><div class=\"sk-label sk-toggleable\"><label>XGBoost</label></div></div><div class=\"sk-serial\"><div class=\"sk-item\"><div class=\"sk-serial\"><div class=\"sk-item sk-dashed-wrapped\"><div class=\"sk-label-container\"><div class=\"sk-label sk-toggleable\"><input class=\"sk-toggleable__control sk-hidden--visually\" id=\"f4133551-9801-48c1-9ce6-565c60938bd5\" type=\"checkbox\" ><label class=\"sk-toggleable__label\" for=\"f4133551-9801-48c1-9ce6-565c60938bd5\">columntransformer: ColumnTransformer</label><div class=\"sk-toggleable__content\"><pre>ColumnTransformer(transformers=[('pipeline-1',\n",
       "                                 Pipeline(steps=[('standardscaler',\n",
       "                                                  StandardScaler())]),\n",
       "                                 ['age', 'fnlwgt', 'capital.gain',\n",
       "                                  'capital.loss', 'hours.per.week']),\n",
       "                                ('pipeline-2',\n",
       "                                 Pipeline(steps=[('ordinalencoder',\n",
       "                                                  OrdinalEncoder(categories=[['Preschool',\n",
       "                                                                              '1st-4th',\n",
       "                                                                              '5th-6th',\n",
       "                                                                              '7th-8th',\n",
       "                                                                              '9th',\n",
       "                                                                              '10th',\n",
       "                                                                              '11th',\n",
       "                                                                              '12th',\n",
       "                                                                              'HS-grad',\n",
       "                                                                              'Prof-school',\n",
       "                                                                              'Assoc-voc',\n",
       "                                                                              'Ass...\n",
       "                                                  OneHotEncoder(drop='if_binary',\n",
       "                                                                dtype=<class 'int'>))]),\n",
       "                                 ['sex']),\n",
       "                                ('pipeline-4',\n",
       "                                 Pipeline(steps=[('simpleimputer',\n",
       "                                                  SimpleImputer(fill_value='missing',\n",
       "                                                                strategy='constant')),\n",
       "                                                 ('onehotencoder',\n",
       "                                                  OneHotEncoder(handle_unknown='ignore',\n",
       "                                                                sparse=False))]),\n",
       "                                 ['workclass', 'marital.status', 'occupation',\n",
       "                                  'relationship', 'native.country']),\n",
       "                                ('drop', 'drop', ['race', 'education.num'])])</pre></div></div></div><div class=\"sk-parallel\"><div class=\"sk-parallel-item\"><div class=\"sk-item\"><div class=\"sk-label-container\"><div class=\"sk-label sk-toggleable\"><input class=\"sk-toggleable__control sk-hidden--visually\" id=\"e0df5ba8-d621-4d1f-8507-4140dbaa2903\" type=\"checkbox\" ><label class=\"sk-toggleable__label\" for=\"e0df5ba8-d621-4d1f-8507-4140dbaa2903\">pipeline-1</label><div class=\"sk-toggleable__content\"><pre>['age', 'fnlwgt', 'capital.gain', 'capital.loss', 'hours.per.week']</pre></div></div></div><div class=\"sk-serial\"><div class=\"sk-item\"><div class=\"sk-serial\"><div class=\"sk-item\"><div class=\"sk-estimator sk-toggleable\"><input class=\"sk-toggleable__control sk-hidden--visually\" id=\"387a1a3b-4f45-4a90-9e5e-38879421db9f\" type=\"checkbox\" ><label class=\"sk-toggleable__label\" for=\"387a1a3b-4f45-4a90-9e5e-38879421db9f\">StandardScaler</label><div class=\"sk-toggleable__content\"><pre>StandardScaler()</pre></div></div></div></div></div></div></div></div><div class=\"sk-parallel-item\"><div class=\"sk-item\"><div class=\"sk-label-container\"><div class=\"sk-label sk-toggleable\"><input class=\"sk-toggleable__control sk-hidden--visually\" id=\"8136ae35-6bc4-4ade-947c-0b7e772dcb40\" type=\"checkbox\" ><label class=\"sk-toggleable__label\" for=\"8136ae35-6bc4-4ade-947c-0b7e772dcb40\">pipeline-2</label><div class=\"sk-toggleable__content\"><pre>['education']</pre></div></div></div><div class=\"sk-serial\"><div class=\"sk-item\"><div class=\"sk-serial\"><div class=\"sk-item\"><div class=\"sk-estimator sk-toggleable\"><input class=\"sk-toggleable__control sk-hidden--visually\" id=\"463e1d13-86c7-4f14-92fd-2816786f77bb\" type=\"checkbox\" ><label class=\"sk-toggleable__label\" for=\"463e1d13-86c7-4f14-92fd-2816786f77bb\">OrdinalEncoder</label><div class=\"sk-toggleable__content\"><pre>OrdinalEncoder(categories=[['Preschool', '1st-4th', '5th-6th', '7th-8th', '9th',\n",
       "                            '10th', '11th', '12th', 'HS-grad', 'Prof-school',\n",
       "                            'Assoc-voc', 'Assoc-acdm', 'Some-college',\n",
       "                            'Bachelors', 'Masters', 'Doctorate']],\n",
       "               dtype=<class 'int'>)</pre></div></div></div></div></div></div></div></div><div class=\"sk-parallel-item\"><div class=\"sk-item\"><div class=\"sk-label-container\"><div class=\"sk-label sk-toggleable\"><input class=\"sk-toggleable__control sk-hidden--visually\" id=\"307db3f5-e710-4abd-96cf-62f9265bf031\" type=\"checkbox\" ><label class=\"sk-toggleable__label\" for=\"307db3f5-e710-4abd-96cf-62f9265bf031\">pipeline-3</label><div class=\"sk-toggleable__content\"><pre>['sex']</pre></div></div></div><div class=\"sk-serial\"><div class=\"sk-item\"><div class=\"sk-serial\"><div class=\"sk-item\"><div class=\"sk-estimator sk-toggleable\"><input class=\"sk-toggleable__control sk-hidden--visually\" id=\"9c7541e8-e692-479e-b9fd-4d15f979899d\" type=\"checkbox\" ><label class=\"sk-toggleable__label\" for=\"9c7541e8-e692-479e-b9fd-4d15f979899d\">SimpleImputer</label><div class=\"sk-toggleable__content\"><pre>SimpleImputer(fill_value='missing', strategy='constant')</pre></div></div></div><div class=\"sk-item\"><div class=\"sk-estimator sk-toggleable\"><input class=\"sk-toggleable__control sk-hidden--visually\" id=\"147d65a9-496a-4076-811a-925332d2db24\" type=\"checkbox\" ><label class=\"sk-toggleable__label\" for=\"147d65a9-496a-4076-811a-925332d2db24\">OneHotEncoder</label><div class=\"sk-toggleable__content\"><pre>OneHotEncoder(drop='if_binary', dtype=<class 'int'>)</pre></div></div></div></div></div></div></div></div><div class=\"sk-parallel-item\"><div class=\"sk-item\"><div class=\"sk-label-container\"><div class=\"sk-label sk-toggleable\"><input class=\"sk-toggleable__control sk-hidden--visually\" id=\"9663042a-f2ff-4aeb-9003-11a8c30f13a5\" type=\"checkbox\" ><label class=\"sk-toggleable__label\" for=\"9663042a-f2ff-4aeb-9003-11a8c30f13a5\">pipeline-4</label><div class=\"sk-toggleable__content\"><pre>['workclass', 'marital.status', 'occupation', 'relationship', 'native.country']</pre></div></div></div><div class=\"sk-serial\"><div class=\"sk-item\"><div class=\"sk-serial\"><div class=\"sk-item\"><div class=\"sk-estimator sk-toggleable\"><input class=\"sk-toggleable__control sk-hidden--visually\" id=\"831b1992-6747-403d-a90e-7c56d2348685\" type=\"checkbox\" ><label class=\"sk-toggleable__label\" for=\"831b1992-6747-403d-a90e-7c56d2348685\">SimpleImputer</label><div class=\"sk-toggleable__content\"><pre>SimpleImputer(fill_value='missing', strategy='constant')</pre></div></div></div><div class=\"sk-item\"><div class=\"sk-estimator sk-toggleable\"><input class=\"sk-toggleable__control sk-hidden--visually\" id=\"2115686a-6891-406d-88f3-6941c2467790\" type=\"checkbox\" ><label class=\"sk-toggleable__label\" for=\"2115686a-6891-406d-88f3-6941c2467790\">OneHotEncoder</label><div class=\"sk-toggleable__content\"><pre>OneHotEncoder(handle_unknown='ignore', sparse=False)</pre></div></div></div></div></div></div></div></div><div class=\"sk-parallel-item\"><div class=\"sk-item\"><div class=\"sk-label-container\"><div class=\"sk-label sk-toggleable\"><input class=\"sk-toggleable__control sk-hidden--visually\" id=\"1e3c06e7-94cc-4ae4-852a-96172de0289d\" type=\"checkbox\" ><label class=\"sk-toggleable__label\" for=\"1e3c06e7-94cc-4ae4-852a-96172de0289d\">drop</label><div class=\"sk-toggleable__content\"><pre>['race', 'education.num']</pre></div></div></div><div class=\"sk-serial\"><div class=\"sk-item\"><div class=\"sk-estimator sk-toggleable\"><input class=\"sk-toggleable__control sk-hidden--visually\" id=\"c936852e-7240-4bd8-bde4-f703c4222fc8\" type=\"checkbox\" ><label class=\"sk-toggleable__label\" for=\"c936852e-7240-4bd8-bde4-f703c4222fc8\">drop</label><div class=\"sk-toggleable__content\"><pre>drop</pre></div></div></div></div></div></div></div></div><div class=\"sk-item\"><div class=\"sk-estimator sk-toggleable\"><input class=\"sk-toggleable__control sk-hidden--visually\" id=\"6291a26b-9933-4c30-8569-bb1c4b79a6d5\" type=\"checkbox\" ><label class=\"sk-toggleable__label\" for=\"6291a26b-9933-4c30-8569-bb1c4b79a6d5\">XGBClassifier</label><div class=\"sk-toggleable__content\"><pre>XGBClassifier(base_score=None, booster=None, colsample_bylevel=None,\n",
       "              colsample_bynode=None, colsample_bytree=None,\n",
       "              eval_metric='logloss', gamma=None, gpu_id=None,\n",
       "              importance_type='gain', interaction_constraints=None,\n",
       "              learning_rate=None, max_delta_step=None, max_depth=None,\n",
       "              min_child_weight=None, missing=nan, monotone_constraints=None,\n",
       "              n_estimators=100, n_jobs=None, num_parallel_tree=None,\n",
       "              random_state=123, reg_alpha=None, reg_lambda=None,\n",
       "              scale_pos_weight=None, subsample=None, tree_method=None,\n",
       "              validate_parameters=None, verbosity=0)</pre></div></div></div></div></div></div></div></div><div class=\"sk-parallel-item\"><div class=\"sk-item\"><div class=\"sk-label-container\"><div class=\"sk-label sk-toggleable\"><label>LightGBM</label></div></div><div class=\"sk-serial\"><div class=\"sk-item\"><div class=\"sk-serial\"><div class=\"sk-item sk-dashed-wrapped\"><div class=\"sk-label-container\"><div class=\"sk-label sk-toggleable\"><input class=\"sk-toggleable__control sk-hidden--visually\" id=\"79720cd3-1ad8-469b-81b1-c43b43baf850\" type=\"checkbox\" ><label class=\"sk-toggleable__label\" for=\"79720cd3-1ad8-469b-81b1-c43b43baf850\">columntransformer: ColumnTransformer</label><div class=\"sk-toggleable__content\"><pre>ColumnTransformer(transformers=[('pipeline-1',\n",
       "                                 Pipeline(steps=[('standardscaler',\n",
       "                                                  StandardScaler())]),\n",
       "                                 ['age', 'fnlwgt', 'capital.gain',\n",
       "                                  'capital.loss', 'hours.per.week']),\n",
       "                                ('pipeline-2',\n",
       "                                 Pipeline(steps=[('ordinalencoder',\n",
       "                                                  OrdinalEncoder(categories=[['Preschool',\n",
       "                                                                              '1st-4th',\n",
       "                                                                              '5th-6th',\n",
       "                                                                              '7th-8th',\n",
       "                                                                              '9th',\n",
       "                                                                              '10th',\n",
       "                                                                              '11th',\n",
       "                                                                              '12th',\n",
       "                                                                              'HS-grad',\n",
       "                                                                              'Prof-school',\n",
       "                                                                              'Assoc-voc',\n",
       "                                                                              'Ass...\n",
       "                                                  OneHotEncoder(drop='if_binary',\n",
       "                                                                dtype=<class 'int'>))]),\n",
       "                                 ['sex']),\n",
       "                                ('pipeline-4',\n",
       "                                 Pipeline(steps=[('simpleimputer',\n",
       "                                                  SimpleImputer(fill_value='missing',\n",
       "                                                                strategy='constant')),\n",
       "                                                 ('onehotencoder',\n",
       "                                                  OneHotEncoder(handle_unknown='ignore',\n",
       "                                                                sparse=False))]),\n",
       "                                 ['workclass', 'marital.status', 'occupation',\n",
       "                                  'relationship', 'native.country']),\n",
       "                                ('drop', 'drop', ['race', 'education.num'])])</pre></div></div></div><div class=\"sk-parallel\"><div class=\"sk-parallel-item\"><div class=\"sk-item\"><div class=\"sk-label-container\"><div class=\"sk-label sk-toggleable\"><input class=\"sk-toggleable__control sk-hidden--visually\" id=\"4e5994e7-4784-4afc-ace0-8b549136647a\" type=\"checkbox\" ><label class=\"sk-toggleable__label\" for=\"4e5994e7-4784-4afc-ace0-8b549136647a\">pipeline-1</label><div class=\"sk-toggleable__content\"><pre>['age', 'fnlwgt', 'capital.gain', 'capital.loss', 'hours.per.week']</pre></div></div></div><div class=\"sk-serial\"><div class=\"sk-item\"><div class=\"sk-serial\"><div class=\"sk-item\"><div class=\"sk-estimator sk-toggleable\"><input class=\"sk-toggleable__control sk-hidden--visually\" id=\"35a3b012-ccaa-4992-b7b5-028eb66d5969\" type=\"checkbox\" ><label class=\"sk-toggleable__label\" for=\"35a3b012-ccaa-4992-b7b5-028eb66d5969\">StandardScaler</label><div class=\"sk-toggleable__content\"><pre>StandardScaler()</pre></div></div></div></div></div></div></div></div><div class=\"sk-parallel-item\"><div class=\"sk-item\"><div class=\"sk-label-container\"><div class=\"sk-label sk-toggleable\"><input class=\"sk-toggleable__control sk-hidden--visually\" id=\"82fbea03-42e2-4abc-88c0-91cf387590b6\" type=\"checkbox\" ><label class=\"sk-toggleable__label\" for=\"82fbea03-42e2-4abc-88c0-91cf387590b6\">pipeline-2</label><div class=\"sk-toggleable__content\"><pre>['education']</pre></div></div></div><div class=\"sk-serial\"><div class=\"sk-item\"><div class=\"sk-serial\"><div class=\"sk-item\"><div class=\"sk-estimator sk-toggleable\"><input class=\"sk-toggleable__control sk-hidden--visually\" id=\"6bf2e15d-3c99-4ab2-ae95-adb7aa8f0868\" type=\"checkbox\" ><label class=\"sk-toggleable__label\" for=\"6bf2e15d-3c99-4ab2-ae95-adb7aa8f0868\">OrdinalEncoder</label><div class=\"sk-toggleable__content\"><pre>OrdinalEncoder(categories=[['Preschool', '1st-4th', '5th-6th', '7th-8th', '9th',\n",
       "                            '10th', '11th', '12th', 'HS-grad', 'Prof-school',\n",
       "                            'Assoc-voc', 'Assoc-acdm', 'Some-college',\n",
       "                            'Bachelors', 'Masters', 'Doctorate']],\n",
       "               dtype=<class 'int'>)</pre></div></div></div></div></div></div></div></div><div class=\"sk-parallel-item\"><div class=\"sk-item\"><div class=\"sk-label-container\"><div class=\"sk-label sk-toggleable\"><input class=\"sk-toggleable__control sk-hidden--visually\" id=\"6f8b9c51-d525-4f4c-bd32-fe3e5c14e03d\" type=\"checkbox\" ><label class=\"sk-toggleable__label\" for=\"6f8b9c51-d525-4f4c-bd32-fe3e5c14e03d\">pipeline-3</label><div class=\"sk-toggleable__content\"><pre>['sex']</pre></div></div></div><div class=\"sk-serial\"><div class=\"sk-item\"><div class=\"sk-serial\"><div class=\"sk-item\"><div class=\"sk-estimator sk-toggleable\"><input class=\"sk-toggleable__control sk-hidden--visually\" id=\"bc9a7ba5-cd8f-42e5-858a-0ae48d8c0752\" type=\"checkbox\" ><label class=\"sk-toggleable__label\" for=\"bc9a7ba5-cd8f-42e5-858a-0ae48d8c0752\">SimpleImputer</label><div class=\"sk-toggleable__content\"><pre>SimpleImputer(fill_value='missing', strategy='constant')</pre></div></div></div><div class=\"sk-item\"><div class=\"sk-estimator sk-toggleable\"><input class=\"sk-toggleable__control sk-hidden--visually\" id=\"cabf93c1-f972-40ca-872d-d013f395e91c\" type=\"checkbox\" ><label class=\"sk-toggleable__label\" for=\"cabf93c1-f972-40ca-872d-d013f395e91c\">OneHotEncoder</label><div class=\"sk-toggleable__content\"><pre>OneHotEncoder(drop='if_binary', dtype=<class 'int'>)</pre></div></div></div></div></div></div></div></div><div class=\"sk-parallel-item\"><div class=\"sk-item\"><div class=\"sk-label-container\"><div class=\"sk-label sk-toggleable\"><input class=\"sk-toggleable__control sk-hidden--visually\" id=\"02fc4d50-ea7a-4390-97b4-31b24594f2dc\" type=\"checkbox\" ><label class=\"sk-toggleable__label\" for=\"02fc4d50-ea7a-4390-97b4-31b24594f2dc\">pipeline-4</label><div class=\"sk-toggleable__content\"><pre>['workclass', 'marital.status', 'occupation', 'relationship', 'native.country']</pre></div></div></div><div class=\"sk-serial\"><div class=\"sk-item\"><div class=\"sk-serial\"><div class=\"sk-item\"><div class=\"sk-estimator sk-toggleable\"><input class=\"sk-toggleable__control sk-hidden--visually\" id=\"38a22a95-0b8e-4c1c-867e-f45c0f2a8643\" type=\"checkbox\" ><label class=\"sk-toggleable__label\" for=\"38a22a95-0b8e-4c1c-867e-f45c0f2a8643\">SimpleImputer</label><div class=\"sk-toggleable__content\"><pre>SimpleImputer(fill_value='missing', strategy='constant')</pre></div></div></div><div class=\"sk-item\"><div class=\"sk-estimator sk-toggleable\"><input class=\"sk-toggleable__control sk-hidden--visually\" id=\"fa49ae25-1fe4-4962-9cdd-551ea65ec206\" type=\"checkbox\" ><label class=\"sk-toggleable__label\" for=\"fa49ae25-1fe4-4962-9cdd-551ea65ec206\">OneHotEncoder</label><div class=\"sk-toggleable__content\"><pre>OneHotEncoder(handle_unknown='ignore', sparse=False)</pre></div></div></div></div></div></div></div></div><div class=\"sk-parallel-item\"><div class=\"sk-item\"><div class=\"sk-label-container\"><div class=\"sk-label sk-toggleable\"><input class=\"sk-toggleable__control sk-hidden--visually\" id=\"66de0296-dfbb-47cd-bb36-3500046539c8\" type=\"checkbox\" ><label class=\"sk-toggleable__label\" for=\"66de0296-dfbb-47cd-bb36-3500046539c8\">drop</label><div class=\"sk-toggleable__content\"><pre>['race', 'education.num']</pre></div></div></div><div class=\"sk-serial\"><div class=\"sk-item\"><div class=\"sk-estimator sk-toggleable\"><input class=\"sk-toggleable__control sk-hidden--visually\" id=\"6bcd135d-0054-4607-987f-7958beef6dcb\" type=\"checkbox\" ><label class=\"sk-toggleable__label\" for=\"6bcd135d-0054-4607-987f-7958beef6dcb\">drop</label><div class=\"sk-toggleable__content\"><pre>drop</pre></div></div></div></div></div></div></div></div><div class=\"sk-item\"><div class=\"sk-estimator sk-toggleable\"><input class=\"sk-toggleable__control sk-hidden--visually\" id=\"6dc56887-11be-4d52-879a-f4bcf804d3c3\" type=\"checkbox\" ><label class=\"sk-toggleable__label\" for=\"6dc56887-11be-4d52-879a-f4bcf804d3c3\">LGBMClassifier</label><div class=\"sk-toggleable__content\"><pre>LGBMClassifier(random_state=123)</pre></div></div></div></div></div></div></div></div><div class=\"sk-parallel-item\"><div class=\"sk-item\"><div class=\"sk-label-container\"><div class=\"sk-label sk-toggleable\"><label>CatBoost</label></div></div><div class=\"sk-serial\"><div class=\"sk-item\"><div class=\"sk-serial\"><div class=\"sk-item sk-dashed-wrapped\"><div class=\"sk-label-container\"><div class=\"sk-label sk-toggleable\"><input class=\"sk-toggleable__control sk-hidden--visually\" id=\"0d16f422-ba6b-443a-998f-3e8767d85886\" type=\"checkbox\" ><label class=\"sk-toggleable__label\" for=\"0d16f422-ba6b-443a-998f-3e8767d85886\">columntransformer: ColumnTransformer</label><div class=\"sk-toggleable__content\"><pre>ColumnTransformer(transformers=[('pipeline-1',\n",
       "                                 Pipeline(steps=[('standardscaler',\n",
       "                                                  StandardScaler())]),\n",
       "                                 ['age', 'fnlwgt', 'capital.gain',\n",
       "                                  'capital.loss', 'hours.per.week']),\n",
       "                                ('pipeline-2',\n",
       "                                 Pipeline(steps=[('ordinalencoder',\n",
       "                                                  OrdinalEncoder(categories=[['Preschool',\n",
       "                                                                              '1st-4th',\n",
       "                                                                              '5th-6th',\n",
       "                                                                              '7th-8th',\n",
       "                                                                              '9th',\n",
       "                                                                              '10th',\n",
       "                                                                              '11th',\n",
       "                                                                              '12th',\n",
       "                                                                              'HS-grad',\n",
       "                                                                              'Prof-school',\n",
       "                                                                              'Assoc-voc',\n",
       "                                                                              'Ass...\n",
       "                                                  OneHotEncoder(drop='if_binary',\n",
       "                                                                dtype=<class 'int'>))]),\n",
       "                                 ['sex']),\n",
       "                                ('pipeline-4',\n",
       "                                 Pipeline(steps=[('simpleimputer',\n",
       "                                                  SimpleImputer(fill_value='missing',\n",
       "                                                                strategy='constant')),\n",
       "                                                 ('onehotencoder',\n",
       "                                                  OneHotEncoder(handle_unknown='ignore',\n",
       "                                                                sparse=False))]),\n",
       "                                 ['workclass', 'marital.status', 'occupation',\n",
       "                                  'relationship', 'native.country']),\n",
       "                                ('drop', 'drop', ['race', 'education.num'])])</pre></div></div></div><div class=\"sk-parallel\"><div class=\"sk-parallel-item\"><div class=\"sk-item\"><div class=\"sk-label-container\"><div class=\"sk-label sk-toggleable\"><input class=\"sk-toggleable__control sk-hidden--visually\" id=\"51d2941f-0f8d-4c8c-986d-be88c94da4e0\" type=\"checkbox\" ><label class=\"sk-toggleable__label\" for=\"51d2941f-0f8d-4c8c-986d-be88c94da4e0\">pipeline-1</label><div class=\"sk-toggleable__content\"><pre>['age', 'fnlwgt', 'capital.gain', 'capital.loss', 'hours.per.week']</pre></div></div></div><div class=\"sk-serial\"><div class=\"sk-item\"><div class=\"sk-serial\"><div class=\"sk-item\"><div class=\"sk-estimator sk-toggleable\"><input class=\"sk-toggleable__control sk-hidden--visually\" id=\"0b02c7dd-774b-4938-80fd-8cdddc0c1c41\" type=\"checkbox\" ><label class=\"sk-toggleable__label\" for=\"0b02c7dd-774b-4938-80fd-8cdddc0c1c41\">StandardScaler</label><div class=\"sk-toggleable__content\"><pre>StandardScaler()</pre></div></div></div></div></div></div></div></div><div class=\"sk-parallel-item\"><div class=\"sk-item\"><div class=\"sk-label-container\"><div class=\"sk-label sk-toggleable\"><input class=\"sk-toggleable__control sk-hidden--visually\" id=\"2a2906ca-c81d-4eb5-87e2-69074a7a611c\" type=\"checkbox\" ><label class=\"sk-toggleable__label\" for=\"2a2906ca-c81d-4eb5-87e2-69074a7a611c\">pipeline-2</label><div class=\"sk-toggleable__content\"><pre>['education']</pre></div></div></div><div class=\"sk-serial\"><div class=\"sk-item\"><div class=\"sk-serial\"><div class=\"sk-item\"><div class=\"sk-estimator sk-toggleable\"><input class=\"sk-toggleable__control sk-hidden--visually\" id=\"fcc686cd-b2dd-4417-9227-de94e988c1ce\" type=\"checkbox\" ><label class=\"sk-toggleable__label\" for=\"fcc686cd-b2dd-4417-9227-de94e988c1ce\">OrdinalEncoder</label><div class=\"sk-toggleable__content\"><pre>OrdinalEncoder(categories=[['Preschool', '1st-4th', '5th-6th', '7th-8th', '9th',\n",
       "                            '10th', '11th', '12th', 'HS-grad', 'Prof-school',\n",
       "                            'Assoc-voc', 'Assoc-acdm', 'Some-college',\n",
       "                            'Bachelors', 'Masters', 'Doctorate']],\n",
       "               dtype=<class 'int'>)</pre></div></div></div></div></div></div></div></div><div class=\"sk-parallel-item\"><div class=\"sk-item\"><div class=\"sk-label-container\"><div class=\"sk-label sk-toggleable\"><input class=\"sk-toggleable__control sk-hidden--visually\" id=\"31c75162-1546-4bdd-a35e-d64fba0ac657\" type=\"checkbox\" ><label class=\"sk-toggleable__label\" for=\"31c75162-1546-4bdd-a35e-d64fba0ac657\">pipeline-3</label><div class=\"sk-toggleable__content\"><pre>['sex']</pre></div></div></div><div class=\"sk-serial\"><div class=\"sk-item\"><div class=\"sk-serial\"><div class=\"sk-item\"><div class=\"sk-estimator sk-toggleable\"><input class=\"sk-toggleable__control sk-hidden--visually\" id=\"161bc220-7b2d-4e19-81d8-8a24cafc0e30\" type=\"checkbox\" ><label class=\"sk-toggleable__label\" for=\"161bc220-7b2d-4e19-81d8-8a24cafc0e30\">SimpleImputer</label><div class=\"sk-toggleable__content\"><pre>SimpleImputer(fill_value='missing', strategy='constant')</pre></div></div></div><div class=\"sk-item\"><div class=\"sk-estimator sk-toggleable\"><input class=\"sk-toggleable__control sk-hidden--visually\" id=\"bb48e596-9a5d-4fbf-b55a-ccdb0a16b361\" type=\"checkbox\" ><label class=\"sk-toggleable__label\" for=\"bb48e596-9a5d-4fbf-b55a-ccdb0a16b361\">OneHotEncoder</label><div class=\"sk-toggleable__content\"><pre>OneHotEncoder(drop='if_binary', dtype=<class 'int'>)</pre></div></div></div></div></div></div></div></div><div class=\"sk-parallel-item\"><div class=\"sk-item\"><div class=\"sk-label-container\"><div class=\"sk-label sk-toggleable\"><input class=\"sk-toggleable__control sk-hidden--visually\" id=\"54f66458-1250-40f8-89f7-2fd9daf83a23\" type=\"checkbox\" ><label class=\"sk-toggleable__label\" for=\"54f66458-1250-40f8-89f7-2fd9daf83a23\">pipeline-4</label><div class=\"sk-toggleable__content\"><pre>['workclass', 'marital.status', 'occupation', 'relationship', 'native.country']</pre></div></div></div><div class=\"sk-serial\"><div class=\"sk-item\"><div class=\"sk-serial\"><div class=\"sk-item\"><div class=\"sk-estimator sk-toggleable\"><input class=\"sk-toggleable__control sk-hidden--visually\" id=\"a58b18de-6ec4-48a1-9c58-46a6cac190ec\" type=\"checkbox\" ><label class=\"sk-toggleable__label\" for=\"a58b18de-6ec4-48a1-9c58-46a6cac190ec\">SimpleImputer</label><div class=\"sk-toggleable__content\"><pre>SimpleImputer(fill_value='missing', strategy='constant')</pre></div></div></div><div class=\"sk-item\"><div class=\"sk-estimator sk-toggleable\"><input class=\"sk-toggleable__control sk-hidden--visually\" id=\"a9dbbaa3-0688-493e-a6d2-4cad565fac2c\" type=\"checkbox\" ><label class=\"sk-toggleable__label\" for=\"a9dbbaa3-0688-493e-a6d2-4cad565fac2c\">OneHotEncoder</label><div class=\"sk-toggleable__content\"><pre>OneHotEncoder(handle_unknown='ignore', sparse=False)</pre></div></div></div></div></div></div></div></div><div class=\"sk-parallel-item\"><div class=\"sk-item\"><div class=\"sk-label-container\"><div class=\"sk-label sk-toggleable\"><input class=\"sk-toggleable__control sk-hidden--visually\" id=\"161b4589-4412-4ed5-a984-8124d702e30b\" type=\"checkbox\" ><label class=\"sk-toggleable__label\" for=\"161b4589-4412-4ed5-a984-8124d702e30b\">drop</label><div class=\"sk-toggleable__content\"><pre>['race', 'education.num']</pre></div></div></div><div class=\"sk-serial\"><div class=\"sk-item\"><div class=\"sk-estimator sk-toggleable\"><input class=\"sk-toggleable__control sk-hidden--visually\" id=\"7c4c3247-55de-4b0f-9a52-40fa8e503b70\" type=\"checkbox\" ><label class=\"sk-toggleable__label\" for=\"7c4c3247-55de-4b0f-9a52-40fa8e503b70\">drop</label><div class=\"sk-toggleable__content\"><pre>drop</pre></div></div></div></div></div></div></div></div><div class=\"sk-item\"><div class=\"sk-estimator sk-toggleable\"><input class=\"sk-toggleable__control sk-hidden--visually\" id=\"052c8edb-3470-4d97-855e-62fa5ad8d552\" type=\"checkbox\" ><label class=\"sk-toggleable__label\" for=\"052c8edb-3470-4d97-855e-62fa5ad8d552\">CatBoostClassifier</label><div class=\"sk-toggleable__content\"><pre><catboost.core.CatBoostClassifier object at 0x13a1f8bb0></pre></div></div></div></div></div></div></div></div></div></div></div></div>"
      ],
      "text/plain": [
       "VotingClassifier(estimators=[('logistic regression',\n",
       "                              Pipeline(steps=[('columntransformer',\n",
       "                                               ColumnTransformer(transformers=[('pipeline-1',\n",
       "                                                                                Pipeline(steps=[('standardscaler',\n",
       "                                                                                                 StandardScaler())]),\n",
       "                                                                                ['age',\n",
       "                                                                                 'fnlwgt',\n",
       "                                                                                 'capital.gain',\n",
       "                                                                                 'capital.loss',\n",
       "                                                                                 'hours.per.week']),\n",
       "                                                                               ('pipeline-2',\n",
       "                                                                                Pipeline(steps=[('ordinalencoder',\n",
       "                                                                                                 OrdinalEncoder(categories=[['Preschool',\n",
       "                                                                                                                             '1st-4th'...\n",
       "                                                                                Pipeline(steps=[('simpleimputer',\n",
       "                                                                                                 SimpleImputer(fill_value='missing',\n",
       "                                                                                                               strategy='constant')),\n",
       "                                                                                                ('onehotencoder',\n",
       "                                                                                                 OneHotEncoder(handle_unknown='ignore',\n",
       "                                                                                                               sparse=False))]),\n",
       "                                                                                ['workclass',\n",
       "                                                                                 'marital.status',\n",
       "                                                                                 'occupation',\n",
       "                                                                                 'relationship',\n",
       "                                                                                 'native.country']),\n",
       "                                                                               ('drop',\n",
       "                                                                                'drop',\n",
       "                                                                                ['race',\n",
       "                                                                                 'education.num'])])),\n",
       "                                              ('catboostclassifier',\n",
       "                                               <catboost.core.CatBoostClassifier object at 0x13a1f8bb0>)]))],\n",
       "                 voting='soft')"
      ]
     },
     "execution_count": 29,
     "metadata": {},
     "output_type": "execute_result"
    }
   ],
   "source": [
    "averaging_model"
   ]
  },
  {
   "cell_type": "markdown",
   "metadata": {},
   "source": [
    "This `VotingClassifier` will take a _vote_ using the predictions of the constituent classifier pipelines."
   ]
  },
  {
   "cell_type": "markdown",
   "metadata": {
    "slideshow": {
     "slide_type": "slide"
    }
   },
   "source": [
    "Main parameter: `voting`\n",
    "- `voting='hard'` \n",
    "    - it uses the output of `predict` and actually votes.\n",
    "- `voting='soft'`\n",
    "    - with `voting='soft'` it averages the output of `predict_proba` and then thresholds / takes the larger."
   ]
  },
  {
   "cell_type": "markdown",
   "metadata": {
    "slideshow": {
     "slide_type": "slide"
    }
   },
   "source": [
    "- The choice depends on whether you trust `predict_proba` from your base classifiers - if so, it's nice to access that information."
   ]
  },
  {
   "cell_type": "code",
   "execution_count": 30,
   "metadata": {
    "slideshow": {
     "slide_type": "slide"
    }
   },
   "outputs": [],
   "source": [
    "averaging_model.fit(X_train, y_train);"
   ]
  },
  {
   "cell_type": "markdown",
   "metadata": {},
   "source": [
    "- What happens when you `fit` a `VotingClassifier`?\n",
    "    - It will fit all constituent models.    "
   ]
  },
  {
   "cell_type": "markdown",
   "metadata": {},
   "source": [
    "```{note}\n",
    "It seems sklearn requires us to actually call `fit` on the `VotingClassifier`, instead of passing in pre-fit models. This is an implementation choice rather than a conceptual limitation.\n",
    "```"
   ]
  },
  {
   "cell_type": "markdown",
   "metadata": {
    "slideshow": {
     "slide_type": "slide"
    }
   },
   "source": [
    "Let's look at particular test examples where `income` is \">50k\" (y=1):"
   ]
  },
  {
   "cell_type": "code",
   "execution_count": 31,
   "metadata": {},
   "outputs": [],
   "source": [
    "test_g50k = (\n",
    "    test_df.query(\"income == '>50K'\").sample(4, random_state=2).drop(columns=[\"income\"])\n",
    ")\n",
    "test_l50k = (\n",
    "    test_df.query(\"income == '<=50K'\")\n",
    "    .sample(4, random_state=2)\n",
    "    .drop(columns=[\"income\"])\n",
    ")"
   ]
  },
  {
   "cell_type": "code",
   "execution_count": 32,
   "metadata": {},
   "outputs": [
    {
     "data": {
      "text/plain": [
       "array(['<=50K', '>50K'], dtype=object)"
      ]
     },
     "execution_count": 32,
     "metadata": {},
     "output_type": "execute_result"
    }
   ],
   "source": [
    "averaging_model.classes_"
   ]
  },
  {
   "cell_type": "code",
   "execution_count": 33,
   "metadata": {
    "slideshow": {
     "slide_type": "slide"
    }
   },
   "outputs": [
    {
     "data": {
      "text/html": [
       "<div>\n",
       "<style scoped>\n",
       "    .dataframe tbody tr th:only-of-type {\n",
       "        vertical-align: middle;\n",
       "    }\n",
       "\n",
       "    .dataframe tbody tr th {\n",
       "        vertical-align: top;\n",
       "    }\n",
       "\n",
       "    .dataframe thead th {\n",
       "        text-align: right;\n",
       "    }\n",
       "</style>\n",
       "<table border=\"1\" class=\"dataframe\">\n",
       "  <thead>\n",
       "    <tr style=\"text-align: right;\">\n",
       "      <th></th>\n",
       "      <th>Voting classifier</th>\n",
       "    </tr>\n",
       "  </thead>\n",
       "  <tbody>\n",
       "    <tr>\n",
       "      <th>0</th>\n",
       "      <td>&gt;50K</td>\n",
       "    </tr>\n",
       "    <tr>\n",
       "      <th>1</th>\n",
       "      <td>&gt;50K</td>\n",
       "    </tr>\n",
       "    <tr>\n",
       "      <th>2</th>\n",
       "      <td>&gt;50K</td>\n",
       "    </tr>\n",
       "    <tr>\n",
       "      <th>3</th>\n",
       "      <td>&lt;=50K</td>\n",
       "    </tr>\n",
       "  </tbody>\n",
       "</table>\n",
       "</div>"
      ],
      "text/plain": [
       "  Voting classifier\n",
       "0              >50K\n",
       "1              >50K\n",
       "2              >50K\n",
       "3             <=50K"
      ]
     },
     "execution_count": 33,
     "metadata": {},
     "output_type": "execute_result"
    }
   ],
   "source": [
    "data = {\"Voting classifier\": averaging_model.predict(test_g50k)}\n",
    "pd.DataFrame(data)"
   ]
  },
  {
   "cell_type": "markdown",
   "metadata": {
    "slideshow": {
     "slide_type": "slide"
    }
   },
   "source": [
    "For hard voting, these are the votes:"
   ]
  },
  {
   "cell_type": "code",
   "execution_count": 34,
   "metadata": {
    "slideshow": {
     "slide_type": "-"
    }
   },
   "outputs": [
    {
     "data": {
      "text/html": [
       "<div>\n",
       "<style scoped>\n",
       "    .dataframe tbody tr th:only-of-type {\n",
       "        vertical-align: middle;\n",
       "    }\n",
       "\n",
       "    .dataframe tbody tr th {\n",
       "        vertical-align: top;\n",
       "    }\n",
       "\n",
       "    .dataframe thead th {\n",
       "        text-align: right;\n",
       "    }\n",
       "</style>\n",
       "<table border=\"1\" class=\"dataframe\">\n",
       "  <thead>\n",
       "    <tr style=\"text-align: right;\">\n",
       "      <th></th>\n",
       "      <th>Voting classifier</th>\n",
       "      <th>logistic regression</th>\n",
       "      <th>decision tree</th>\n",
       "      <th>random forest</th>\n",
       "      <th>XGBoost</th>\n",
       "      <th>LightGBM</th>\n",
       "      <th>CatBoost</th>\n",
       "    </tr>\n",
       "  </thead>\n",
       "  <tbody>\n",
       "    <tr>\n",
       "      <th>0</th>\n",
       "      <td>&gt;50K</td>\n",
       "      <td>1</td>\n",
       "      <td>1</td>\n",
       "      <td>1</td>\n",
       "      <td>1</td>\n",
       "      <td>1</td>\n",
       "      <td>1</td>\n",
       "    </tr>\n",
       "    <tr>\n",
       "      <th>1</th>\n",
       "      <td>&gt;50K</td>\n",
       "      <td>1</td>\n",
       "      <td>1</td>\n",
       "      <td>1</td>\n",
       "      <td>1</td>\n",
       "      <td>1</td>\n",
       "      <td>1</td>\n",
       "    </tr>\n",
       "    <tr>\n",
       "      <th>2</th>\n",
       "      <td>&gt;50K</td>\n",
       "      <td>1</td>\n",
       "      <td>0</td>\n",
       "      <td>1</td>\n",
       "      <td>1</td>\n",
       "      <td>1</td>\n",
       "      <td>1</td>\n",
       "    </tr>\n",
       "    <tr>\n",
       "      <th>3</th>\n",
       "      <td>&lt;=50K</td>\n",
       "      <td>0</td>\n",
       "      <td>0</td>\n",
       "      <td>0</td>\n",
       "      <td>0</td>\n",
       "      <td>0</td>\n",
       "      <td>0</td>\n",
       "    </tr>\n",
       "  </tbody>\n",
       "</table>\n",
       "</div>"
      ],
      "text/plain": [
       "  Voting classifier  logistic regression  decision tree  random forest  \\\n",
       "0              >50K                    1              1              1   \n",
       "1              >50K                    1              1              1   \n",
       "2              >50K                    1              0              1   \n",
       "3             <=50K                    0              0              0   \n",
       "\n",
       "   XGBoost  LightGBM  CatBoost  \n",
       "0        1         1         1  \n",
       "1        1         1         1  \n",
       "2        1         1         1  \n",
       "3        0         0         0  "
      ]
     },
     "execution_count": 34,
     "metadata": {},
     "output_type": "execute_result"
    }
   ],
   "source": [
    "r1 = {\n",
    "    name: classifier.predict(test_g50k)\n",
    "    for name, classifier in averaging_model.named_estimators_.items()\n",
    "}\n",
    "data.update(r1)\n",
    "pd.DataFrame(data)"
   ]
  },
  {
   "cell_type": "markdown",
   "metadata": {
    "slideshow": {
     "slide_type": "slide"
    }
   },
   "source": [
    "For soft voting, these are the scores:"
   ]
  },
  {
   "cell_type": "code",
   "execution_count": 35,
   "metadata": {},
   "outputs": [
    {
     "data": {
      "text/plain": [
       "{'logistic regression': array([[2.30926389e-14, 1.00000000e+00],\n",
       "        [4.18858309e-01, 5.81141691e-01],\n",
       "        [4.96765232e-01, 5.03234768e-01],\n",
       "        [8.87453869e-01, 1.12546131e-01]]),\n",
       " 'decision tree': array([[0., 1.],\n",
       "        [0., 1.],\n",
       "        [1., 0.],\n",
       "        [1., 0.]]),\n",
       " 'random forest': array([[0.  , 1.  ],\n",
       "        [0.31, 0.69],\n",
       "        [0.37, 0.63],\n",
       "        [0.57, 0.43]]),\n",
       " 'XGBoost': array([[0.00168145, 0.99831855],\n",
       "        [0.30067134, 0.69932866],\n",
       "        [0.31893963, 0.6810604 ],\n",
       "        [0.78900903, 0.21099098]], dtype=float32),\n",
       " 'LightGBM': array([[0.00187645, 0.99812355],\n",
       "        [0.28722892, 0.71277108],\n",
       "        [0.28457261, 0.71542739],\n",
       "        [0.8095596 , 0.1904404 ]]),\n",
       " 'CatBoost': array([[0.00151693, 0.99848307],\n",
       "        [0.28344311, 0.71655689],\n",
       "        [0.32029146, 0.67970854],\n",
       "        [0.81534647, 0.18465353]])}"
      ]
     },
     "execution_count": 35,
     "metadata": {},
     "output_type": "execute_result"
    }
   ],
   "source": [
    "r1 = {\n",
    "    name: classifier.predict_proba(test_g50k)\n",
    "    for name, classifier in averaging_model.named_estimators_.items()\n",
    "}\n",
    "r1"
   ]
  },
  {
   "cell_type": "markdown",
   "metadata": {},
   "source": [
    "(Aside: the probability scores from `DecisionTreeClassifier` are pretty bad)"
   ]
  },
  {
   "cell_type": "markdown",
   "metadata": {
    "slideshow": {
     "slide_type": "slide"
    }
   },
   "source": [
    "Let's see how well this model performs."
   ]
  },
  {
   "cell_type": "code",
   "execution_count": 36,
   "metadata": {
    "slideshow": {
     "slide_type": "-"
    }
   },
   "outputs": [],
   "source": [
    "results[\"Voting\"] = mean_std_cross_val_scores(averaging_model, X_train, y_train)"
   ]
  },
  {
   "cell_type": "code",
   "execution_count": 37,
   "metadata": {
    "slideshow": {
     "slide_type": "-"
    }
   },
   "outputs": [
    {
     "data": {
      "text/html": [
       "<div>\n",
       "<style scoped>\n",
       "    .dataframe tbody tr th:only-of-type {\n",
       "        vertical-align: middle;\n",
       "    }\n",
       "\n",
       "    .dataframe tbody tr th {\n",
       "        vertical-align: top;\n",
       "    }\n",
       "\n",
       "    .dataframe thead th {\n",
       "        text-align: right;\n",
       "    }\n",
       "</style>\n",
       "<table border=\"1\" class=\"dataframe\">\n",
       "  <thead>\n",
       "    <tr style=\"text-align: right;\">\n",
       "      <th></th>\n",
       "      <th>fit_time</th>\n",
       "      <th>score_time</th>\n",
       "      <th>test_score</th>\n",
       "      <th>train_score</th>\n",
       "    </tr>\n",
       "  </thead>\n",
       "  <tbody>\n",
       "    <tr>\n",
       "      <th>Dummy</th>\n",
       "      <td>0.007 (+/- 0.000)</td>\n",
       "      <td>0.005 (+/- 0.000)</td>\n",
       "      <td>0.636 (+/- 0.007)</td>\n",
       "      <td>0.633 (+/- 0.004)</td>\n",
       "    </tr>\n",
       "    <tr>\n",
       "      <th>logistic regression</th>\n",
       "      <td>0.748 (+/- 0.036)</td>\n",
       "      <td>0.019 (+/- 0.000)</td>\n",
       "      <td>0.850 (+/- 0.006)</td>\n",
       "      <td>0.851 (+/- 0.001)</td>\n",
       "    </tr>\n",
       "    <tr>\n",
       "      <th>decision tree</th>\n",
       "      <td>0.169 (+/- 0.002)</td>\n",
       "      <td>0.019 (+/- 0.001)</td>\n",
       "      <td>0.813 (+/- 0.003)</td>\n",
       "      <td>1.000 (+/- 0.000)</td>\n",
       "    </tr>\n",
       "    <tr>\n",
       "      <th>random forest</th>\n",
       "      <td>1.438 (+/- 0.016)</td>\n",
       "      <td>0.093 (+/- 0.001)</td>\n",
       "      <td>0.857 (+/- 0.004)</td>\n",
       "      <td>1.000 (+/- 0.000)</td>\n",
       "    </tr>\n",
       "    <tr>\n",
       "      <th>XGBoost</th>\n",
       "      <td>1.002 (+/- 0.034)</td>\n",
       "      <td>0.028 (+/- 0.000)</td>\n",
       "      <td>0.870 (+/- 0.003)</td>\n",
       "      <td>0.909 (+/- 0.002)</td>\n",
       "    </tr>\n",
       "    <tr>\n",
       "      <th>LightGBM</th>\n",
       "      <td>0.181 (+/- 0.009)</td>\n",
       "      <td>0.026 (+/- 0.001)</td>\n",
       "      <td>0.871 (+/- 0.004)</td>\n",
       "      <td>0.892 (+/- 0.000)</td>\n",
       "    </tr>\n",
       "    <tr>\n",
       "      <th>CatBoost</th>\n",
       "      <td>5.945 (+/- 0.088)</td>\n",
       "      <td>0.094 (+/- 0.001)</td>\n",
       "      <td>0.872 (+/- 0.003)</td>\n",
       "      <td>0.900 (+/- 0.001)</td>\n",
       "    </tr>\n",
       "    <tr>\n",
       "      <th>Voting</th>\n",
       "      <td>9.624 (+/- 0.063)</td>\n",
       "      <td>0.278 (+/- 0.011)</td>\n",
       "      <td>0.868 (+/- 0.003)</td>\n",
       "      <td>NaN</td>\n",
       "    </tr>\n",
       "  </tbody>\n",
       "</table>\n",
       "</div>"
      ],
      "text/plain": [
       "                              fit_time         score_time         test_score  \\\n",
       "Dummy                0.007 (+/- 0.000)  0.005 (+/- 0.000)  0.636 (+/- 0.007)   \n",
       "logistic regression  0.748 (+/- 0.036)  0.019 (+/- 0.000)  0.850 (+/- 0.006)   \n",
       "decision tree        0.169 (+/- 0.002)  0.019 (+/- 0.001)  0.813 (+/- 0.003)   \n",
       "random forest        1.438 (+/- 0.016)  0.093 (+/- 0.001)  0.857 (+/- 0.004)   \n",
       "XGBoost              1.002 (+/- 0.034)  0.028 (+/- 0.000)  0.870 (+/- 0.003)   \n",
       "LightGBM             0.181 (+/- 0.009)  0.026 (+/- 0.001)  0.871 (+/- 0.004)   \n",
       "CatBoost             5.945 (+/- 0.088)  0.094 (+/- 0.001)  0.872 (+/- 0.003)   \n",
       "Voting               9.624 (+/- 0.063)  0.278 (+/- 0.011)  0.868 (+/- 0.003)   \n",
       "\n",
       "                           train_score  \n",
       "Dummy                0.633 (+/- 0.004)  \n",
       "logistic regression  0.851 (+/- 0.001)  \n",
       "decision tree        1.000 (+/- 0.000)  \n",
       "random forest        1.000 (+/- 0.000)  \n",
       "XGBoost              0.909 (+/- 0.002)  \n",
       "LightGBM             0.892 (+/- 0.000)  \n",
       "CatBoost             0.900 (+/- 0.001)  \n",
       "Voting                             NaN  "
      ]
     },
     "execution_count": 37,
     "metadata": {},
     "output_type": "execute_result"
    }
   ],
   "source": [
    "pd.DataFrame(results).T"
   ]
  },
  {
   "cell_type": "markdown",
   "metadata": {},
   "source": [
    "It appears that here we didn't do much better than our best classifier :(. "
   ]
  },
  {
   "cell_type": "markdown",
   "metadata": {
    "slideshow": {
     "slide_type": "slide"
    }
   },
   "source": [
    "Let's try removing decision tree classifier. "
   ]
  },
  {
   "cell_type": "code",
   "execution_count": 38,
   "metadata": {},
   "outputs": [],
   "source": [
    "classifiers_ndt = classifiers.copy()\n",
    "del classifiers_ndt[\"decision tree\"]\n",
    "averaging_model_ndt = VotingClassifier(\n",
    "    list(classifiers_ndt.items()), voting=\"soft\"\n",
    ")  # need the list() here for cross_val to work!\n",
    "\n",
    "results[\"Voting_ndt\"] = mean_std_cross_val_scores(\n",
    "    averaging_model_ndt,\n",
    "    X_train,\n",
    "    y_train,\n",
    "    return_train_score=True,\n",
    "    scoring=scoring_metric,\n",
    ")"
   ]
  },
  {
   "cell_type": "code",
   "execution_count": 39,
   "metadata": {
    "slideshow": {
     "slide_type": "slide"
    }
   },
   "outputs": [
    {
     "data": {
      "text/html": [
       "<div>\n",
       "<style scoped>\n",
       "    .dataframe tbody tr th:only-of-type {\n",
       "        vertical-align: middle;\n",
       "    }\n",
       "\n",
       "    .dataframe tbody tr th {\n",
       "        vertical-align: top;\n",
       "    }\n",
       "\n",
       "    .dataframe thead th {\n",
       "        text-align: right;\n",
       "    }\n",
       "</style>\n",
       "<table border=\"1\" class=\"dataframe\">\n",
       "  <thead>\n",
       "    <tr style=\"text-align: right;\">\n",
       "      <th></th>\n",
       "      <th>fit_time</th>\n",
       "      <th>score_time</th>\n",
       "      <th>test_score</th>\n",
       "      <th>train_score</th>\n",
       "    </tr>\n",
       "  </thead>\n",
       "  <tbody>\n",
       "    <tr>\n",
       "      <th>Dummy</th>\n",
       "      <td>0.007 (+/- 0.000)</td>\n",
       "      <td>0.005 (+/- 0.000)</td>\n",
       "      <td>0.636 (+/- 0.007)</td>\n",
       "      <td>0.633 (+/- 0.004)</td>\n",
       "    </tr>\n",
       "    <tr>\n",
       "      <th>logistic regression</th>\n",
       "      <td>0.748 (+/- 0.036)</td>\n",
       "      <td>0.019 (+/- 0.000)</td>\n",
       "      <td>0.850 (+/- 0.006)</td>\n",
       "      <td>0.851 (+/- 0.001)</td>\n",
       "    </tr>\n",
       "    <tr>\n",
       "      <th>decision tree</th>\n",
       "      <td>0.169 (+/- 0.002)</td>\n",
       "      <td>0.019 (+/- 0.001)</td>\n",
       "      <td>0.813 (+/- 0.003)</td>\n",
       "      <td>1.000 (+/- 0.000)</td>\n",
       "    </tr>\n",
       "    <tr>\n",
       "      <th>random forest</th>\n",
       "      <td>1.438 (+/- 0.016)</td>\n",
       "      <td>0.093 (+/- 0.001)</td>\n",
       "      <td>0.857 (+/- 0.004)</td>\n",
       "      <td>1.000 (+/- 0.000)</td>\n",
       "    </tr>\n",
       "    <tr>\n",
       "      <th>XGBoost</th>\n",
       "      <td>1.002 (+/- 0.034)</td>\n",
       "      <td>0.028 (+/- 0.000)</td>\n",
       "      <td>0.870 (+/- 0.003)</td>\n",
       "      <td>0.909 (+/- 0.002)</td>\n",
       "    </tr>\n",
       "    <tr>\n",
       "      <th>LightGBM</th>\n",
       "      <td>0.181 (+/- 0.009)</td>\n",
       "      <td>0.026 (+/- 0.001)</td>\n",
       "      <td>0.871 (+/- 0.004)</td>\n",
       "      <td>0.892 (+/- 0.000)</td>\n",
       "    </tr>\n",
       "    <tr>\n",
       "      <th>CatBoost</th>\n",
       "      <td>5.945 (+/- 0.088)</td>\n",
       "      <td>0.094 (+/- 0.001)</td>\n",
       "      <td>0.872 (+/- 0.003)</td>\n",
       "      <td>0.900 (+/- 0.001)</td>\n",
       "    </tr>\n",
       "    <tr>\n",
       "      <th>Voting</th>\n",
       "      <td>9.624 (+/- 0.063)</td>\n",
       "      <td>0.278 (+/- 0.011)</td>\n",
       "      <td>0.868 (+/- 0.003)</td>\n",
       "      <td>NaN</td>\n",
       "    </tr>\n",
       "    <tr>\n",
       "      <th>Voting_ndt</th>\n",
       "      <td>9.599 (+/- 0.114)</td>\n",
       "      <td>0.278 (+/- 0.011)</td>\n",
       "      <td>0.872 (+/- 0.003)</td>\n",
       "      <td>0.922 (+/- 0.001)</td>\n",
       "    </tr>\n",
       "  </tbody>\n",
       "</table>\n",
       "</div>"
      ],
      "text/plain": [
       "                              fit_time         score_time         test_score  \\\n",
       "Dummy                0.007 (+/- 0.000)  0.005 (+/- 0.000)  0.636 (+/- 0.007)   \n",
       "logistic regression  0.748 (+/- 0.036)  0.019 (+/- 0.000)  0.850 (+/- 0.006)   \n",
       "decision tree        0.169 (+/- 0.002)  0.019 (+/- 0.001)  0.813 (+/- 0.003)   \n",
       "random forest        1.438 (+/- 0.016)  0.093 (+/- 0.001)  0.857 (+/- 0.004)   \n",
       "XGBoost              1.002 (+/- 0.034)  0.028 (+/- 0.000)  0.870 (+/- 0.003)   \n",
       "LightGBM             0.181 (+/- 0.009)  0.026 (+/- 0.001)  0.871 (+/- 0.004)   \n",
       "CatBoost             5.945 (+/- 0.088)  0.094 (+/- 0.001)  0.872 (+/- 0.003)   \n",
       "Voting               9.624 (+/- 0.063)  0.278 (+/- 0.011)  0.868 (+/- 0.003)   \n",
       "Voting_ndt           9.599 (+/- 0.114)  0.278 (+/- 0.011)  0.872 (+/- 0.003)   \n",
       "\n",
       "                           train_score  \n",
       "Dummy                0.633 (+/- 0.004)  \n",
       "logistic regression  0.851 (+/- 0.001)  \n",
       "decision tree        1.000 (+/- 0.000)  \n",
       "random forest        1.000 (+/- 0.000)  \n",
       "XGBoost              0.909 (+/- 0.002)  \n",
       "LightGBM             0.892 (+/- 0.000)  \n",
       "CatBoost             0.900 (+/- 0.001)  \n",
       "Voting                             NaN  \n",
       "Voting_ndt           0.922 (+/- 0.001)  "
      ]
     },
     "execution_count": 39,
     "metadata": {},
     "output_type": "execute_result"
    }
   ],
   "source": [
    "pd.DataFrame(results).T"
   ]
  },
  {
   "cell_type": "markdown",
   "metadata": {},
   "source": [
    "Still the results are not better than the best performing model. "
   ]
  },
  {
   "cell_type": "markdown",
   "metadata": {
    "slideshow": {
     "slide_type": "slide"
    }
   },
   "source": [
    "- It didn't happen here but how could the average do better than the best model???\n",
    "  - From the perspective of the best estimator (in this case CatBoost), why are you adding on worse estimators??\n"
   ]
  },
  {
   "cell_type": "markdown",
   "metadata": {
    "slideshow": {
     "slide_type": "slide"
    }
   },
   "source": [
    "Here's how this can work:"
   ]
  },
  {
   "cell_type": "markdown",
   "metadata": {},
   "source": [
    "| Example | log reg    | rand forest    | cat boost    | Averaged model |\n",
    "|--------|--------|--------|---------|---------------|\n",
    "|  1     | ✅    |   ✅    | ❌     | ✅✅❌=>✅  |\n",
    "|  2     | ✅    |   ❌    | ✅     | ✅❌✅=>✅  |\n",
    "|  3     | ❌    |   ✅    | ✅     | ❌✅✅=>✅  |\n"
   ]
  },
  {
   "cell_type": "markdown",
   "metadata": {},
   "source": [
    "In short, as long as the different models make different mistakes, this can work."
   ]
  },
  {
   "cell_type": "markdown",
   "metadata": {
    "slideshow": {
     "slide_type": "slide"
    }
   },
   "source": [
    "Why not always do this?\n",
    "\n",
    "1. `fit`/`predict` time.\n",
    "2. Reduction in interpretability.\n",
    "3. Reduction in code maintainability (e.g. Netflix prize)."
   ]
  },
  {
   "cell_type": "markdown",
   "metadata": {
    "slideshow": {
     "slide_type": "slide"
    }
   },
   "source": [
    "### What kind of estimators can we combine? \n",
    "\n",
    "- You can combine \n",
    "    - completely different estimators, or similar estimators.\n",
    "    - estimators trained on different samples.\n",
    "    - estimators with different hyperparameter values."
   ]
  },
  {
   "cell_type": "markdown",
   "metadata": {},
   "source": [
    "<br><br><br><br>"
   ]
  },
  {
   "cell_type": "markdown",
   "metadata": {
    "slideshow": {
     "slide_type": "slide"
    }
   },
   "source": [
    "## Stacking "
   ]
  },
  {
   "cell_type": "markdown",
   "metadata": {
    "slideshow": {
     "slide_type": "slide"
    }
   },
   "source": [
    "\n",
    "- Another type of ensemble is stacking.\n",
    "- Instead of averaging the outputs of each estimator, instead use their outputs as _inputs to another model_.\n",
    "- By default for classification, it uses logistic regression.\n",
    "  - We don't need a complex model here necessarily, more of a weighted average.\n",
    "  - The features going into the logistic regression are the classifier outputs, _not_ the original features!\n",
    "  - So the number of coefficients = the number of base estimators!"
   ]
  },
  {
   "cell_type": "code",
   "execution_count": 40,
   "metadata": {
    "slideshow": {
     "slide_type": "slide"
    }
   },
   "outputs": [],
   "source": [
    "from sklearn.ensemble import StackingClassifier"
   ]
  },
  {
   "cell_type": "markdown",
   "metadata": {},
   "source": [
    "The code starts to get too slow here; so we'll remove CatBoost. "
   ]
  },
  {
   "cell_type": "code",
   "execution_count": 41,
   "metadata": {},
   "outputs": [],
   "source": [
    "classifiers_nocat = classifiers.copy()\n",
    "del classifiers_nocat[\"CatBoost\"]"
   ]
  },
  {
   "cell_type": "code",
   "execution_count": 42,
   "metadata": {},
   "outputs": [],
   "source": [
    "stacking_model = StackingClassifier(list(classifiers_nocat.items()))"
   ]
  },
  {
   "cell_type": "code",
   "execution_count": 43,
   "metadata": {
    "slideshow": {
     "slide_type": "slide"
    }
   },
   "outputs": [],
   "source": [
    "stacking_model.fit(X_train, y_train);"
   ]
  },
  {
   "cell_type": "markdown",
   "metadata": {
    "slideshow": {
     "slide_type": "slide"
    }
   },
   "source": [
    "What's going on in here? \n",
    "\n",
    "- It is doing cross-validation by itself by default (see [documentation](https://scikit-learn.org/stable/modules/generated/sklearn.ensemble.StackingClassifier.html))\n",
    "  - It is fitting the base estimators on the training fold\n",
    "  - And the predicting on the validation fold\n",
    "  - And then fitting the meta-estimator on that output (on the validation fold)"
   ]
  },
  {
   "cell_type": "markdown",
   "metadata": {
    "slideshow": {
     "slide_type": "slide"
    }
   },
   "source": [
    " > Note that estimators_ are fitted on the full X while final_estimator_ is trained using cross-validated predictions of the base estimators using cross_val_predict."
   ]
  },
  {
   "cell_type": "markdown",
   "metadata": {
    "slideshow": {
     "slide_type": "slide"
    }
   },
   "source": [
    "Here is the input features (X) to the meta-model:"
   ]
  },
  {
   "cell_type": "code",
   "execution_count": 44,
   "metadata": {},
   "outputs": [],
   "source": [
    "valid_sample = train_df.sample(4, random_state=2).drop(columns=[\"income\"])"
   ]
  },
  {
   "cell_type": "code",
   "execution_count": 45,
   "metadata": {},
   "outputs": [
    {
     "data": {
      "text/plain": [
       "{'logistic regression': array([[4.33660433e-01, 5.66339567e-01],\n",
       "        [9.99011083e-01, 9.88916715e-04],\n",
       "        [8.60521628e-01, 1.39478372e-01],\n",
       "        [9.95291894e-01, 4.70810637e-03]]),\n",
       " 'decision tree': array([[1., 0.],\n",
       "        [1., 0.],\n",
       "        [1., 0.],\n",
       "        [1., 0.]]),\n",
       " 'random forest': array([[0.88, 0.12],\n",
       "        [1.  , 0.  ],\n",
       "        [0.95, 0.05],\n",
       "        [1.  , 0.  ]]),\n",
       " 'XGBoost': array([[0.75072813, 0.24927188],\n",
       "        [0.99450225, 0.00549777],\n",
       "        [0.95364463, 0.04635534],\n",
       "        [0.9975675 , 0.00243254]], dtype=float32),\n",
       " 'LightGBM': array([[0.56629894, 0.43370106],\n",
       "        [0.99263965, 0.00736035],\n",
       "        [0.91995188, 0.08004812],\n",
       "        [0.99629847, 0.00370153]])}"
      ]
     },
     "execution_count": 45,
     "metadata": {},
     "output_type": "execute_result"
    }
   ],
   "source": [
    "r3 = {\n",
    "    name: pipe.predict_proba(valid_sample)\n",
    "    for (name, pipe) in stacking_model.named_estimators_.items()\n",
    "}\n",
    "r3"
   ]
  },
  {
   "cell_type": "markdown",
   "metadata": {
    "slideshow": {
     "slide_type": "slide"
    }
   },
   "source": [
    "- Our meta-model is logistic regression (which it is by default).\n",
    "- Let's look at the learned coefficients. "
   ]
  },
  {
   "cell_type": "code",
   "execution_count": 46,
   "metadata": {},
   "outputs": [
    {
     "data": {
      "text/html": [
       "<div>\n",
       "<style scoped>\n",
       "    .dataframe tbody tr th:only-of-type {\n",
       "        vertical-align: middle;\n",
       "    }\n",
       "\n",
       "    .dataframe tbody tr th {\n",
       "        vertical-align: top;\n",
       "    }\n",
       "\n",
       "    .dataframe thead th {\n",
       "        text-align: right;\n",
       "    }\n",
       "</style>\n",
       "<table border=\"1\" class=\"dataframe\">\n",
       "  <thead>\n",
       "    <tr style=\"text-align: right;\">\n",
       "      <th></th>\n",
       "      <th>Coefficient</th>\n",
       "    </tr>\n",
       "  </thead>\n",
       "  <tbody>\n",
       "    <tr>\n",
       "      <th>logistic regression</th>\n",
       "      <td>0.763374</td>\n",
       "    </tr>\n",
       "    <tr>\n",
       "      <th>decision tree</th>\n",
       "      <td>-0.011341</td>\n",
       "    </tr>\n",
       "    <tr>\n",
       "      <th>random forest</th>\n",
       "      <td>0.218904</td>\n",
       "    </tr>\n",
       "    <tr>\n",
       "      <th>XGBoost</th>\n",
       "      <td>2.022811</td>\n",
       "    </tr>\n",
       "    <tr>\n",
       "      <th>LightGBM</th>\n",
       "      <td>3.684297</td>\n",
       "    </tr>\n",
       "  </tbody>\n",
       "</table>\n",
       "</div>"
      ],
      "text/plain": [
       "                     Coefficient\n",
       "logistic regression     0.763374\n",
       "decision tree          -0.011341\n",
       "random forest           0.218904\n",
       "XGBoost                 2.022811\n",
       "LightGBM                3.684297"
      ]
     },
     "execution_count": 46,
     "metadata": {},
     "output_type": "execute_result"
    }
   ],
   "source": [
    "pd.DataFrame(\n",
    "    data=stacking_model.final_estimator_.coef_[0],\n",
    "    index=classifiers_nocat.keys(),\n",
    "    columns=[\"Coefficient\"],\n",
    ")"
   ]
  },
  {
   "cell_type": "code",
   "execution_count": 47,
   "metadata": {},
   "outputs": [
    {
     "data": {
      "text/plain": [
       "array([-3.31969265])"
      ]
     },
     "execution_count": 47,
     "metadata": {},
     "output_type": "execute_result"
    }
   ],
   "source": [
    "stacking_model.final_estimator_.intercept_"
   ]
  },
  {
   "cell_type": "markdown",
   "metadata": {},
   "source": [
    "- It seems that the LightGBM is being trusted the most. "
   ]
  },
  {
   "cell_type": "code",
   "execution_count": 48,
   "metadata": {
    "slideshow": {
     "slide_type": "slide"
    }
   },
   "outputs": [
    {
     "data": {
      "text/plain": [
       "array(['>50K', '>50K', '>50K', '<=50K'], dtype=object)"
      ]
     },
     "execution_count": 48,
     "metadata": {},
     "output_type": "execute_result"
    }
   ],
   "source": [
    "stacking_model.predict(test_g50k)"
   ]
  },
  {
   "cell_type": "code",
   "execution_count": 49,
   "metadata": {},
   "outputs": [
    {
     "data": {
      "text/plain": [
       "array([[0.03395944, 0.96604056],\n",
       "       [0.21344064, 0.78655936],\n",
       "       [0.22866283, 0.77133717],\n",
       "       [0.88196957, 0.11803043]])"
      ]
     },
     "execution_count": 49,
     "metadata": {},
     "output_type": "execute_result"
    }
   ],
   "source": [
    "stacking_model.predict_proba(test_g50k)"
   ]
  },
  {
   "cell_type": "markdown",
   "metadata": {},
   "source": [
    "(This is the `predict_proba` from logistic regression)"
   ]
  },
  {
   "cell_type": "markdown",
   "metadata": {
    "slideshow": {
     "slide_type": "slide"
    }
   },
   "source": [
    "Let's see how well this model performs."
   ]
  },
  {
   "cell_type": "code",
   "execution_count": 50,
   "metadata": {
    "slideshow": {
     "slide_type": "-"
    }
   },
   "outputs": [],
   "source": [
    "results[\"Stacking_nocat\"] = mean_std_cross_val_scores(\n",
    "    stacking_model, X_train, y_train, return_train_score=True, scoring=scoring_metric\n",
    ")"
   ]
  },
  {
   "cell_type": "code",
   "execution_count": 51,
   "metadata": {
    "slideshow": {
     "slide_type": "slide"
    }
   },
   "outputs": [
    {
     "data": {
      "text/html": [
       "<div>\n",
       "<style scoped>\n",
       "    .dataframe tbody tr th:only-of-type {\n",
       "        vertical-align: middle;\n",
       "    }\n",
       "\n",
       "    .dataframe tbody tr th {\n",
       "        vertical-align: top;\n",
       "    }\n",
       "\n",
       "    .dataframe thead th {\n",
       "        text-align: right;\n",
       "    }\n",
       "</style>\n",
       "<table border=\"1\" class=\"dataframe\">\n",
       "  <thead>\n",
       "    <tr style=\"text-align: right;\">\n",
       "      <th></th>\n",
       "      <th>fit_time</th>\n",
       "      <th>score_time</th>\n",
       "      <th>test_score</th>\n",
       "      <th>train_score</th>\n",
       "    </tr>\n",
       "  </thead>\n",
       "  <tbody>\n",
       "    <tr>\n",
       "      <th>Dummy</th>\n",
       "      <td>0.007 (+/- 0.000)</td>\n",
       "      <td>0.005 (+/- 0.000)</td>\n",
       "      <td>0.636 (+/- 0.007)</td>\n",
       "      <td>0.633 (+/- 0.004)</td>\n",
       "    </tr>\n",
       "    <tr>\n",
       "      <th>logistic regression</th>\n",
       "      <td>0.748 (+/- 0.036)</td>\n",
       "      <td>0.019 (+/- 0.000)</td>\n",
       "      <td>0.850 (+/- 0.006)</td>\n",
       "      <td>0.851 (+/- 0.001)</td>\n",
       "    </tr>\n",
       "    <tr>\n",
       "      <th>decision tree</th>\n",
       "      <td>0.169 (+/- 0.002)</td>\n",
       "      <td>0.019 (+/- 0.001)</td>\n",
       "      <td>0.813 (+/- 0.003)</td>\n",
       "      <td>1.000 (+/- 0.000)</td>\n",
       "    </tr>\n",
       "    <tr>\n",
       "      <th>random forest</th>\n",
       "      <td>1.438 (+/- 0.016)</td>\n",
       "      <td>0.093 (+/- 0.001)</td>\n",
       "      <td>0.857 (+/- 0.004)</td>\n",
       "      <td>1.000 (+/- 0.000)</td>\n",
       "    </tr>\n",
       "    <tr>\n",
       "      <th>XGBoost</th>\n",
       "      <td>1.002 (+/- 0.034)</td>\n",
       "      <td>0.028 (+/- 0.000)</td>\n",
       "      <td>0.870 (+/- 0.003)</td>\n",
       "      <td>0.909 (+/- 0.002)</td>\n",
       "    </tr>\n",
       "    <tr>\n",
       "      <th>LightGBM</th>\n",
       "      <td>0.181 (+/- 0.009)</td>\n",
       "      <td>0.026 (+/- 0.001)</td>\n",
       "      <td>0.871 (+/- 0.004)</td>\n",
       "      <td>0.892 (+/- 0.000)</td>\n",
       "    </tr>\n",
       "    <tr>\n",
       "      <th>CatBoost</th>\n",
       "      <td>5.945 (+/- 0.088)</td>\n",
       "      <td>0.094 (+/- 0.001)</td>\n",
       "      <td>0.872 (+/- 0.003)</td>\n",
       "      <td>0.900 (+/- 0.001)</td>\n",
       "    </tr>\n",
       "    <tr>\n",
       "      <th>Voting</th>\n",
       "      <td>9.624 (+/- 0.063)</td>\n",
       "      <td>0.278 (+/- 0.011)</td>\n",
       "      <td>0.868 (+/- 0.003)</td>\n",
       "      <td>NaN</td>\n",
       "    </tr>\n",
       "    <tr>\n",
       "      <th>Voting_ndt</th>\n",
       "      <td>9.599 (+/- 0.114)</td>\n",
       "      <td>0.278 (+/- 0.011)</td>\n",
       "      <td>0.872 (+/- 0.003)</td>\n",
       "      <td>0.922 (+/- 0.001)</td>\n",
       "    </tr>\n",
       "    <tr>\n",
       "      <th>Stacking_nocat</th>\n",
       "      <td>18.902 (+/- 0.195)</td>\n",
       "      <td>0.174 (+/- 0.003)</td>\n",
       "      <td>0.872 (+/- 0.004)</td>\n",
       "      <td>0.900 (+/- 0.007)</td>\n",
       "    </tr>\n",
       "  </tbody>\n",
       "</table>\n",
       "</div>"
      ],
      "text/plain": [
       "                               fit_time         score_time         test_score  \\\n",
       "Dummy                 0.007 (+/- 0.000)  0.005 (+/- 0.000)  0.636 (+/- 0.007)   \n",
       "logistic regression   0.748 (+/- 0.036)  0.019 (+/- 0.000)  0.850 (+/- 0.006)   \n",
       "decision tree         0.169 (+/- 0.002)  0.019 (+/- 0.001)  0.813 (+/- 0.003)   \n",
       "random forest         1.438 (+/- 0.016)  0.093 (+/- 0.001)  0.857 (+/- 0.004)   \n",
       "XGBoost               1.002 (+/- 0.034)  0.028 (+/- 0.000)  0.870 (+/- 0.003)   \n",
       "LightGBM              0.181 (+/- 0.009)  0.026 (+/- 0.001)  0.871 (+/- 0.004)   \n",
       "CatBoost              5.945 (+/- 0.088)  0.094 (+/- 0.001)  0.872 (+/- 0.003)   \n",
       "Voting                9.624 (+/- 0.063)  0.278 (+/- 0.011)  0.868 (+/- 0.003)   \n",
       "Voting_ndt            9.599 (+/- 0.114)  0.278 (+/- 0.011)  0.872 (+/- 0.003)   \n",
       "Stacking_nocat       18.902 (+/- 0.195)  0.174 (+/- 0.003)  0.872 (+/- 0.004)   \n",
       "\n",
       "                           train_score  \n",
       "Dummy                0.633 (+/- 0.004)  \n",
       "logistic regression  0.851 (+/- 0.001)  \n",
       "decision tree        1.000 (+/- 0.000)  \n",
       "random forest        1.000 (+/- 0.000)  \n",
       "XGBoost              0.909 (+/- 0.002)  \n",
       "LightGBM             0.892 (+/- 0.000)  \n",
       "CatBoost             0.900 (+/- 0.001)  \n",
       "Voting                             NaN  \n",
       "Voting_ndt           0.922 (+/- 0.001)  \n",
       "Stacking_nocat       0.900 (+/- 0.007)  "
      ]
     },
     "execution_count": 51,
     "metadata": {},
     "output_type": "execute_result"
    }
   ],
   "source": [
    "pd.DataFrame(results).T"
   ]
  },
  {
   "cell_type": "markdown",
   "metadata": {},
   "source": [
    "- The situation here is a bit mind-boggling.\n",
    "- On each fold of cross-validation it is doing cross-validation.\n",
    "- This is really loops within loops within loops within loops..."
   ]
  },
  {
   "cell_type": "markdown",
   "metadata": {
    "slideshow": {
     "slide_type": "slide"
    }
   },
   "source": [
    "- We can also try a different final estimator:\n",
    "- Let's `DecisionTreeClassifier` as a final estimator. "
   ]
  },
  {
   "cell_type": "code",
   "execution_count": 52,
   "metadata": {
    "slideshow": {
     "slide_type": "-"
    }
   },
   "outputs": [],
   "source": [
    "stacking_model_tree = StackingClassifier(\n",
    "    list(classifiers_nocat.items()), final_estimator=DecisionTreeClassifier(max_depth=3)\n",
    ")"
   ]
  },
  {
   "cell_type": "markdown",
   "metadata": {},
   "source": [
    "The results are not very good. But we can look at the tree:"
   ]
  },
  {
   "cell_type": "code",
   "execution_count": 53,
   "metadata": {
    "slideshow": {
     "slide_type": "slide"
    }
   },
   "outputs": [],
   "source": [
    "stacking_model_tree.fit(X_train, y_train);"
   ]
  },
  {
   "cell_type": "code",
   "execution_count": 54,
   "metadata": {
    "slideshow": {
     "slide_type": "-"
    }
   },
   "outputs": [
    {
     "data": {
      "image/svg+xml": [
       "<?xml version=\"1.0\" encoding=\"UTF-8\" standalone=\"no\"?>\n",
       "<!DOCTYPE svg PUBLIC \"-//W3C//DTD SVG 1.1//EN\"\n",
       " \"http://www.w3.org/Graphics/SVG/1.1/DTD/svg11.dtd\">\n",
       "<!-- Generated by graphviz version 2.48.0 (0)\n",
       " -->\n",
       "<!-- Title: Tree Pages: 1 -->\n",
       "<svg width=\"687pt\" height=\"266pt\"\n",
       " viewBox=\"0.00 0.00 687.00 266.00\" xmlns=\"http://www.w3.org/2000/svg\" xmlns:xlink=\"http://www.w3.org/1999/xlink\">\n",
       "<g id=\"graph0\" class=\"graph\" transform=\"scale(1 1) rotate(0) translate(4 262)\">\n",
       "<title>Tree</title>\n",
       "<polygon fill=\"white\" stroke=\"transparent\" points=\"-4,4 -4,-262 683,-262 683,4 -4,4\"/>\n",
       "<!-- 0 -->\n",
       "<g id=\"node1\" class=\"node\">\n",
       "<title>0</title>\n",
       "<polygon fill=\"none\" stroke=\"black\" points=\"407.5,-258 274.5,-258 274.5,-220 407.5,-220 407.5,-258\"/>\n",
       "<text text-anchor=\"middle\" x=\"341\" y=\"-242.8\" font-family=\"Times,serif\" font-size=\"14.00\">LightGBM &lt;= 0.432</text>\n",
       "<text text-anchor=\"middle\" x=\"341\" y=\"-227.8\" font-family=\"Times,serif\" font-size=\"14.00\">class = 0</text>\n",
       "</g>\n",
       "<!-- 1 -->\n",
       "<g id=\"node2\" class=\"node\">\n",
       "<title>1</title>\n",
       "<polygon fill=\"none\" stroke=\"black\" points=\"328,-184 204,-184 204,-146 328,-146 328,-184\"/>\n",
       "<text text-anchor=\"middle\" x=\"266\" y=\"-168.8\" font-family=\"Times,serif\" font-size=\"14.00\">XGBoost &lt;= 0.131</text>\n",
       "<text text-anchor=\"middle\" x=\"266\" y=\"-153.8\" font-family=\"Times,serif\" font-size=\"14.00\">class = 0</text>\n",
       "</g>\n",
       "<!-- 0&#45;&gt;1 -->\n",
       "<g id=\"edge1\" class=\"edge\">\n",
       "<title>0&#45;&gt;1</title>\n",
       "<path fill=\"none\" stroke=\"black\" d=\"M322.07,-219.83C313.01,-211.13 302.02,-200.58 292.17,-191.13\"/>\n",
       "<polygon fill=\"black\" stroke=\"black\" points=\"294.56,-188.56 284.92,-184.16 289.71,-193.61 294.56,-188.56\"/>\n",
       "<text text-anchor=\"middle\" x=\"285.43\" y=\"-205.46\" font-family=\"Times,serif\" font-size=\"14.00\">True</text>\n",
       "</g>\n",
       "<!-- 8 -->\n",
       "<g id=\"node9\" class=\"node\">\n",
       "<title>8</title>\n",
       "<polygon fill=\"none\" stroke=\"black\" points=\"479,-184 355,-184 355,-146 479,-146 479,-184\"/>\n",
       "<text text-anchor=\"middle\" x=\"417\" y=\"-168.8\" font-family=\"Times,serif\" font-size=\"14.00\">XGBoost &lt;= 0.799</text>\n",
       "<text text-anchor=\"middle\" x=\"417\" y=\"-153.8\" font-family=\"Times,serif\" font-size=\"14.00\">class = 1</text>\n",
       "</g>\n",
       "<!-- 0&#45;&gt;8 -->\n",
       "<g id=\"edge8\" class=\"edge\">\n",
       "<title>0&#45;&gt;8</title>\n",
       "<path fill=\"none\" stroke=\"black\" d=\"M360.18,-219.83C369.36,-211.13 380.5,-200.58 390.48,-191.13\"/>\n",
       "<polygon fill=\"black\" stroke=\"black\" points=\"392.98,-193.58 397.83,-184.16 388.16,-188.5 392.98,-193.58\"/>\n",
       "<text text-anchor=\"middle\" x=\"397.15\" y=\"-205.45\" font-family=\"Times,serif\" font-size=\"14.00\">False</text>\n",
       "</g>\n",
       "<!-- 2 -->\n",
       "<g id=\"node3\" class=\"node\">\n",
       "<title>2</title>\n",
       "<polygon fill=\"none\" stroke=\"black\" points=\"181.5,-110 48.5,-110 48.5,-72 181.5,-72 181.5,-110\"/>\n",
       "<text text-anchor=\"middle\" x=\"115\" y=\"-94.8\" font-family=\"Times,serif\" font-size=\"14.00\">LightGBM &lt;= 0.066</text>\n",
       "<text text-anchor=\"middle\" x=\"115\" y=\"-79.8\" font-family=\"Times,serif\" font-size=\"14.00\">class = 0</text>\n",
       "</g>\n",
       "<!-- 1&#45;&gt;2 -->\n",
       "<g id=\"edge2\" class=\"edge\">\n",
       "<title>1&#45;&gt;2</title>\n",
       "<path fill=\"none\" stroke=\"black\" d=\"M227.9,-145.83C207.88,-136.29 183.17,-124.51 161.98,-114.4\"/>\n",
       "<polygon fill=\"black\" stroke=\"black\" points=\"163.36,-111.18 152.83,-110.04 160.35,-117.5 163.36,-111.18\"/>\n",
       "</g>\n",
       "<!-- 5 -->\n",
       "<g id=\"node6\" class=\"node\">\n",
       "<title>5</title>\n",
       "<polygon fill=\"none\" stroke=\"black\" points=\"332.5,-110 199.5,-110 199.5,-72 332.5,-72 332.5,-110\"/>\n",
       "<text text-anchor=\"middle\" x=\"266\" y=\"-94.8\" font-family=\"Times,serif\" font-size=\"14.00\">LightGBM &lt;= 0.254</text>\n",
       "<text text-anchor=\"middle\" x=\"266\" y=\"-79.8\" font-family=\"Times,serif\" font-size=\"14.00\">class = 0</text>\n",
       "</g>\n",
       "<!-- 1&#45;&gt;5 -->\n",
       "<g id=\"edge5\" class=\"edge\">\n",
       "<title>1&#45;&gt;5</title>\n",
       "<path fill=\"none\" stroke=\"black\" d=\"M266,-145.83C266,-138.13 266,-128.97 266,-120.42\"/>\n",
       "<polygon fill=\"black\" stroke=\"black\" points=\"269.5,-120.41 266,-110.41 262.5,-120.41 269.5,-120.41\"/>\n",
       "</g>\n",
       "<!-- 3 -->\n",
       "<g id=\"node4\" class=\"node\">\n",
       "<title>3</title>\n",
       "<polygon fill=\"none\" stroke=\"black\" points=\"66,-36 0,-36 0,0 66,0 66,-36\"/>\n",
       "<text text-anchor=\"middle\" x=\"33\" y=\"-14.3\" font-family=\"Times,serif\" font-size=\"14.00\">class = 0</text>\n",
       "</g>\n",
       "<!-- 2&#45;&gt;3 -->\n",
       "<g id=\"edge3\" class=\"edge\">\n",
       "<title>2&#45;&gt;3</title>\n",
       "<path fill=\"none\" stroke=\"black\" d=\"M93.88,-71.72C83.65,-62.85 71.24,-52.11 60.29,-42.63\"/>\n",
       "<polygon fill=\"black\" stroke=\"black\" points=\"62.49,-39.9 52.64,-36 57.91,-45.2 62.49,-39.9\"/>\n",
       "</g>\n",
       "<!-- 4 -->\n",
       "<g id=\"node5\" class=\"node\">\n",
       "<title>4</title>\n",
       "<polygon fill=\"none\" stroke=\"black\" points=\"150,-36 84,-36 84,0 150,0 150,-36\"/>\n",
       "<text text-anchor=\"middle\" x=\"117\" y=\"-14.3\" font-family=\"Times,serif\" font-size=\"14.00\">class = 0</text>\n",
       "</g>\n",
       "<!-- 2&#45;&gt;4 -->\n",
       "<g id=\"edge4\" class=\"edge\">\n",
       "<title>2&#45;&gt;4</title>\n",
       "<path fill=\"none\" stroke=\"black\" d=\"M115.52,-71.72C115.73,-63.97 115.99,-54.79 116.23,-46.27\"/>\n",
       "<polygon fill=\"black\" stroke=\"black\" points=\"119.74,-46.1 116.52,-36 112.74,-45.9 119.74,-46.1\"/>\n",
       "</g>\n",
       "<!-- 6 -->\n",
       "<g id=\"node7\" class=\"node\">\n",
       "<title>6</title>\n",
       "<polygon fill=\"none\" stroke=\"black\" points=\"248,-36 182,-36 182,0 248,0 248,-36\"/>\n",
       "<text text-anchor=\"middle\" x=\"215\" y=\"-14.3\" font-family=\"Times,serif\" font-size=\"14.00\">class = 0</text>\n",
       "</g>\n",
       "<!-- 5&#45;&gt;6 -->\n",
       "<g id=\"edge6\" class=\"edge\">\n",
       "<title>5&#45;&gt;6</title>\n",
       "<path fill=\"none\" stroke=\"black\" d=\"M252.87,-71.72C246.87,-63.37 239.68,-53.35 233.17,-44.3\"/>\n",
       "<polygon fill=\"black\" stroke=\"black\" points=\"235.89,-42.08 227.21,-36 230.21,-46.17 235.89,-42.08\"/>\n",
       "</g>\n",
       "<!-- 7 -->\n",
       "<g id=\"node8\" class=\"node\">\n",
       "<title>7</title>\n",
       "<polygon fill=\"none\" stroke=\"black\" points=\"332,-36 266,-36 266,0 332,0 332,-36\"/>\n",
       "<text text-anchor=\"middle\" x=\"299\" y=\"-14.3\" font-family=\"Times,serif\" font-size=\"14.00\">class = 0</text>\n",
       "</g>\n",
       "<!-- 5&#45;&gt;7 -->\n",
       "<g id=\"edge7\" class=\"edge\">\n",
       "<title>5&#45;&gt;7</title>\n",
       "<path fill=\"none\" stroke=\"black\" d=\"M274.5,-71.72C278.26,-63.63 282.75,-53.97 286.85,-45.14\"/>\n",
       "<polygon fill=\"black\" stroke=\"black\" points=\"290.06,-46.55 291.1,-36 283.71,-43.6 290.06,-46.55\"/>\n",
       "</g>\n",
       "<!-- 9 -->\n",
       "<g id=\"node10\" class=\"node\">\n",
       "<title>9</title>\n",
       "<polygon fill=\"none\" stroke=\"black\" points=\"483.5,-110 350.5,-110 350.5,-72 483.5,-72 483.5,-110\"/>\n",
       "<text text-anchor=\"middle\" x=\"417\" y=\"-94.8\" font-family=\"Times,serif\" font-size=\"14.00\">LightGBM &lt;= 0.577</text>\n",
       "<text text-anchor=\"middle\" x=\"417\" y=\"-79.8\" font-family=\"Times,serif\" font-size=\"14.00\">class = 1</text>\n",
       "</g>\n",
       "<!-- 8&#45;&gt;9 -->\n",
       "<g id=\"edge9\" class=\"edge\">\n",
       "<title>8&#45;&gt;9</title>\n",
       "<path fill=\"none\" stroke=\"black\" d=\"M417,-145.83C417,-138.13 417,-128.97 417,-120.42\"/>\n",
       "<polygon fill=\"black\" stroke=\"black\" points=\"420.5,-120.41 417,-110.41 413.5,-120.41 420.5,-120.41\"/>\n",
       "</g>\n",
       "<!-- 12 -->\n",
       "<g id=\"node13\" class=\"node\">\n",
       "<title>12</title>\n",
       "<polygon fill=\"none\" stroke=\"black\" points=\"626,-110 502,-110 502,-72 626,-72 626,-110\"/>\n",
       "<text text-anchor=\"middle\" x=\"564\" y=\"-94.8\" font-family=\"Times,serif\" font-size=\"14.00\">XGBoost &lt;= 0.917</text>\n",
       "<text text-anchor=\"middle\" x=\"564\" y=\"-79.8\" font-family=\"Times,serif\" font-size=\"14.00\">class = 1</text>\n",
       "</g>\n",
       "<!-- 8&#45;&gt;12 -->\n",
       "<g id=\"edge12\" class=\"edge\">\n",
       "<title>8&#45;&gt;12</title>\n",
       "<path fill=\"none\" stroke=\"black\" d=\"M454.09,-145.83C473.49,-136.33 497.42,-124.61 517.99,-114.54\"/>\n",
       "<polygon fill=\"black\" stroke=\"black\" points=\"519.73,-117.58 527.17,-110.04 516.65,-111.29 519.73,-117.58\"/>\n",
       "</g>\n",
       "<!-- 10 -->\n",
       "<g id=\"node11\" class=\"node\">\n",
       "<title>10</title>\n",
       "<polygon fill=\"none\" stroke=\"black\" points=\"423,-36 357,-36 357,0 423,0 423,-36\"/>\n",
       "<text text-anchor=\"middle\" x=\"390\" y=\"-14.3\" font-family=\"Times,serif\" font-size=\"14.00\">class = 0</text>\n",
       "</g>\n",
       "<!-- 9&#45;&gt;10 -->\n",
       "<g id=\"edge10\" class=\"edge\">\n",
       "<title>9&#45;&gt;10</title>\n",
       "<path fill=\"none\" stroke=\"black\" d=\"M410.05,-71.72C407,-63.72 403.38,-54.18 400.05,-45.42\"/>\n",
       "<polygon fill=\"black\" stroke=\"black\" points=\"403.29,-44.11 396.47,-36 396.75,-46.59 403.29,-44.11\"/>\n",
       "</g>\n",
       "<!-- 11 -->\n",
       "<g id=\"node12\" class=\"node\">\n",
       "<title>11</title>\n",
       "<polygon fill=\"none\" stroke=\"black\" points=\"507,-36 441,-36 441,0 507,0 507,-36\"/>\n",
       "<text text-anchor=\"middle\" x=\"474\" y=\"-14.3\" font-family=\"Times,serif\" font-size=\"14.00\">class = 1</text>\n",
       "</g>\n",
       "<!-- 9&#45;&gt;11 -->\n",
       "<g id=\"edge11\" class=\"edge\">\n",
       "<title>9&#45;&gt;11</title>\n",
       "<path fill=\"none\" stroke=\"black\" d=\"M431.68,-71.72C438.45,-63.29 446.59,-53.15 453.91,-44.02\"/>\n",
       "<polygon fill=\"black\" stroke=\"black\" points=\"456.82,-45.99 460.35,-36 451.36,-41.61 456.82,-45.99\"/>\n",
       "</g>\n",
       "<!-- 13 -->\n",
       "<g id=\"node14\" class=\"node\">\n",
       "<title>13</title>\n",
       "<polygon fill=\"none\" stroke=\"black\" points=\"595,-36 529,-36 529,0 595,0 595,-36\"/>\n",
       "<text text-anchor=\"middle\" x=\"562\" y=\"-14.3\" font-family=\"Times,serif\" font-size=\"14.00\">class = 1</text>\n",
       "</g>\n",
       "<!-- 12&#45;&gt;13 -->\n",
       "<g id=\"edge13\" class=\"edge\">\n",
       "<title>12&#45;&gt;13</title>\n",
       "<path fill=\"none\" stroke=\"black\" d=\"M563.48,-71.72C563.27,-63.97 563.01,-54.79 562.77,-46.27\"/>\n",
       "<polygon fill=\"black\" stroke=\"black\" points=\"566.26,-45.9 562.48,-36 559.26,-46.1 566.26,-45.9\"/>\n",
       "</g>\n",
       "<!-- 14 -->\n",
       "<g id=\"node15\" class=\"node\">\n",
       "<title>14</title>\n",
       "<polygon fill=\"none\" stroke=\"black\" points=\"679,-36 613,-36 613,0 679,0 679,-36\"/>\n",
       "<text text-anchor=\"middle\" x=\"646\" y=\"-14.3\" font-family=\"Times,serif\" font-size=\"14.00\">class = 1</text>\n",
       "</g>\n",
       "<!-- 12&#45;&gt;14 -->\n",
       "<g id=\"edge14\" class=\"edge\">\n",
       "<title>12&#45;&gt;14</title>\n",
       "<path fill=\"none\" stroke=\"black\" d=\"M585.12,-71.72C595.35,-62.85 607.76,-52.11 618.71,-42.63\"/>\n",
       "<polygon fill=\"black\" stroke=\"black\" points=\"621.09,-45.2 626.36,-36 616.51,-39.9 621.09,-45.2\"/>\n",
       "</g>\n",
       "</g>\n",
       "</svg>\n"
      ],
      "text/plain": [
       "<graphviz.files.Source at 0x13a25f310>"
      ]
     },
     "execution_count": 54,
     "metadata": {},
     "output_type": "execute_result"
    }
   ],
   "source": [
    "display_tree(list(classifiers_nocat.keys()), stacking_model_tree.final_estimator_)"
   ]
  },
  {
   "cell_type": "markdown",
   "metadata": {
    "slideshow": {
     "slide_type": "slide"
    }
   },
   "source": [
    "#### An effective strategy\n",
    "\n",
    "- Randomly generate a bunch of models with different hyperparameter configurations, and then stack all the models."
   ]
  },
  {
   "cell_type": "markdown",
   "metadata": {
    "slideshow": {
     "slide_type": "slide"
    }
   },
   "source": [
    "- What is an advantage of ensembling multiple models as opposed to just choosing one of them?\n",
    "    - You may get a better score.\n",
    "- What is an disadvantage of ensembling multiple models as opposed to just choosing one of them?\n",
    "    - Slower, more code maintenance issues."
   ]
  },
  {
   "cell_type": "markdown",
   "metadata": {
    "slideshow": {
     "slide_type": "slide"
    }
   },
   "source": [
    "## Summary \n",
    "\n",
    "- You have a number of models in your toolbox now.  \n",
    "- Ensembles are usually pretty effective.\n",
    "  - Tree-based classifiers are particularly popular and effective on a wide range of problems. \n",
    "  - But they trade off code complexity and speed for prediction accuracy.\n",
    "  - Don't forget that hyperparameter optimization multiplies the slowness of the code!\n",
    "- Stacking is a bit slower than voting, but generally higher accuracy.\n",
    "  - As a bonus, you get to see the coefficients for each base classifier.\n",
    "- All the above models have equivalent regression models.   "
   ]
  },
  {
   "cell_type": "markdown",
   "metadata": {
    "slideshow": {
     "slide_type": "slide"
    }
   },
   "source": [
    "#### Relevant papers\n",
    "\n",
    "- [Fernandez-Delgado et al. 2014](http://jmlr.org/papers/volume15/delgado14a/delgado14a.pdf) compared 179 classifiers on 121 datasets:\n",
    "    - First best class of methods was Random Forest and second best class of methods was (RBF) SVMs.\n",
    "\n",
    "- If you like to read original papers [here](https://www.stat.berkeley.edu/~breiman/randomforest2001.pdf) is the original paper on Random Forests by Leo Breiman. "
   ]
  },
  {
   "cell_type": "markdown",
   "metadata": {
    "slideshow": {
     "slide_type": "slide"
    }
   },
   "source": [
    "## True or False questions on Random Forests (Class discussion)\n",
    "\n",
    "1. Every tree in a random forest uses a different bootstrap sample of the training set.\n",
    "2. To train a tree in a random forest, we first randomly select a subset of features. The tree is then restricted to only using those features.\n",
    "3. A reasonable implementation of `predict_proba` for random forests would be for each tree to \"vote\" and then normalize these vote counts into probabilities.\n",
    "4. Increasing the hyperparameter max_features (the number of features to consider for a split) makes the model more complex and moves the fundamental tradeoff toward lower training error. \n",
    "5. A random forest with only one tree is likely to get a higher training error than a decision tree of the same depth."
   ]
  },
  {
   "cell_type": "markdown",
   "metadata": {
    "slideshow": {
     "slide_type": "slide"
    }
   },
   "source": [
    "How would you carry out \"soft voting\" with `predict_proba` output instead of hard voting for random forests? "
   ]
  }
 ],
 "metadata": {
  "celltoolbar": "Slideshow",
  "kernelspec": {
   "display_name": "Python [conda env:cpsc330]",
   "language": "python",
   "name": "conda-env-cpsc330-py"
  },
  "language_info": {
   "codemirror_mode": {
    "name": "ipython",
    "version": 3
   },
   "file_extension": ".py",
   "mimetype": "text/x-python",
   "name": "python",
   "nbconvert_exporter": "python",
   "pygments_lexer": "ipython3",
   "version": "3.9.7"
  }
 },
 "nbformat": 4,
 "nbformat_minor": 4
}
